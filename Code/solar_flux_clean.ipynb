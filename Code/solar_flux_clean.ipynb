{
 "cells": [
  {
   "cell_type": "code",
   "execution_count": 1,
   "metadata": {},
   "outputs": [],
   "source": [
    "import numpy as np\n",
    "import matplotlib.pyplot as plt\n",
    "from scipy.special import erf\n",
    "import astropy.units as unit\n",
    "import astropy.constants as const\n",
    "import itertools"
   ]
  },
  {
   "cell_type": "code",
   "execution_count": 3,
   "metadata": {},
   "outputs": [],
   "source": [
    "#Define constants\n",
    "a = 6.642 #Lattice constant, Angstroms = 1e-10m, from Dent paper. \n",
    "hbar_kevs = (const.hbar.to(unit.keV*unit.s)).value #hbar, keV*s, from astropy\n",
    "c_aas = (const.c.to(unit.AA/unit.s)).value #speed of light, angstrom/s (cancels with a), from astropy\n",
    "me_hca = (const.m_e/((const.hbar/(const.c*unit.AA)).si)).value #Electron mass, in units of... hbar/(c*AA) to cancel with |G| (LMAOOOOO)\n",
    "me_hca\n",
    "\n",
    "# Define unknown constants\n",
    "g_agg = 2e-10 #g_agg (axion-photon-photon) coupling constant; in GeV^(-1) (for photon coalescence)\n",
    "g_ag = 1e-10 #Axion-photon coupling (Primakoff process), in GeV^(-1).\n",
    "#Upper bound on g_ag of 2.7e-10 from the Sun, see Di Luzio's review\n",
    "lmda = (g_agg/(1e-8))**4\n",
    "phi_0 = 5.95e14 #in cm^(-2) s^(-1)\n",
    "E_0    = 1.103 #in keV\n",
    "\n",
    "#Crystal Geometry\n",
    "diam = 110*unit.mm\n",
    "hgt = 250*unit.mm \n",
    "#vol = ((np.pi*(diam/2)**2*hgt).to(unit.AA**3)).value #Crystal volume, in AA^3\n",
    "vol = ((50*unit.kg/(3.67*unit.g*(unit.cm)**(-3))).to(unit.AA**3)).value\n",
    "#Make volume make the mass like 7kg\n",
    "vol_cell = 67.71 #In AA^3, from Dent paper"
   ]
  },
  {
   "cell_type": "code",
   "execution_count": 4,
   "metadata": {},
   "outputs": [],
   "source": [
    "#Define useful functions\n",
    "def make_hkl(max_h=5,max_k=5,max_l=5, s=False):\n",
    "    '''This might need to be remade based on what the \"primitives\" are. Condition is h,k,l must be even.\n",
    "    F mandates h,k,l share a parity, and S mandates h+k+l is even'''\n",
    "    full_arr = list(itertools.product(range(max_h), range(max_k), range(max_l)))\n",
    "    if s:\n",
    "        filter_func = lambda triple: (triple[0]%2 == triple[1]%2) & (triple[0]%2 == triple[2]%2) & (triple[0]%2 == 0)\n",
    "        return np.array(list(filter(filter_func, full_arr)))[1:]\n",
    "    else:\n",
    "        filter_func = lambda triple: (triple[0]%2 == triple[1]%2) & (triple[0]%2 == triple[2]%2)\n",
    "        return np.array(list(filter(filter_func, full_arr)))[1:]\n",
    "\n",
    "\n",
    "def make_hkl_s(max_h=5,max_k=5,max_l=5):\n",
    "    '''hkl array, where the only condition is h+k+l must be even'''\n",
    "    full_list = list(itertools.product(range(max_h),range(max_k),range(max_l)))\n",
    "    filter_func = lambda triple: sum(triple)%2 == 0\n",
    "    return np.array(list(filter(filter_func, full_list)))[1:] #remove (0,0,0)\n",
    "    \n",
    "\n",
    "def mod2(vec3):\n",
    "    '''Returns the dimensionless magnitude of an array of vectors in the (h,k,l) basis. Factor of 2pi/a has to be multiplied manually'''\n",
    "    return 3*(vec3[:,0]**2 + vec3[:,1]**2 + vec3[:,2]**2) - 2*(vec3[:,0]*vec3[:,1] + vec3[:,1]*vec3[:,2] + vec3[:,2]*vec3[:,0])\n",
    "\n",
    "def gdotk(hkl_arr):\n",
    "    '''Returns gHAT dot kHAT, assuming kHat is in the cartesian x direction'''\n",
    "    return (-hkl_arr[:,0]+hkl_arr[:,1]+hkl_arr[:,2])/np.sqrt(mod2(hkl_arr))\n",
    "\n",
    "def w_func(Ea, dVector = False, Delta=1.5, E1=1, E2=6):\n",
    "    '''Returns array of W(Ea, Delta, E1, E2) where everything is in keV. Infinite Ea is dealt with'''\n",
    "    w_list = []\n",
    "    if dVector:\n",
    "        entangle = np.dstack((Ea, Delta))\n",
    "        for index in range(entangle.shape[1]):\n",
    "            E = entangle[0,index,0]\n",
    "            D = entangle[0,index,1]\n",
    "            if np.isinf(E) or E<0:\n",
    "                w_list.append(0)\n",
    "            else:\n",
    "                w = (1/2)*(erf((E-E1)/(np.sqrt(2)*D)) - erf((E-E2)/(np.sqrt(2)*D)))\n",
    "                w_list.append(w)\n",
    "    else:\n",
    "        for E in Ea:\n",
    "            if np.isinf(E) or E<0:\n",
    "                w_list.append(0)\n",
    "            else:\n",
    "                w = (1/2)*(erf((E-E1)/(np.sqrt(2)*Delta)) - erf((E-E2)/(np.sqrt(2)*Delta)))\n",
    "                w_list.append(w)\n",
    "    return np.array(w_list)\n",
    "\n",
    "def make_dpde(Energy_array):\n",
    "    '''Creates dPhi/dE for the parametrised blackbody-like form appearing in older papers. Assumes no axion mass.\n",
    "    Units of cm^(-2) s^(-1) keV^(-1)'''\n",
    "    dpdt_list = []\n",
    "    for E in Energy_array:\n",
    "        if np.isinf(E):\n",
    "            dpdt_list.append(0)\n",
    "        else:\n",
    "            dpdt_list.append(np.sqrt(lmda)*(phi_0)/(E_0) * (E/E_0)**3/(np.exp(E/E_0)-1))\n",
    "    return np.array(dpdt_list)\n",
    "\n",
    "def FA_q(q2, Z=51):\n",
    "    '''Returns form factor given an input in AA^(-2)'''\n",
    "    qme = q2/0.1308\n",
    "    A = 184.15*np.exp(-1/2)*Z**(-1/3)\n",
    "    return Z*A**2*qme/(1+A**2*qme)\n",
    "\n",
    "def make_delta(energy):\n",
    "    '''Returns Delta (approx 15%*sqrt(E)*E) for an energy array, setting infinities and negatives to zero'''\n",
    "    output = []\n",
    "    for E in energy:\n",
    "        if E<0 or np.isinf(E):\n",
    "            output.append(0)\n",
    "        else:\n",
    "            output.append(0.15463505424062166*np.sqrt(E/1000)*E)\n",
    "    return np.array(output)\n"
   ]
  },
  {
   "cell_type": "code",
   "execution_count": 7,
   "metadata": {},
   "outputs": [],
   "source": [
    "def complete_dndt(max_hkl = 5, print_output = False):\n",
    "    hkl = np.array(make_hkl_s(max_h = max_hkl, \n",
    "                              max_k = max_hkl,\n",
    "                              max_l = max_hkl)) #Indexed to [25,2], removing trivial case\n",
    "    # compare with (h+k+l) even against (h,k,l) all add/all even\n",
    "\n",
    "    g_arr = (2*np.pi/a)*hkl #G vectors, in AA^(-1)\n",
    "\n",
    "    mod2_g = mod2(g_arr) #Magnitude square of G vectors, \n",
    "    FAq = FA_q(mod2_g)\n",
    "\n",
    "    ginv_array = 1/mod2_g\n",
    "\n",
    "    gk = gdotk(g_arr)\n",
    "\n",
    "    sin2 = 4*gk**2*(1-gk**2)\n",
    "\n",
    "    summand = FAq*ginv_array*sin2*4 #Use *4 if implementing s\n",
    "\n",
    "    E_arr = hbar_kevs*c_aas*np.sqrt(mod2_g)/(2*gk) #in keV\n",
    "    #The infinities here are fine; they go to zero in the W function\n",
    "\n",
    "    W = w_func(E_arr, E1=1, E2=20, dVector=True, Delta = make_delta(E_arr)) #Delta from Simulation of BG report\n",
    "    \n",
    "    dphi_de = make_dpde(E_arr)\n",
    "    final_summand = W*dphi_de*1e-16*summand #1e-16 to cancel angstroms and cm\n",
    "\n",
    "    nt_constant = np.pi*(g_ag*1e-6)**2*(hbar_kevs*c_aas)**3*vol/(vol_cell**2) #in keV\n",
    "    final_dndt = nt_constant*np.sum(final_summand) #in s^(-1), 1e-16 converts angstroms and cm\n",
    "    if print_output:\n",
    "        print(\"dN/dt = {:.3e} s^(-1)\".format(final_dndt))\n",
    "    return (final_dndt*(unit.s**(-1))*(3*unit.year)).si"
   ]
  },
  {
   "cell_type": "code",
   "execution_count": 8,
   "metadata": {},
   "outputs": [
    {
     "name": "stderr",
     "output_type": "stream",
     "text": [
      "C:\\Users\\taase\\AppData\\Local\\Temp\\ipykernel_20388\\4052846877.py:20: RuntimeWarning: divide by zero encountered in divide\n",
      "  E_arr = hbar_kevs*c_aas*np.sqrt(mod2_g)/(2*gk) #in keV\n",
      "C:\\Users\\taase\\AppData\\Local\\Temp\\ipykernel_20388\\2810088575.py:59: RuntimeWarning: overflow encountered in exp\n",
      "  dpdt_list.append(np.sqrt(lmda)*(phi_0)/(E_0) * (E/E_0)**3/(np.exp(E/E_0)-1))\n"
     ]
    },
    {
     "data": {
      "text/latex": [
       "$0.25952332 \\; \\mathrm{}$"
      ],
      "text/plain": [
       "<Quantity 0.25952332>"
      ]
     },
     "execution_count": 8,
     "metadata": {},
     "output_type": "execute_result"
    }
   ],
   "source": [
    "complete_dndt()"
   ]
  },
  {
   "cell_type": "code",
   "execution_count": null,
   "metadata": {},
   "outputs": [],
   "source": []
  }
 ],
 "metadata": {
  "kernelspec": {
   "display_name": "base",
   "language": "python",
   "name": "python3"
  },
  "language_info": {
   "codemirror_mode": {
    "name": "ipython",
    "version": 3
   },
   "file_extension": ".py",
   "mimetype": "text/x-python",
   "name": "python",
   "nbconvert_exporter": "python",
   "pygments_lexer": "ipython3",
   "version": "3.9.13"
  }
 },
 "nbformat": 4,
 "nbformat_minor": 2
}
