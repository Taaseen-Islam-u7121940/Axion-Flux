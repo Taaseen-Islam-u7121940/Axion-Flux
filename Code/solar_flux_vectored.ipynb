{
 "cells": [
  {
   "cell_type": "code",
   "execution_count": 2,
   "metadata": {},
   "outputs": [],
   "source": [
    "import numpy as np\n",
    "import matplotlib.pyplot as plt\n",
    "from scipy.special import erf\n",
    "import astropy.units as unit\n",
    "import astropy.constants as const\n",
    "import itertools\n",
    "#commit test \n",
    "#Another test commit"
   ]
  },
  {
   "cell_type": "code",
   "execution_count": 3,
   "metadata": {},
   "outputs": [
    {
     "data": {
      "text/plain": [
       "258.9605074819228"
      ]
     },
     "execution_count": 3,
     "metadata": {},
     "output_type": "execute_result"
    }
   ],
   "source": [
    "#Define constants\n",
    "a = 6.642 #Lattice constant, Angstroms = 1e-10m, from Dent paper. \n",
    "hbar_kevs = (const.hbar.to(unit.keV*unit.s)).value #hbar, keV*s, from astropy\n",
    "c_aas = (const.c.to(unit.AA/unit.s)).value #speed of light, angstrom/s (cancels with a), from astropy\n",
    "me_hca = (const.m_e/((const.hbar/(const.c*unit.AA)).si)).value #Electron mass, in units of... hbar/(c*AA) to cancel with |G| (LMAOOOOO)\n",
    "me_hca"
   ]
  },
  {
   "cell_type": "code",
   "execution_count": 4,
   "metadata": {},
   "outputs": [
    {
     "data": {
      "text/plain": [
       "0.130834396"
      ]
     },
     "execution_count": 4,
     "metadata": {},
     "output_type": "execute_result"
    }
   ],
   "source": [
    "0.511e6*2.56036e-7"
   ]
  },
  {
   "cell_type": "code",
   "execution_count": 5,
   "metadata": {},
   "outputs": [],
   "source": [
    "# Define unknown constants\n",
    "g_agg = 1e-10 #g_agg (axion-photon-photon) coupling constant; in GeV^(-1) (for photon coalescence)\n",
    "g_ag = 1e-10 #Axion-photon coupling (Primakoff process), in GeV^(-1).\n",
    "#Upper bound on g_ag of 2.7e-10 from the Sun, see Di Luzio's review\n",
    "lmda = (g_agg/(1e-8))**4\n",
    "phi_0 = 5.95e14 #in cm^(-2) s^(-1)\n",
    "E_0    = 1.103 #in keV\n",
    "\n",
    "#Crystal Geometry\n",
    "diam = 110*unit.mm\n",
    "hgt = 250*unit.mm \n",
    "vol = ((np.pi*(diam/2)**2*hgt).to(unit.AA**3)).value #Crystal volume, in AA^3\n",
    "\n",
    "vol_cell = 67.71 #In AA^3, from Dent paper"
   ]
  },
  {
   "cell_type": "code",
   "execution_count": 6,
   "metadata": {},
   "outputs": [],
   "source": [
    "#Define useful functions\n",
    "\n",
    "def make_hkl(max_h=5,max_k=5,max_l=5, s=False):\n",
    "    '''This might need to be remade based on what the \"primitives\" are. Condition is h,k,l must be even.\n",
    "    F mandates h,k,l share a parity, and S mandates h+k+l is even'''\n",
    "    output_list = []\n",
    "    for h in range(max_h+1):\n",
    "        for k in range(max_k+1):\n",
    "            if k%2 == h%2:\n",
    "                for l in range(max_l+1):\n",
    "                    if l%2 == h%2:\n",
    "                        if s:\n",
    "                            if l%2 == 0:\n",
    "                                output_list.append((h,k,l))\n",
    "                        else:\n",
    "                            output_list.append((h,k,l))\n",
    "    return output_list[1:]\n",
    "\n",
    "def make_hkl_s(max_h=5,max_k=5,max_l=5):\n",
    "    '''hkl array, where the only condition is h+k+l must be even'''\n",
    "    output_list = []\n",
    "    full_list = list(itertools.product(range(max_h),range(max_k),range(max_l)))\n",
    "    for triplet in full_list:\n",
    "        if (triplet[0]+triplet[1]+triplet[2])%2 == 0:\n",
    "            output_list.append(triplet)\n",
    "    return np.array(output_list[1:]) #remove (0,0,0)\n",
    "    \n",
    "\n",
    "def mod2(vec3):\n",
    "    '''Returns the dimensionless magnitude of an array of vectors in the (h,k,l) basis. Factor of 2pi/a has to be multiplied manually'''\n",
    "    return 3*(vec3[:,0]**2 + vec3[:,1]**2 + vec3[:,2]**2) - 2*(vec3[:,0]*vec3[:,1] + vec3[:,1]*vec3[:,2] + vec3[:,2]*vec3[:,0])\n",
    "\n",
    "def gdotk(hkl_arr):\n",
    "    '''Returns gHAT dot kHAT, assuming kHat is in the cartesian x direction'''\n",
    "    return (-hkl_arr[:,0]+hkl_arr[:,1]+hkl_arr[:,2])/np.sqrt(mod2(hkl_arr))\n",
    "\n",
    "def w_func(Ea, dVector = False, Delta=1.5, E1=1, E2=6):\n",
    "    '''Returns array of W(Ea, Delta, E1, E2) where everything is in keV. Infinite Ea is dealt with'''\n",
    "    w_list = []\n",
    "    if dVector:\n",
    "        entangle = np.dstack((Ea, Delta))\n",
    "        for index in range(entangle.shape[1]):\n",
    "            E = entangle[0,index,0]\n",
    "            D = entangle[0,index,1]\n",
    "            if np.isinf(E):\n",
    "                w_list.append(0)\n",
    "            else:\n",
    "                w = (1/2)*(erf((E-E1)/(np.sqrt(2)*D)) - erf((E-E2)/(np.sqrt(2)*D)))\n",
    "                w_list.append(w)\n",
    "    else:\n",
    "        for E in Ea:\n",
    "            if np.isinf(E):\n",
    "                w_list.append(0)\n",
    "            else:\n",
    "                w = (1/2)*(erf((E-E1)/(np.sqrt(2)*Delta)) - erf((E-E2)/(np.sqrt(2)*Delta)))\n",
    "                w_list.append(w)\n",
    "    return np.array(w_list)\n",
    "\n",
    "def make_dpde(Energy_array):\n",
    "    '''Creates dPhi/dE for the parametrised blackbody-like form appearing in older papers. Assumes no axion mass.\n",
    "    Units of cm^(-2) s^(-1) keV^(-1)'''\n",
    "    dpdt_list = []\n",
    "    for E in Energy_array:\n",
    "        if np.isinf(E):\n",
    "            dpdt_list.append(0)\n",
    "        else:\n",
    "            dpdt_list.append(np.sqrt(lmda)*(phi_0)/(E_0) * (E/E_0)**3/(np.exp(E/E_0)-1))\n",
    "    return np.array(dpdt_list)\n",
    "\n",
    "def FA_q(q2, Z=51):\n",
    "    '''Returns form factor given an input in AA^(-2)'''\n",
    "    qme = q2/0.1308\n",
    "    A = 184.15*np.exp(-1/2)*Z**(-1/3)\n",
    "    return Z*A**2*qme/(1+A**2*qme)\n"
   ]
  },
  {
   "cell_type": "markdown",
   "metadata": {},
   "source": [
    "Define the possible values of $(h,k,l)$ and therefore $\\vec{G} = \\frac{2\\pi}{a}(h,k,l)$. Define also $|\\vec{G}|^2$ and therefore $F_A(q)$ and $\\hat{G}$"
   ]
  },
  {
   "cell_type": "code",
   "execution_count": 7,
   "metadata": {},
   "outputs": [],
   "source": [
    "hkl = np.array(make_hkl(max_h = 5, \n",
    "                        max_k = 5,\n",
    "                        max_l = 5,\n",
    "                        s=True)) #Indexed to [25,2], removing trivial case\n",
    "\n",
    "g_arr = (2*np.pi/a)*hkl #G vectors, in AA^(-1)\n",
    "\n",
    "mod2_g = mod2(g_arr) #Magnitude square of G vectors, \n",
    "FAq = FA_q(mod2_g)\n",
    "\n",
    "ginv_array = 1/mod2_g\n",
    "\n",
    "ginv_replicant = np.stack((ginv_array, ginv_array,ginv_array), axis=1)\n",
    "\n",
    "ghat = g_arr*np.sqrt(ginv_replicant) #we're getting really stupid now y'all"
   ]
  },
  {
   "cell_type": "markdown",
   "metadata": {},
   "source": [
    "Define $\\sin^2(2\\theta)$ with:\n",
    "$$\\sin^2(2\\theta) = 4(\\hat{G} \\cdot \\hat{k})^2 (1-(\\hat{G} \\cdot \\hat{k})^2)$$\n",
    "\n",
    "Creating the sum\n",
    "$$\\sum_{\\vec{G}} \\frac{|F(\\vec{G}) S(\\vec{G})|^2}{|\\vec{G}|^2} \\sin^2(\\theta)$$\n",
    "The next step is implementing $\\frac{d\\phi}{dE}$ and $\\mathcal{W}$.\n"
   ]
  },
  {
   "cell_type": "code",
   "execution_count": 8,
   "metadata": {},
   "outputs": [
    {
     "data": {
      "text/plain": [
       "118.20336348668243"
      ]
     },
     "execution_count": 8,
     "metadata": {},
     "output_type": "execute_result"
    }
   ],
   "source": [
    "gk = gdotk(g_arr)\n",
    "\n",
    "sin2 = 4*gk**2*(1-gk**2)\n",
    "\n",
    "summand = FAq*ginv_array*sin2*4 #Use *4 if implementing s\n",
    "\n",
    "np.sum(summand)"
   ]
  },
  {
   "cell_type": "markdown",
   "metadata": {},
   "source": [
    "Under the Bragg condition,\n",
    "$$E_a = \\frac{\\hbar c |\\vec{G}|^2}{2\\hat{k}\\cdot \\vec{G}}$$\n",
    "Note that $E_a$ diverges when $\\hat{k}$ is perpendicular to $\\vec{G}$. These infinities are dealt with later by asserting that they aren't detected, via the $\\mathcal{W}$ function:\n",
    "$$\\mathcal{W}(E_1,E_2,E_A,\\Delta) = \\frac{1}{\\sqrt{2\\pi} \\Delta} \\int_{E_1}^{E_2} e^{-\\frac{1}{2} \\left(\\frac{u-E_a}{\\Delta} \\right)^2}du = \\frac{1}{2} \\left[ erf\\left(\\frac{E_a-E_1}{\\sqrt{2}\\Delta}\\right) - erf\\left(\\frac{E_a-E_2}{\\sqrt{2}\\Delta}\\right) \\right]$$\n",
    "\n",
    "This limits to a unit box between $E_1$ and $E_2$ for small detector resolution $\\Delta$"
   ]
  },
  {
   "cell_type": "code",
   "execution_count": 19,
   "metadata": {},
   "outputs": [
    {
     "name": "stderr",
     "output_type": "stream",
     "text": [
      "C:\\Users\\taase\\AppData\\Local\\Temp\\ipykernel_17664\\447445863.py:1: RuntimeWarning: divide by zero encountered in divide\n",
      "  E_arr = hbar_kevs*c_aas*np.sqrt(mod2_g)/(2*gk) #in keV\n"
     ]
    },
    {
     "data": {
      "text/plain": [
       "50.658208600841974"
      ]
     },
     "execution_count": 19,
     "metadata": {},
     "output_type": "execute_result"
    }
   ],
   "source": [
    "E_arr = hbar_kevs*c_aas*np.sqrt(mod2_g)/(2*gk) #in keV\n",
    "#The infinities here are fine; they go to zero in the W function\n",
    "\n",
    "#W = w_func(E_arr, dVector=True, Delta = 0.15463505424062166*np.sqrt(E_arr/1000)*E_arr) #Delta from Simulation of BG report\n",
    "\n",
    "W = w_func(E_arr, dVector=False, Delta=0.01)\n",
    "\n",
    "new_summand = W*summand\n",
    "np.sum(new_summand)"
   ]
  },
  {
   "cell_type": "markdown",
   "metadata": {},
   "source": [
    "Use blackbody-like parametrisation of solar axion flux:\n",
    "$$\\frac{d\\Phi}{dE} = \\sqrt{\\lambda} \\frac{\\Phi_0}{E_0} \\frac{(E/E_0)^3}{e^{E/E_0} - 1}$$\n",
    "From Cebrian et.al 1999, constants are defined in function definition"
   ]
  },
  {
   "cell_type": "code",
   "execution_count": 22,
   "metadata": {},
   "outputs": [
    {
     "data": {
      "text/plain": [
       "2244940375172.0425"
      ]
     },
     "execution_count": 22,
     "metadata": {},
     "output_type": "execute_result"
    }
   ],
   "source": [
    "dphi_de = make_dpde(E_arr)\n",
    "final_summand = dphi_de*new_summand\n",
    "np.sum(final_summand)"
   ]
  },
  {
   "cell_type": "code",
   "execution_count": 23,
   "metadata": {},
   "outputs": [
    {
     "name": "stdout",
     "output_type": "stream",
     "text": [
      "dN/dt = 2.808e+23 s^(-1)\n"
     ]
    }
   ],
   "source": [
    "nt_constant = np.pi*(g_ag*1000)**2*(hbar_kevs*c_aas)**3*vol/(vol_cell**2) #in keV\n",
    "\n",
    "final_dndt = nt_constant*np.sum(final_summand) #in s^(-1)\n",
    "print(\"dN/dt = {:.3e} s^(-1)\".format(final_dndt))"
   ]
  },
  {
   "cell_type": "markdown",
   "metadata": {},
   "source": [
    "The final value is:\n",
    "$$\\frac{dN}{dt} = \\pi g_{a\\gamma}^2 (\\hbar c)^3 \\frac{V}{V_{cell}^2}\\sum_{\\vec{G}} \\frac{d\\Phi_a}{dE_a} \\frac{|F(\\vec{G}) S(\\vec{G})|^2}{|\\vec{G}|^2} \\sin^2\\left[2\\theta(\\vec{k},\\vec{G})\\right] \\mathcal{W}\\left(E_a(\\vec{G}),\\Delta \\right)$$\n",
    "Current issues:\n",
    "- ~~My value for $F(\\vec{G})$ does not have an atomic scattering factor~~\n",
    "    - ~~This is doable depending on the linearity of f with compounds instead of atoms~~ Ignore the Gaussian/FT definition, use their parametrisation\n",
    "- ~~$\\Delta$ is following what Dent et.al said, not accurate to SABRE~~\n",
    "- I have no absorption $I(\\vec{k}, \\vec{G})$\n",
    "    - This _might_ be doable if I copy the $\\lambda$ values from the table. Summation over N atoms will be hard -- working on it\n",
    "- ~~My Axion flux is a simple blackbody-like parametrisation without considering Axion mass or separating processes~~\n",
    "    - ~~Moreover I only have photon coupling, no electron coupling when Redondo argues that a-e is much greater than Primakoff~~\n",
    "    - ~~However, Dent only looks at Primakoff when this was already known; is ae coupling not detectable by crystals?~~\n",
    "    - Only consider photons, since the detection efficiency of axion-electron coupling is not competitive for SABRE\n",
    "- **$\\vec{k}$ was arbitrarily chosen to be convenient: I need to implement the real solar position**\n",
    "    - The algorithm Dent uses has a C file that does it all I think"
   ]
  },
  {
   "cell_type": "code",
   "execution_count": 14,
   "metadata": {},
   "outputs": [
    {
     "data": {
      "image/png": "[encoded data removed]",
      "text/plain": [
       "<Figure size 640x480 with 1 Axes>"
      ]
     },
     "metadata": {},
     "output_type": "display_data"
    }
   ],
   "source": [
    "x_axis = np.arange(0.01,10,0.01)\n",
    "y_axis = w_func(x_axis, dVector=True, Delta = 0.014*np.sqrt(x_axis/1000)*x_axis)\n",
    "\n",
    "plt.plot(x_axis, y_axis)\n",
    "plt.show()"
   ]
  },
  {
   "cell_type": "code",
   "execution_count": 15,
   "metadata": {},
   "outputs": [
    {
     "data": {
      "text/latex": [
       "$\\mathrm{31557600\\,}$"
      ],
      "text/plain": [
       "Unit(dimensionless with a scale of 31557600.0)"
      ]
     },
     "execution_count": 15,
     "metadata": {},
     "output_type": "execute_result"
    }
   ],
   "source": [
    "(unit.year/unit.s).si"
   ]
  },
  {
   "cell_type": "code",
   "execution_count": 16,
   "metadata": {},
   "outputs": [
    {
     "data": {
      "text/plain": [
       "(array([7., 9., 3., 0., 0., 0., 3., 0., 0., 4.]),\n",
       " array([0.01746055, 0.02502679, 0.03259304, 0.04015928, 0.04772552,\n",
       "        0.05529176, 0.062858  , 0.07042424, 0.07799048, 0.08555672,\n",
       "        0.09312296]),\n",
       " <BarContainer object of 10 artists>)"
      ]
     },
     "execution_count": 16,
     "metadata": {},
     "output_type": "execute_result"
    },
    {
     "data": {
      "image/png": "[encoded data removed]",
      "text/plain": [
       "<Figure size 640x480 with 1 Axes>"
      ]
     },
     "metadata": {},
     "output_type": "display_data"
    }
   ],
   "source": [
    "plt.hist(ginv_array)"
   ]
  }
 ],
 "metadata": {
  "kernelspec": {
   "display_name": "base",
   "language": "python",
   "name": "python3"
  },
  "language_info": {
   "codemirror_mode": {
    "name": "ipython",
    "version": 3
   },
   "file_extension": ".py",
   "mimetype": "text/x-python",
   "name": "python",
   "nbconvert_exporter": "python",
   "pygments_lexer": "ipython3",
   "version": "3.9.13"
  }
 },
 "nbformat": 4,
 "nbformat_minor": 2
}
