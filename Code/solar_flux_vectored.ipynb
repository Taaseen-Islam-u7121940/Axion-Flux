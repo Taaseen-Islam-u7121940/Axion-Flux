{
 "cells": [
  {
   "cell_type": "code",
   "execution_count": 3,
   "metadata": {},
   "outputs": [],
   "source": [
    "import numpy as np\n",
    "import matplotlib.pyplot as plt\n",
    "from scipy.special import erf\n",
    "import astropy.units as unit\n",
    "import astropy.constants as const\n",
    "import itertools"
   ]
  },
  {
   "cell_type": "code",
   "execution_count": 4,
   "metadata": {},
   "outputs": [
    {
     "data": {
      "text/plain": [
       "258.9605074819228"
      ]
     },
     "execution_count": 4,
     "metadata": {},
     "output_type": "execute_result"
    }
   ],
   "source": [
    "#Define constants\n",
    "a = 6.642 #Lattice constant, Angstroms = 1e-10m, from Dent paper. \n",
    "hbar_kevs = (const.hbar.to(unit.keV*unit.s)).value #hbar, keV*s, from astropy\n",
    "c_aas = (const.c.to(unit.AA/unit.s)).value #speed of light, angstrom/s (cancels with a), from astropy\n",
    "me_hca = (const.m_e/((const.hbar/(const.c*unit.AA)).si)).value #Electron mass, in units of... hbar/(c*AA) to cancel with |G| (LMAOOOOO)\n",
    "me_hca"
   ]
  },
  {
   "cell_type": "code",
   "execution_count": 5,
   "metadata": {},
   "outputs": [],
   "source": [
    "#Define constants\n",
    "a = 6.642 #Lattice constant, Angstroms = 1e-10m, from Dent paper. \n",
    "hbar_kevs = (const.hbar.to(unit.keV*unit.s)).value #hbar, keV*s, from astropy\n",
    "c_aas = (const.c.to(unit.AA/unit.s)).value #speed of light, angstrom/s (cancels with a), from astropy\n",
    "me_hca = (const.m_e/((const.hbar/(const.c*unit.AA)).si)).value #Electron mass, in units of... hbar/(c*AA) to cancel with |G| (LMAOOOOO)\n",
    "me_hca\n",
    "\n",
    "# Define unknown constants\n",
    "g_agg = 2e-10 #g_agg (axion-photon-photon) coupling constant; in GeV^(-1) (for photon coalescence)\n",
    "g_ag = 1e-10 #Axion-photon coupling (Primakoff process), in GeV^(-1).\n",
    "#Upper bound on g_ag of 2.7e-10 from the Sun, see Di Luzio's review\n",
    "lmda = (g_agg/(1e-8))**4\n",
    "phi_0 = 5.95e14 #in cm^(-2) s^(-1)\n",
    "E_0    = 1.103 #in keV\n",
    "\n",
    "#Crystal Geometry\n",
    "diam = 110*unit.mm\n",
    "hgt = 250*unit.mm \n",
    "#vol = ((np.pi*(diam/2)**2*hgt).to(unit.AA**3)).value #Crystal volume, in AA^3\n",
    "vol = ((50*unit.kg/(3.67*unit.g*(unit.cm)**(-3))).to(unit.AA**3)).value\n",
    "#Make volume make the mass like 7kg\n",
    "vol_cell = 67.71 #In AA^3, from Dent paper"
   ]
  },
  {
   "cell_type": "code",
   "execution_count": 6,
   "metadata": {},
   "outputs": [
    {
     "data": {
      "text/latex": [
       "$23.883684 \\; \\mathrm{cm}$"
      ],
      "text/plain": [
       "<Quantity 23.88368383 cm>"
      ]
     },
     "execution_count": 6,
     "metadata": {},
     "output_type": "execute_result"
    }
   ],
   "source": [
    "((vol*unit.AA**3).to(unit.cm**3))**(1/3)"
   ]
  },
  {
   "cell_type": "code",
   "execution_count": 7,
   "metadata": {},
   "outputs": [
    {
     "data": {
      "text/latex": [
       "$1 \\times 10^{-16} \\; \\mathrm{\\frac{1}{keV}}$"
      ],
      "text/plain": [
       "<Quantity 1.e-16 1 / keV>"
      ]
     },
     "execution_count": 7,
     "metadata": {},
     "output_type": "execute_result"
    }
   ],
   "source": [
    "gag_unit = g_ag*(unit.GeV)**(-1)\n",
    "gag_unit.to(unit.keV**(-1))"
   ]
  },
  {
   "cell_type": "code",
   "execution_count": 8,
   "metadata": {},
   "outputs": [
    {
     "data": {
      "text/latex": [
       "$1 \\times 10^{-16} \\; \\mathrm{\\frac{1}{keV}}$"
      ],
      "text/plain": [
       "<Quantity 1.e-16 1 / keV>"
      ]
     },
     "execution_count": 8,
     "metadata": {},
     "output_type": "execute_result"
    }
   ],
   "source": [
    "(g_ag*unit.GeV**(-1)).to(unit.keV**(-1))"
   ]
  },
  {
   "cell_type": "code",
   "execution_count": 9,
   "metadata": {},
   "outputs": [],
   "source": [
    "#Define useful functions\n",
    "def make_hkl(max_h=5,max_k=5,max_l=5, s=False):\n",
    "    '''This might need to be remade based on what the \"primitives\" are. Condition is h,k,l must be even.\n",
    "    F mandates h,k,l share a parity, and S mandates h+k+l is even'''\n",
    "    full_arr = list(itertools.product(range(max_h), range(max_k), range(max_l)))\n",
    "    if s:\n",
    "        filter_func = lambda triple: (triple[0]%2 == triple[1]%2) & (triple[0]%2 == triple[2]%2) & (triple[0]%2 == 0)\n",
    "        return np.array(list(filter(filter_func, full_arr)))[1:]\n",
    "    else:\n",
    "        filter_func = lambda triple: (triple[0]%2 == triple[1]%2) & (triple[0]%2 == triple[2]%2)\n",
    "        return np.array(list(filter(filter_func, full_arr)))[1:]\n",
    "\n",
    "\n",
    "def make_hkl_s(max_h=5,max_k=5,max_l=5):\n",
    "    '''hkl array, where the only condition is h+k+l must be even'''\n",
    "    full_list = list(itertools.product(range(max_h),range(max_k),range(max_l)))\n",
    "    filter_func = lambda triple: sum(triple)%2 == 0\n",
    "    return np.array(list(filter(filter_func, full_list)))[1:] #remove (0,0,0)\n",
    "    \n",
    "\n",
    "def mod2(vec3):\n",
    "    '''Returns the dimensionless magnitude of an array of vectors in the (h,k,l) basis. Factor of 2pi/a has to be multiplied manually'''\n",
    "    return 3*(vec3[:,0]**2 + vec3[:,1]**2 + vec3[:,2]**2) - 2*(vec3[:,0]*vec3[:,1] + vec3[:,1]*vec3[:,2] + vec3[:,2]*vec3[:,0])\n",
    "\n",
    "def gdotk(hkl_arr):\n",
    "    '''Returns gHAT dot kHAT, assuming kHat is in the cartesian x direction'''\n",
    "    return (-hkl_arr[:,0]+hkl_arr[:,1]+hkl_arr[:,2])/np.sqrt(mod2(hkl_arr))\n",
    "\n",
    "def w_func(Ea, dVector = False, Delta=1.5, E1=1, E2=6):\n",
    "    '''Returns array of W(Ea, Delta, E1, E2) where everything is in keV. Infinite Ea is dealt with'''\n",
    "    w_list = []\n",
    "    if dVector:\n",
    "        entangle = np.dstack((Ea, Delta))\n",
    "        for index in range(entangle.shape[1]):\n",
    "            E = entangle[0,index,0]\n",
    "            D = entangle[0,index,1]\n",
    "            if np.isinf(E) or E<0:\n",
    "                w_list.append(0)\n",
    "            else:\n",
    "                w = (1/2)*(erf((E-E1)/(np.sqrt(2)*D)) - erf((E-E2)/(np.sqrt(2)*D)))\n",
    "                w_list.append(w)\n",
    "    else:\n",
    "        for E in Ea:\n",
    "            if np.isinf(E) or E<0:\n",
    "                w_list.append(0)\n",
    "            else:\n",
    "                w = (1/2)*(erf((E-E1)/(np.sqrt(2)*Delta)) - erf((E-E2)/(np.sqrt(2)*Delta)))\n",
    "                w_list.append(w)\n",
    "    return np.array(w_list)\n",
    "\n",
    "def make_dpde(Energy_array):\n",
    "    '''Creates dPhi/dE for the parametrised blackbody-like form appearing in older papers. Assumes no axion mass.\n",
    "    Units of cm^(-2) s^(-1) keV^(-1)'''\n",
    "    dpdt_list = []\n",
    "    for E in Energy_array:\n",
    "        if np.isinf(E):\n",
    "            dpdt_list.append(0)\n",
    "        else:\n",
    "            dpdt_list.append(np.sqrt(lmda)*(phi_0)/(E_0) * (E/E_0)**3/(np.exp(E/E_0)-1))\n",
    "    return np.array(dpdt_list)\n",
    "\n",
    "def FA_q(q2, Z=51):\n",
    "    '''Returns form factor given an input in AA^(-2)'''\n",
    "    qme = q2/0.1308\n",
    "    A = 184.15*np.exp(-1/2)*Z**(-1/3)\n",
    "    return Z*A**2*qme/(1+A**2*qme)\n",
    "\n",
    "def make_delta(energy):\n",
    "    '''Returns Delta (approx 15%*sqrt(E)*E) for an energy array, setting infinities and negatives to zero'''\n",
    "    output = []\n",
    "    for E in energy:\n",
    "        if E<0 or np.isinf(E):\n",
    "            output.append(0)\n",
    "        else:\n",
    "            output.append(0.15463505424062166*np.sqrt(E/1000)*E)\n",
    "    return np.array(output)\n"
   ]
  },
  {
   "cell_type": "markdown",
   "metadata": {},
   "source": [
    "Define the possible values of $(h,k,l)$ and therefore $\\vec{G} = \\frac{2\\pi}{a}(h,k,l)$. Define also $|\\vec{G}|^2$ and therefore $F_A(q)$ and $\\hat{G}$"
   ]
  },
  {
   "cell_type": "code",
   "execution_count": 10,
   "metadata": {},
   "outputs": [],
   "source": [
    "hkl = np.array(make_hkl_s(max_h = 6, \n",
    "                          max_k = 6,\n",
    "                          max_l = 6)) #Indexed to [25,2], removing trivial case\n",
    "# compare with (h+k+l) even against (h,k,l) all add/all even\n",
    "\n",
    "g_arr = (2*np.pi/a)*hkl #G vectors, in AA^(-1)\n",
    "\n",
    "mod2_g = mod2(g_arr) #Magnitude square of G vectors, \n",
    "FAq = FA_q(mod2_g)\n",
    "\n",
    "ginv_array = 1/mod2_g\n",
    "\n",
    "ginv_replicant = np.stack((ginv_array, ginv_array,ginv_array), axis=1)\n",
    "\n",
    "ghat = g_arr*np.sqrt(ginv_replicant)"
   ]
  },
  {
   "cell_type": "code",
   "execution_count": 11,
   "metadata": {},
   "outputs": [
    {
     "data": {
      "text/plain": [
       "array([50.99931521, 50.9998288 , 50.99794567, 50.9996576 , 50.99987915,\n",
       "       50.99931521, 50.9994864 , 50.99981324, 50.9996576 , 50.99977173,\n",
       "       50.99988587, 50.9998288 , 50.99981324, 50.9998716 , 50.99987915,\n",
       "       50.99988587, 50.99991782, 50.99794567, 50.9996576 , 50.99987915,\n",
       "       50.99794567, 50.99897282, 50.99977173, 50.99897282, 50.99958912,\n",
       "       50.99985326, 50.9996576 , 50.99958912, 50.99979456, 50.99977173,\n",
       "       50.99979456, 50.99987915, 50.99987915, 50.99985326, 50.99987915,\n",
       "       50.99931521, 50.9994864 , 50.99981324, 50.99897282, 50.99958912,\n",
       "       50.99985326, 50.9994864 , 50.99931521, 50.9997432 , 50.99958912,\n",
       "       50.9996576 , 50.99984197, 50.99981324, 50.9997432 , 50.99981324,\n",
       "       50.99985326, 50.99984197, 50.99988587, 50.9996576 , 50.99977173,\n",
       "       50.99988587, 50.9996576 , 50.99958912, 50.99979456, 50.99958912,\n",
       "       50.9996576 , 50.99984197, 50.99977173, 50.9996576 , 50.99977173,\n",
       "       50.99979456, 50.99977173, 50.99985326, 50.99988587, 50.99984197,\n",
       "       50.99985326, 50.9998288 , 50.99981324, 50.9998716 , 50.99977173,\n",
       "       50.99979456, 50.99987915, 50.99981324, 50.9997432 , 50.99981324,\n",
       "       50.99979456, 50.99977173, 50.99985326, 50.9998716 , 50.99981324,\n",
       "       50.9998288 , 50.99987915, 50.99985326, 50.99987915, 50.99987915,\n",
       "       50.99988587, 50.99991782, 50.99987915, 50.99985326, 50.99987915,\n",
       "       50.99985326, 50.99984197, 50.99988587, 50.99988587, 50.99984197,\n",
       "       50.99985326, 50.99987915, 50.99985326, 50.99987915, 50.99991782,\n",
       "       50.99988587, 50.99987915])"
      ]
     },
     "execution_count": 11,
     "metadata": {},
     "output_type": "execute_result"
    }
   ],
   "source": [
    "FAq"
   ]
  },
  {
   "cell_type": "markdown",
   "metadata": {},
   "source": [
    "Define $\\sin^2(2\\theta)$ with:\n",
    "$$\\sin^2(2\\theta) = (2\\sin(\\theta)\\cos(\\theta))^2= 4(\\hat{G} \\cdot \\hat{k})^2 (1-(\\hat{G} \\cdot \\hat{k})^2)$$\n",
    "\n",
    "Creating the sum\n",
    "$$\\sum_{\\vec{G}} \\frac{|F(\\vec{G}) S(\\vec{G})|^2}{|\\vec{G}|^2} \\sin^2(\\theta)$$\n",
    "The next step is implementing $\\frac{d\\phi}{dE}$ and $\\mathcal{W}$.\n"
   ]
  },
  {
   "cell_type": "code",
   "execution_count": 12,
   "metadata": {},
   "outputs": [
    {
     "data": {
      "text/plain": [
       "382.3067684717497"
      ]
     },
     "execution_count": 12,
     "metadata": {},
     "output_type": "execute_result"
    }
   ],
   "source": [
    "gk = gdotk(g_arr)\n",
    "\n",
    "sin2 = 4*gk**2*(1-gk**2)\n",
    "\n",
    "summand = FAq*ginv_array*sin2*4 #Use *4 if implementing s\n",
    "\n",
    "np.sum(summand)"
   ]
  },
  {
   "cell_type": "markdown",
   "metadata": {},
   "source": [
    "Under the Bragg condition,\n",
    "$$E_a = \\frac{\\hbar c |\\vec{G}|^2}{2\\hat{k}\\cdot \\vec{G}}$$\n",
    "Note that $E_a$ diverges when $\\hat{k}$ is perpendicular to $\\vec{G}$. These infinities are dealt with later by asserting that they aren't detected, via the $\\mathcal{W}$ function:\n",
    "$$\\mathcal{W}(E_1,E_2,E_A,\\Delta) = \\frac{1}{\\sqrt{2\\pi} \\Delta} \\int_{E_1}^{E_2} e^{-\\frac{1}{2} \\left(\\frac{u-E_a}{\\Delta} \\right)^2}du = \\frac{1}{2} \\left[ erf\\left(\\frac{E_a-E_1}{\\sqrt{2}\\Delta}\\right) - erf\\left(\\frac{E_a-E_2}{\\sqrt{2}\\Delta}\\right) \\right]$$\n",
    "\n",
    "This limits to a unit box between $E_1$ and $E_2$ for small detector resolution $\\Delta$"
   ]
  },
  {
   "cell_type": "code",
   "execution_count": 13,
   "metadata": {},
   "outputs": [
    {
     "name": "stderr",
     "output_type": "stream",
     "text": [
      "C:\\Users\\taase\\AppData\\Local\\Temp\\ipykernel_21864\\466589755.py:1: RuntimeWarning: divide by zero encountered in divide\n",
      "  E_arr = hbar_kevs*c_aas*np.sqrt(mod2_g)/(2*gk) #in keV\n"
     ]
    },
    {
     "data": {
      "text/plain": [
       "336.22290046821456"
      ]
     },
     "execution_count": 13,
     "metadata": {},
     "output_type": "execute_result"
    }
   ],
   "source": [
    "E_arr = hbar_kevs*c_aas*np.sqrt(mod2_g)/(2*gk) #in keV\n",
    "#The infinities here are fine; they go to zero in the W function\n",
    "\n",
    "#W = w_func(E_arr, E1=1, E2=20, dVector=True, Delta = make_delta(E_arr)) #Delta from Simulation of BG report\n",
    "W = w_func(E_arr, E1=1, E2=50, dVector=False, Delta = 1) #Delta from Simulation of BG report\n",
    "\n",
    "new_summand = W*summand\n",
    "np.sum(new_summand)"
   ]
  },
  {
   "cell_type": "markdown",
   "metadata": {},
   "source": [
    "Use blackbody-like parametrisation of solar axion flux:\n",
    "$$\\frac{d\\Phi}{dE} = \\sqrt{\\lambda} \\frac{\\Phi_0}{E_0} \\frac{(E/E_0)^3}{e^{E/E_0} - 1}$$\n",
    "From Cebrian et.al 1999, constants are defined in the earlier section"
   ]
  },
  {
   "cell_type": "code",
   "execution_count": 14,
   "metadata": {},
   "outputs": [
    {
     "name": "stderr",
     "output_type": "stream",
     "text": [
      "C:\\Users\\taase\\AppData\\Local\\Temp\\ipykernel_21864\\2810088575.py:59: RuntimeWarning: overflow encountered in exp\n",
      "  dpdt_list.append(np.sqrt(lmda)*(phi_0)/(E_0) * (E/E_0)**3/(np.exp(E/E_0)-1))\n"
     ]
    },
    {
     "data": {
      "text/plain": [
       "0.003963953004447419"
      ]
     },
     "execution_count": 14,
     "metadata": {},
     "output_type": "execute_result"
    }
   ],
   "source": [
    "dphi_de = make_dpde(E_arr)\n",
    "final_summand = dphi_de*1e-16*new_summand #1e-16 to cancel angstroms and cm\n",
    "np.sum(final_summand)"
   ]
  },
  {
   "cell_type": "code",
   "execution_count": 15,
   "metadata": {},
   "outputs": [
    {
     "name": "stdout",
     "output_type": "stream",
     "text": [
      "dN/dt = 2.843e-09 s^(-1)\n"
     ]
    }
   ],
   "source": [
    "nt_constant = np.pi*(g_ag*1e-6)**2*(hbar_kevs*c_aas)**3*vol/(vol_cell**2) #in keV\n",
    "#Conversion factor of angstroms to cm missing somewhere\n",
    "#Absorption also looks like it's a huge deal (order -9 or so)\n",
    "final_dndt = nt_constant*np.sum(final_summand) #in s^(-1), 1e-16 converts angstroms and cm\n",
    "print(\"dN/dt = {:.3e} s^(-1)\".format(final_dndt))"
   ]
  },
  {
   "cell_type": "code",
   "execution_count": 16,
   "metadata": {},
   "outputs": [
    {
     "data": {
      "text/latex": [
       "$0.26919148 \\; \\mathrm{}$"
      ],
      "text/plain": [
       "<Quantity 0.26919148>"
      ]
     },
     "execution_count": 16,
     "metadata": {},
     "output_type": "execute_result"
    }
   ],
   "source": [
    "(final_dndt*(unit.s**(-1))*(3*unit.year)).si"
   ]
  },
  {
   "cell_type": "markdown",
   "metadata": {},
   "source": [
    "Off by a factor of ~12"
   ]
  },
  {
   "cell_type": "code",
   "execution_count": 17,
   "metadata": {},
   "outputs": [
    {
     "data": {
      "text/plain": [
       "7.173111737081974e-07"
      ]
     },
     "execution_count": 17,
     "metadata": {},
     "output_type": "execute_result"
    }
   ],
   "source": [
    "nt_constant"
   ]
  },
  {
   "cell_type": "markdown",
   "metadata": {},
   "source": [
    "The final value is:\n",
    "$$\\frac{dN}{dt} = \\pi g_{a\\gamma}^2 (\\hbar c)^3 \\frac{V}{V_{cell}^2}\\sum_{\\vec{G}} \\frac{d\\Phi_a}{dE_a} \\frac{|F(\\vec{G}) S(\\vec{G})|^2}{|\\vec{G}|^2} \\sin^2\\left[2\\theta(\\vec{k},\\vec{G})\\right] \\mathcal{W}\\left(E_a(\\vec{G}),\\Delta \\right)$$\n",
    "Current issues:\n",
    "- ~~My value for $F(\\vec{G})$ does not have an atomic scattering factor~~\n",
    "    - ~~This is doable depending on the linearity of f with compounds instead of atoms~~ Ignore the Gaussian/FT definition, use their parametrisation\n",
    "    - Note: their parametrisation appears to have the wrong limit: they claim $F(0)=Z$, but actually $F(0)=0$ and $F(\\infty)=Z$. This is because they use F(0) to talk about REAL space, not FOURIER space \n",
    "- ~~$\\Delta$ is following what Dent et.al said, not accurate to SABRE~~\n",
    "- I have no absorption $I(\\vec{k}, \\vec{G})$\n",
    "    - This _might_ be doable if I copy the $\\lambda$ values from the table. Summation over N atoms will be hard -- working on it\n",
    "- ~~My Axion flux is a simple blackbody-like parametrisation without considering Axion mass or separating processes~~\n",
    "    - ~~Moreover I only have photon coupling, no electron coupling when Redondo argues that a-e is much greater than Primakoff~~\n",
    "    - ~~However, Dent only looks at Primakoff when this was already known; is ae coupling not detectable by crystals?~~\n",
    "    - Only consider photons, since the detection efficiency of axion-electron coupling is not competitive for SABRE\n",
    "- **$\\vec{k}$ was arbitrarily chosen to be convenient: I need to implement the real solar position**\n",
    "    - The algorithm Dent uses has a C file that does it all I think"
   ]
  },
  {
   "cell_type": "code",
   "execution_count": 18,
   "metadata": {},
   "outputs": [],
   "source": [
    "#Define constants\n",
    "a = 6.642 #Lattice constant, Angstroms = 1e-10m, from Dent paper. \n",
    "hbar_kevs = (const.hbar.to(unit.keV*unit.s)).value #hbar, keV*s, from astropy\n",
    "c_aas = (const.c.to(unit.AA/unit.s)).value #speed of light, angstrom/s (cancels with a), from astropy\n",
    "me_hca = (const.m_e/((const.hbar/(const.c*unit.AA)).si)).value #Electron mass, in units of... hbar/(c*AA) to cancel with |G| (LMAOOOOO)\n",
    "me_hca\n",
    "\n",
    "# Define unknown constants\n",
    "g_agg = 2e-10 #g_agg (axion-photon-photon) coupling constant; in GeV^(-1) (for photon coalescence)\n",
    "g_ag = 1e-10 #Axion-photon coupling (Primakoff process), in GeV^(-1).\n",
    "#Upper bound on g_ag of 2.7e-10 from the Sun, see Di Luzio's review\n",
    "lmda = (g_agg/(1e-8))**4\n",
    "phi_0 = 5.95e14 #in cm^(-2) s^(-1)\n",
    "E_0    = 1.103 #in keV\n",
    "\n",
    "#Crystal Geometry\n",
    "diam = 110*unit.mm\n",
    "hgt = 250*unit.mm \n",
    "#vol = ((np.pi*(diam/2)**2*hgt).to(unit.AA**3)).value #Crystal volume, in AA^3\n",
    "vol = ((50*unit.kg/(3.67*unit.g*(unit.cm)**(-3))).to(unit.AA**3)).value\n",
    "#Make volume make the mass like 7kg\n",
    "vol_cell = 67.71 #In AA^3, from Dent paper"
   ]
  },
  {
   "cell_type": "code",
   "execution_count": 34,
   "metadata": {},
   "outputs": [],
   "source": [
    "def complete_dndt(max_hkl = 5, print_output = False, F=False):\n",
    "    if F:\n",
    "        hkl = np.array(make_hkl(max_h = max_hkl, \n",
    "                                max_k = max_hkl,\n",
    "                                max_l = max_hkl))\n",
    "    else:\n",
    "        hkl = np.array(make_hkl_s(max_h = max_hkl, \n",
    "                                max_k = max_hkl,\n",
    "                                max_l = max_hkl))\n",
    "\n",
    "    g_arr = (2*np.pi/a)*hkl #G vectors, in AA^(-1)\n",
    "\n",
    "    mod2_g = mod2(g_arr) #Magnitude square of G vectors, \n",
    "    FAq = FA_q(mod2_g)\n",
    "\n",
    "    ginv_array = 1/mod2_g\n",
    "\n",
    "    gk = gdotk(g_arr)\n",
    "\n",
    "    sin2 = 4*gk**2*(1-gk**2)\n",
    "\n",
    "    summand = FAq*ginv_array*sin2*4 #Use *4 if implementing s\n",
    "\n",
    "    E_arr = hbar_kevs*c_aas*np.sqrt(mod2_g)/(2*gk) #in keV\n",
    "    #The infinities here are fine; they go to zero in the W function\n",
    "\n",
    "    W = w_func(E_arr, E1=1, E2=20, dVector=True, Delta = make_delta(E_arr)) #Delta from Simulation of BG report\n",
    "    \n",
    "    #W = w_func(E_arr, E1=1, E2=50, dVector=False, Delta = 1) #Delta from Simulation of BG report\n",
    "    dphi_de = make_dpde(E_arr)\n",
    "    final_summand = W*dphi_de*1e-16*summand #1e-16 to cancel angstroms and cm\n",
    "\n",
    "    nt_constant = np.pi*(g_ag*1e-6)**2*(hbar_kevs*c_aas)**3*vol/(vol_cell**2) #in keV\n",
    "    #Conversion factor of angstroms to cm missing somewhere\n",
    "    #Absorption also looks like it's a huge deal (order -9 or so)\n",
    "    final_dndt = nt_constant*np.sum(final_summand) #in s^(-1), 1e-16 converts angstroms and cm\n",
    "    if print_output:\n",
    "        print(\"dN/dt = {:.3e} s^(-1)\".format(final_dndt))\n",
    "    return (final_dndt*(unit.s**(-1))*(3*unit.year)).si"
   ]
  },
  {
   "cell_type": "code",
   "execution_count": 35,
   "metadata": {},
   "outputs": [
    {
     "name": "stderr",
     "output_type": "stream",
     "text": [
      "C:\\Users\\taase\\AppData\\Local\\Temp\\ipykernel_21864\\3737582869.py:24: RuntimeWarning: divide by zero encountered in divide\n",
      "  E_arr = hbar_kevs*c_aas*np.sqrt(mod2_g)/(2*gk) #in keV\n",
      "C:\\Users\\taase\\AppData\\Local\\Temp\\ipykernel_21864\\2810088575.py:59: RuntimeWarning: overflow encountered in exp\n",
      "  dpdt_list.append(np.sqrt(lmda)*(phi_0)/(E_0) * (E/E_0)**3/(np.exp(E/E_0)-1))\n"
     ]
    },
    {
     "data": {
      "text/latex": [
       "$0.27301987 \\; \\mathrm{}$"
      ],
      "text/plain": [
       "<Quantity 0.27301987>"
      ]
     },
     "execution_count": 35,
     "metadata": {},
     "output_type": "execute_result"
    }
   ],
   "source": [
    "complete_dndt(max_hkl=7)"
   ]
  },
  {
   "cell_type": "code",
   "execution_count": 36,
   "metadata": {},
   "outputs": [
    {
     "data": {
      "text/plain": [
       "107"
      ]
     },
     "execution_count": 36,
     "metadata": {},
     "output_type": "execute_result"
    }
   ],
   "source": [
    "len(make_hkl_s(max_h=6, max_k=6, max_l=6))"
   ]
  },
  {
   "cell_type": "code",
   "execution_count": 41,
   "metadata": {},
   "outputs": [
    {
     "name": "stderr",
     "output_type": "stream",
     "text": [
      "C:\\Users\\taase\\AppData\\Local\\Temp\\ipykernel_21864\\3737582869.py:24: RuntimeWarning: divide by zero encountered in divide\n",
      "  E_arr = hbar_kevs*c_aas*np.sqrt(mod2_g)/(2*gk) #in keV\n",
      "C:\\Users\\taase\\AppData\\Local\\Temp\\ipykernel_21864\\2810088575.py:59: RuntimeWarning: overflow encountered in exp\n",
      "  dpdt_list.append(np.sqrt(lmda)*(phi_0)/(E_0) * (E/E_0)**3/(np.exp(E/E_0)-1))\n"
     ]
    },
    {
     "data": {
      "image/png": "[encoded data removed]",
      "text/plain": [
       "<Figure size 640x480 with 1 Axes>"
      ]
     },
     "metadata": {},
     "output_type": "display_data"
    }
   ],
   "source": [
    "hkl_max_list = range(1,20)\n",
    "s_axis = []\n",
    "f_axis = []\n",
    "for x_value in hkl_max_list:\n",
    "    s_axis.append(complete_dndt(max_hkl=x_value, F=False))\n",
    "    f_axis.append(complete_dndt(max_hkl=x_value, F=True))\n",
    "\n",
    "plt.plot(hkl_max_list, s_axis)\n",
    "plt.plot(hkl_max_list, f_axis)\n",
    "plt.legend([\"h+k+l is even\", \"h,k,l share parity\"])\n",
    "plt.xlabel(\"Max(h,k,l)\")\n",
    "plt.ylabel(\"Total events recorded\")\n",
    "plt.show()"
   ]
  },
  {
   "cell_type": "code",
   "execution_count": 23,
   "metadata": {},
   "outputs": [
    {
     "data": {
      "text/plain": [
       "2.8433877821443136e-09"
      ]
     },
     "execution_count": 23,
     "metadata": {},
     "output_type": "execute_result"
    }
   ],
   "source": [
    "total_sum = (dphi_de*1e-16)*W*FAq*sin2*4/mod2_g\n",
    "nt_constant*np.sum(total_sum)"
   ]
  },
  {
   "cell_type": "code",
   "execution_count": 24,
   "metadata": {},
   "outputs": [
    {
     "data": {
      "image/png": "[encoded data removed]",
      "text/plain": [
       "<Figure size 640x480 with 1 Axes>"
      ]
     },
     "metadata": {},
     "output_type": "display_data"
    }
   ],
   "source": [
    "x_axis = np.arange(0.01,10,0.001)\n",
    "y_axis = w_func(x_axis, dVector=True, Delta = 0.014*np.sqrt(x_axis/1000)*x_axis)\n",
    "\n",
    "plt.plot(x_axis, y_axis)\n",
    "plt.show()"
   ]
  },
  {
   "cell_type": "code",
   "execution_count": 25,
   "metadata": {},
   "outputs": [
    {
     "data": {
      "image/png": "[encoded data removed]",
      "text/plain": [
       "<Figure size 640x480 with 1 Axes>"
      ]
     },
     "metadata": {},
     "output_type": "display_data"
    }
   ],
   "source": [
    "plt.plot(x_axis, make_dpde(x_axis))\n",
    "plt.show()"
   ]
  },
  {
   "cell_type": "code",
   "execution_count": 26,
   "metadata": {},
   "outputs": [
    {
     "data": {
      "text/latex": [
       "$[1.6507136 \\times 10^{-6},~2.046714 \\times 10^{-8},~6.5921825 \\times 10^{-6},~\\dots,~0,~5.5787596 \\times 10^{-16},~5.97204 \\times 10^{-10}] \\; \\mathrm{\\frac{1}{keV\\,s}}$"
      ],
      "text/plain": [
       "<Quantity [1.65071362e-06, 2.04671403e-08, 6.59218250e-06, 8.25356809e-07,\n",
       "           2.13956410e-08, 1.65071362e-06, 2.04972230e-06, 2.64864182e-07,\n",
       "           8.25356809e-07, 5.50237872e-07, 7.29153086e-08, 2.04671403e-08,\n",
       "           2.64864182e-07, 1.34365967e-07, 2.13956410e-08, 7.29153086e-08,\n",
       "           3.08894975e-08, 0.00000000e+00, 4.09342806e-08, 5.97204004e-10,\n",
       "           0.00000000e+00, 4.09944459e-06, 1.45830617e-07, 4.09944459e-06,\n",
       "           1.34714063e-06, 7.88490563e-08, 4.09342806e-08, 1.34714063e-06,\n",
       "           3.85387764e-07, 1.45830617e-07, 3.85387764e-07, 9.93183811e-08,\n",
       "           5.97204004e-10, 7.88490563e-08, 9.93183811e-08, 2.64615644e-04,\n",
       "           0.00000000e+00, 2.90835109e-11, 0.00000000e+00, 1.54447487e-07,\n",
       "           5.12809067e-09, 0.00000000e+00, 1.65071362e-06, 2.68731934e-07,\n",
       "           1.54447487e-07, 8.25356809e-07, 1.19548262e-07, 2.90835109e-11,\n",
       "           2.68731934e-07, 2.64864182e-07, 5.12809067e-09, 1.19548262e-07,\n",
       "           7.29153086e-08, 1.05190065e-03, 0.00000000e+00, 5.57875957e-16,\n",
       "           1.05190065e-03, 0.00000000e+00, 1.30569800e-10, 0.00000000e+00,\n",
       "           4.09342806e-08, 1.03057855e-08, 0.00000000e+00, 4.09342806e-08,\n",
       "           1.45830617e-07, 1.30569800e-10, 1.45830617e-07, 7.88490563e-08,\n",
       "           5.57875957e-16, 1.03057855e-08, 7.88490563e-08, 5.25950327e-04,\n",
       "           3.53541742e-03, 0.00000000e+00, 2.36668495e-03, 0.00000000e+00,\n",
       "           2.70315991e-15, 3.53541742e-03, 0.00000000e+00, 2.90835109e-11,\n",
       "           1.80745555e+45, 5.74525228e-10, 5.12809067e-09, 0.00000000e+00,\n",
       "           2.90835109e-11, 2.04671403e-08, 2.70315991e-15, 5.12809067e-09,\n",
       "           2.13956410e-08, 1.05551261e-03, 9.46673748e-03, 0.00000000e+00,\n",
       "           1.05551261e-03, 5.72679181e-03, 0.00000000e+00, 5.72679181e-03,\n",
       "           3.81824985e+44, 5.57875957e-16, 9.46673748e-03, 3.81824985e+44,\n",
       "           2.93882515e-13, 5.22354654e+45, 2.93882515e-13, 5.97204004e-10,\n",
       "           0.00000000e+00, 5.57875957e-16, 5.97204004e-10] 1 / (keV s)>"
      ]
     },
     "execution_count": 26,
     "metadata": {},
     "output_type": "execute_result"
    }
   ],
   "source": [
    "dpde_unit = dphi_de*unit.cm**(-2)*unit.s**(-1)*unit.keV**(-1)\n",
    "mod2g_unit = (mod2_g)*unit.AA**(-2)\n",
    "(dpde_unit/mod2g_unit).to(unit.s**(-1)*unit.keV**(-1))"
   ]
  },
  {
   "cell_type": "code",
   "execution_count": 27,
   "metadata": {},
   "outputs": [
    {
     "data": {
      "text/plain": [
       "array([1.65071362e-06, 2.04671403e-08, 6.59218250e-06, 8.25356809e-07,\n",
       "       2.13956410e-08, 1.65071362e-06, 2.04972230e-06, 2.64864182e-07,\n",
       "       8.25356809e-07, 5.50237872e-07, 7.29153086e-08, 2.04671403e-08,\n",
       "       2.64864182e-07, 1.34365967e-07, 2.13956410e-08, 7.29153086e-08,\n",
       "       3.08894975e-08, 0.00000000e+00, 4.09342806e-08, 5.97204004e-10,\n",
       "       0.00000000e+00, 4.09944459e-06, 1.45830617e-07, 4.09944459e-06,\n",
       "       1.34714063e-06, 7.88490563e-08, 4.09342806e-08, 1.34714063e-06,\n",
       "       3.85387764e-07, 1.45830617e-07, 3.85387764e-07, 9.93183811e-08,\n",
       "       5.97204004e-10, 7.88490563e-08, 9.93183811e-08, 2.64615644e-04,\n",
       "       0.00000000e+00, 2.90835109e-11, 0.00000000e+00, 1.54447487e-07,\n",
       "       5.12809067e-09, 0.00000000e+00, 1.65071362e-06, 2.68731934e-07,\n",
       "       1.54447487e-07, 8.25356809e-07, 1.19548262e-07, 2.90835109e-11,\n",
       "       2.68731934e-07, 2.64864182e-07, 5.12809067e-09, 1.19548262e-07,\n",
       "       7.29153086e-08, 1.05190065e-03, 0.00000000e+00, 5.57875957e-16,\n",
       "       1.05190065e-03, 0.00000000e+00, 1.30569800e-10, 0.00000000e+00,\n",
       "       4.09342806e-08, 1.03057855e-08, 0.00000000e+00, 4.09342806e-08,\n",
       "       1.45830617e-07, 1.30569800e-10, 1.45830617e-07, 7.88490563e-08,\n",
       "       5.57875957e-16, 1.03057855e-08, 7.88490563e-08, 5.25950327e-04,\n",
       "       3.53541742e-03, 0.00000000e+00, 2.36668495e-03, 0.00000000e+00,\n",
       "       2.70315991e-15, 3.53541742e-03, 0.00000000e+00, 2.90835109e-11,\n",
       "       1.80745555e+45, 5.74525228e-10, 5.12809067e-09, 0.00000000e+00,\n",
       "       2.90835109e-11, 2.04671403e-08, 2.70315991e-15, 5.12809067e-09,\n",
       "       2.13956410e-08, 1.05551261e-03, 9.46673748e-03, 0.00000000e+00,\n",
       "       1.05551261e-03, 5.72679181e-03, 0.00000000e+00, 5.72679181e-03,\n",
       "       3.81824985e+44, 5.57875957e-16, 9.46673748e-03, 3.81824985e+44,\n",
       "       2.93882515e-13, 5.22354654e+45, 2.93882515e-13, 5.97204004e-10,\n",
       "       0.00000000e+00, 5.57875957e-16, 5.97204004e-10])"
      ]
     },
     "execution_count": 27,
     "metadata": {},
     "output_type": "execute_result"
    }
   ],
   "source": [
    "1e-16*dphi_de/mod2_g"
   ]
  },
  {
   "cell_type": "code",
   "execution_count": null,
   "metadata": {},
   "outputs": [],
   "source": []
  }
 ],
 "metadata": {
  "kernelspec": {
   "display_name": "base",
   "language": "python",
   "name": "python3"
  },
  "language_info": {
   "codemirror_mode": {
    "name": "ipython",
    "version": 3
   },
   "file_extension": ".py",
   "mimetype": "text/x-python",
   "name": "python",
   "nbconvert_exporter": "python",
   "pygments_lexer": "ipython3",
   "version": "3.9.13"
  }
 },
 "nbformat": 4,
 "nbformat_minor": 2
}
