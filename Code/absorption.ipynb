{
 "cells": [
  {
   "cell_type": "markdown",
   "metadata": {},
   "source": [
    "# This file is generally to work out the absorption coefficient $I(\\vec{k},\\vec{G})$"
   ]
  },
  {
   "cell_type": "code",
   "execution_count": 113,
   "metadata": {},
   "outputs": [],
   "source": [
    "import numpy as np\n",
    "import matplotlib.pyplot as plt\n",
    "from scipy.special import erf\n",
    "import astropy.units as unit\n",
    "import astropy.constants as const\n",
    "import itertools\n",
    "import plotly.express as px"
   ]
  },
  {
   "cell_type": "code",
   "execution_count": 2,
   "metadata": {},
   "outputs": [],
   "source": [
    "#Define known physical constants\n",
    "a_nai = 6.642 #Lattice constant, Angstroms = 1e-10m, from Dent paper. \n",
    "hbar_kevs = (const.hbar.to(unit.keV*unit.s)).value #hbar, keV*s, from astropy\n",
    "c_aas = (const.c.to(unit.AA/unit.s)).value #speed of light, angstrom/s (cancels with a), from astropy\n",
    "me_hca = (const.m_e/((const.hbar/(const.c*unit.AA)).si)).value #Electron mass, in units of... hbar/(c*AA) to cancel with |G| (LMAOOOOO)"
   ]
  },
  {
   "cell_type": "code",
   "execution_count": 3,
   "metadata": {},
   "outputs": [],
   "source": [
    "# Define unknown constants/crystal info\n",
    "g_agg = 1e-10 #g_agg (axion-photon-photon) coupling constant; in GeV^(-1) (for photon coalescence)\n",
    "g_ag = 1e-10 #Axion-photon coupling (Primakoff process), in GeV^(-1).\n",
    "#Upper bound on g_ag of 2.7e-10 from the Sun, see Di Luzio's review\n",
    "lmda = (g_agg/(1e-8))**4\n",
    "phi_0 = 5.95e14 #in cm^(-2) s^(-1)\n",
    "E_0    = 1.103 #in keV\n",
    "\n",
    "#Crystal Geometry\n",
    "diam = 110*unit.mm\n",
    "hgt = 150*unit.mm \n",
    "vol = ((np.pi*(diam/2)**2*hgt).to(unit.AA**3)).value #Crystal volume, in AA^3\n",
    "\n",
    "vol_cell = 67.71 #In AA^3, from Dent paper"
   ]
  },
  {
   "cell_type": "code",
   "execution_count": 4,
   "metadata": {},
   "outputs": [],
   "source": [
    "#Define useful functions\n",
    "\n",
    "def make_hkl(max_h=5,max_k=5,max_l=5, s=False):\n",
    "    output_list = []\n",
    "    for h in range(max_h+1):\n",
    "        for k in range(max_k+1):\n",
    "            if k%2 == h%2:\n",
    "                for l in range(max_l+1):\n",
    "                    if l%2 == h%2:\n",
    "                        if s:\n",
    "                            if l%2 == 0:\n",
    "                                output_list.append((h,k,l))\n",
    "                        else:\n",
    "                            output_list.append((h,k,l))\n",
    "    return np.array(output_list[1:])\n",
    "\n",
    "def mod2(vec3):\n",
    "    '''Returns the dimensionless magnitude of an array of vectors in the (h,k,l) basis. Factor of 2pi/a has to be multiplied manually'''\n",
    "    return 3*(vec3[:,0]**2 + vec3[:,1]**2 + vec3[:,2]**2) - 2*(vec3[:,0]*vec3[:,1] + vec3[:,1]*vec3[:,2] + vec3[:,2]*vec3[:,0])\n",
    "\n",
    "def gdotk(hkl_arr):\n",
    "    '''Returns gHAT dot kHAT'''\n",
    "    return (-hkl_arr[:,0]+hkl_arr[:,1]+hkl_arr[:,2])/np.sqrt(mod2(hkl_arr)) #IJBOL -- you can't just say ijbol\n",
    "\n",
    "def w_func(Ea, dVector = False, Delta=1.5, E1=1, E2=6):\n",
    "    '''Returns array of W(Ea, Delta, E1, E2) where everything is in keV. Infinite Ea is dealt with'''\n",
    "    w_list = []\n",
    "    if dVector:\n",
    "        entangle = np.dstack((Ea, Delta))\n",
    "        for index in range(entangle.shape[1]):\n",
    "            E = entangle[0,index,0]\n",
    "            D = entangle[0,index,1]\n",
    "            if np.isinf(E):\n",
    "                w_list.append(0)\n",
    "            else:\n",
    "                w = (1/2)*(erf((E-E1)/(np.sqrt(2)*D)) - erf((E-E2)/(np.sqrt(2)*D)))\n",
    "                w_list.append(w)\n",
    "    else:\n",
    "        for E in Ea:\n",
    "            if np.isinf(E):\n",
    "                w_list.append(0)\n",
    "            else:\n",
    "                w = (1/2)*(erf((E-E1)/(np.sqrt(2)*Delta)) - erf((E-E2)/(np.sqrt(2)*Delta)))\n",
    "                w_list.append(w)\n",
    "    return np.array(w_list)\n",
    "\n",
    "def make_dpde(Energy_array):\n",
    "    '''Creates dPhi/dE for the parametrised blackbody-like form appearing in older papers. Assumes no axion mass.\n",
    "    Units of cm^(-2) s^(-1) keV^(-1)'''\n",
    "    dpdt_list = []\n",
    "    for E in Energy_array:\n",
    "        if np.isinf(E):\n",
    "            dpdt_list.append(0)\n",
    "        else:\n",
    "            dpdt_list.append(np.sqrt(lmda)*(phi_0)/(E_0) * (E/E_0)**3/(np.exp(E/E_0)-1))\n",
    "    return np.array(dpdt_list)\n",
    "\n",
    "def hkl_to_cart(hkl_array):\n",
    "    '''Converts from hkl basis to cartesian basis, ignoring factor of 2pi/a'''\n",
    "    x_axis = - hkl_array[:,0] + hkl_array[:,1] + hkl_array[:,2] \n",
    "    y_axis =   hkl_array[:,0] - hkl_array[:,1] + hkl_array[:,2] \n",
    "    z_axis =   hkl_array[:,0] + hkl_array[:,1] - hkl_array[:,2] \n",
    "    return np.stack((x_axis, y_axis, z_axis), axis=1)"
   ]
  },
  {
   "cell_type": "code",
   "execution_count": 5,
   "metadata": {},
   "outputs": [],
   "source": [
    "hkl = make_hkl(s=True)\n",
    "hkl_c = hkl_to_cart(hkl)"
   ]
  },
  {
   "cell_type": "code",
   "execution_count": 6,
   "metadata": {},
   "outputs": [],
   "source": [
    "g_cart = hkl_c*2*np.pi/a_nai #in AA^(-1)"
   ]
  },
  {
   "cell_type": "code",
   "execution_count": 28,
   "metadata": {},
   "outputs": [],
   "source": [
    "def one_cube(a):\n",
    "    '''Creates an array of 3d points representing one cell in an FCC lattice'''\n",
    "    return np.array([(0,0,0),(a,0,0),(0,0,a),(a,0,a),\n",
    "            (0,a,0),(a,a,0),(0,a,a),(a,a,a),\n",
    "            (0,a/2,a/2), (a/2,0,a/2), (a/2,a/2,0),\n",
    "            (a,a/2,a/2), (a/2,a,a/2), (a/2,a/2,a)])"
   ]
  },
  {
   "cell_type": "code",
   "execution_count": 29,
   "metadata": {},
   "outputs": [],
   "source": [
    "def make_lattice_points(cell_vec = (10,10,10), a = a_nai):\n",
    "    #Number of points is almost exactly O(n^3)\n",
    "    nx = cell_vec[0]\n",
    "    ny = cell_vec[1]\n",
    "    nz = cell_vec[2]    \n",
    "\n",
    "    all_points = one_cube(a) #Initial cube\n",
    "    init_list = list(itertools.product(range(nx),range(ny),range(nz)))\n",
    "    \n",
    "    for start_vec in init_list:\n",
    "        extend_table = np.repeat(np.array([start_vec]), 14, axis=0)\n",
    "        points = np.array(one_cube(a)) + extend_table\n",
    "        all_points = np.vstack((all_points, points))\n",
    "    return np.unique(all_points, axis=0)"
   ]
  },
  {
   "cell_type": "code",
   "execution_count": 142,
   "metadata": {},
   "outputs": [],
   "source": [
    "idk = 100*make_lattice_points(cell_vec=(5,\n",
    "                                        5,\n",
    "                                        5))"
   ]
  },
  {
   "cell_type": "code",
   "execution_count": 49,
   "metadata": {},
   "outputs": [
    {
     "data": {
      "text/plain": [
       "1750"
      ]
     },
     "execution_count": 49,
     "metadata": {},
     "output_type": "execute_result"
    }
   ],
   "source": [
    "len(idk)"
   ]
  },
  {
   "cell_type": "code",
   "execution_count": 50,
   "metadata": {},
   "outputs": [
    {
     "data": {
      "text/plain": [
       "array([[   0. ,    0. ,    0. ],\n",
       "       [   0. ,    0. ,  100. ],\n",
       "       [   0. ,    0. ,  200. ],\n",
       "       ...,\n",
       "       [1064.2, 1064.2,  864.2],\n",
       "       [1064.2, 1064.2,  964.2],\n",
       "       [1064.2, 1064.2, 1064.2]])"
      ]
     },
     "execution_count": 50,
     "metadata": {},
     "output_type": "execute_result"
    }
   ],
   "source": [
    "idk"
   ]
  },
  {
   "cell_type": "code",
   "execution_count": 51,
   "metadata": {},
   "outputs": [],
   "source": [
    "erm = []\n",
    "\n",
    "for vec1 in idk:\n",
    "    for vec2 in idk:\n",
    "        erm.append(vec1-vec2)\n",
    "\n",
    "erm = np.array(erm)\n",
    "#47.1s when n=7^3"
   ]
  },
  {
   "cell_type": "code",
   "execution_count": 52,
   "metadata": {},
   "outputs": [
    {
     "data": {
      "text/plain": [
       "array([[   0.,    0.,    0.],\n",
       "       [   0.,    0., -100.],\n",
       "       [   0.,    0., -200.],\n",
       "       ...,\n",
       "       [   0.,    0.,  200.],\n",
       "       [   0.,    0.,  100.],\n",
       "       [   0.,    0.,    0.]])"
      ]
     },
     "execution_count": 52,
     "metadata": {},
     "output_type": "execute_result"
    }
   ],
   "source": [
    "erm"
   ]
  },
  {
   "cell_type": "code",
   "execution_count": 53,
   "metadata": {},
   "outputs": [
    {
     "data": {
      "text/plain": [
       "5.729505428511119e-10"
      ]
     },
     "execution_count": 53,
     "metadata": {},
     "output_type": "execute_result"
    }
   ],
   "source": [
    "kr = erm[:,0]\n",
    "kr_plus = kr[kr>0]\n",
    "np.sum(np.exp(-np.abs(kr_plus)))"
   ]
  },
  {
   "cell_type": "code",
   "execution_count": 56,
   "metadata": {},
   "outputs": [
    {
     "data": {
      "text/plain": [
       "array([0, 1, 2, 3, 4])"
      ]
     },
     "execution_count": 56,
     "metadata": {},
     "output_type": "execute_result"
    }
   ],
   "source": [
    "np.arange(0,5,1)"
   ]
  },
  {
   "cell_type": "code",
   "execution_count": 57,
   "metadata": {},
   "outputs": [
    {
     "data": {
      "text/plain": [
       "array([0.5, 1.5, 2.5, 3.5])"
      ]
     },
     "execution_count": 57,
     "metadata": {},
     "output_type": "execute_result"
    }
   ],
   "source": [
    "np.arange(1/2,4+1/2,1)"
   ]
  },
  {
   "cell_type": "code",
   "execution_count": 64,
   "metadata": {},
   "outputs": [
    {
     "data": {
      "text/plain": [
       "<matplotlib.collections.PathCollection at 0x1971eea9cd0>"
      ]
     },
     "execution_count": 64,
     "metadata": {},
     "output_type": "execute_result"
    },
    {
     "data": {
      "image/png": "[encoded data removed]",
      "text/plain": [
       "<Figure size 640x480 with 1 Axes>"
      ]
     },
     "metadata": {},
     "output_type": "display_data"
    }
   ],
   "source": [
    "x_arr = np.arange(0,5,1)\n",
    "y_arr = np.arange(0,5,1)\n",
    "product = np.array(list(itertools.product(x_arr, y_arr)))\n",
    "\n",
    "hx_arr = np.arange(0.5,4.5, 1)\n",
    "hy_arr = np.arange(0.5,4.5, 1)\n",
    "h_product = np.array(list(itertools.product(hx_arr, hy_arr)))\n",
    "\n",
    "n_grid = np.vstack((product,h_product))\n",
    "plt.scatter(n_grid[:,0], n_grid[:,1])"
   ]
  },
  {
   "cell_type": "code",
   "execution_count": 94,
   "metadata": {},
   "outputs": [
    {
     "data": {
      "text/plain": [
       "<matplotlib.collections.PathCollection at 0x1972ed83520>"
      ]
     },
     "execution_count": 94,
     "metadata": {},
     "output_type": "execute_result"
    },
    {
     "data": {
      "image/png": "[encoded data removed]",
      "text/plain": [
       "<Figure size 640x480 with 1 Axes>"
      ]
     },
     "metadata": {},
     "output_type": "display_data"
    }
   ],
   "source": [
    "full_grid = np.array(tuple(itertools.product(np.arange(0,4.5,0.5),\n",
    "                                             np.arange(0,4.5,0.5))))\n",
    "\n",
    "plt.scatter(full_grid[:,0], \n",
    "            full_grid[:,1])"
   ]
  },
  {
   "cell_type": "code",
   "execution_count": 85,
   "metadata": {},
   "outputs": [],
   "source": [
    "make_tuples = lambda grid:  [ tuple(x) for x in grid.tolist()]"
   ]
  },
  {
   "cell_type": "code",
   "execution_count": 97,
   "metadata": {},
   "outputs": [
    {
     "data": {
      "text/plain": [
       "<matplotlib.collections.PathCollection at 0x1971eff4fa0>"
      ]
     },
     "execution_count": 97,
     "metadata": {},
     "output_type": "execute_result"
    },
    {
     "data": {
      "image/png": "[encoded data removed]",
      "text/plain": [
       "<Figure size 640x480 with 1 Axes>"
      ]
     },
     "metadata": {},
     "output_type": "display_data"
    }
   ],
   "source": [
    "err = set(make_tuples(full_grid)) - set(make_tuples(n_grid))\n",
    "er2 = np.array(list(err))\n",
    "\n",
    "plt.scatter(er2[:,0], \n",
    "            er2[:,1], color='red')\n",
    "\n",
    "plt.scatter(n_grid[:,0],\n",
    "            n_grid[:,1], color='blue')"
   ]
  },
  {
   "cell_type": "code",
   "execution_count": 128,
   "metadata": {},
   "outputs": [],
   "source": [
    "full_grid_3d = np.array(tuple(itertools.product(np.arange(0,4.5,0.5),\n",
    "                                                np.arange(0,4.5,0.5),\n",
    "                                                np.arange(0,4.5,0.5))))"
   ]
  },
  {
   "cell_type": "code",
   "execution_count": 127,
   "metadata": {},
   "outputs": [
    {
     "data": {
      "text/plain": [
       "[(0.5, 0.5, 0.0),\n",
       " (0.5, 0.5, 1.0),\n",
       " (0.5, 0.5, 2.0),\n",
       " (0.5, 0.5, 3.0),\n",
       " (0.5, 0.5, 4.0),\n",
       " (0.5, 1.5, 0.0),\n",
       " (0.5, 1.5, 1.0),\n",
       " (0.5, 1.5, 2.0),\n",
       " (0.5, 1.5, 3.0),\n",
       " (0.5, 1.5, 4.0),\n",
       " (0.5, 2.5, 0.0),\n",
       " (0.5, 2.5, 1.0),\n",
       " (0.5, 2.5, 2.0),\n",
       " (0.5, 2.5, 3.0),\n",
       " (0.5, 2.5, 4.0),\n",
       " (0.5, 3.5, 0.0),\n",
       " (0.5, 3.5, 1.0),\n",
       " (0.5, 3.5, 2.0),\n",
       " (0.5, 3.5, 3.0),\n",
       " (0.5, 3.5, 4.0),\n",
       " (1.5, 0.5, 0.0),\n",
       " (1.5, 0.5, 1.0),\n",
       " (1.5, 0.5, 2.0),\n",
       " (1.5, 0.5, 3.0),\n",
       " (1.5, 0.5, 4.0),\n",
       " (1.5, 1.5, 0.0),\n",
       " (1.5, 1.5, 1.0),\n",
       " (1.5, 1.5, 2.0),\n",
       " (1.5, 1.5, 3.0),\n",
       " (1.5, 1.5, 4.0),\n",
       " (1.5, 2.5, 0.0),\n",
       " (1.5, 2.5, 1.0),\n",
       " (1.5, 2.5, 2.0),\n",
       " (1.5, 2.5, 3.0),\n",
       " (1.5, 2.5, 4.0),\n",
       " (1.5, 3.5, 0.0),\n",
       " (1.5, 3.5, 1.0),\n",
       " (1.5, 3.5, 2.0),\n",
       " (1.5, 3.5, 3.0),\n",
       " (1.5, 3.5, 4.0),\n",
       " (2.5, 0.5, 0.0),\n",
       " (2.5, 0.5, 1.0),\n",
       " (2.5, 0.5, 2.0),\n",
       " (2.5, 0.5, 3.0),\n",
       " (2.5, 0.5, 4.0),\n",
       " (2.5, 1.5, 0.0),\n",
       " (2.5, 1.5, 1.0),\n",
       " (2.5, 1.5, 2.0),\n",
       " (2.5, 1.5, 3.0),\n",
       " (2.5, 1.5, 4.0),\n",
       " (2.5, 2.5, 0.0),\n",
       " (2.5, 2.5, 1.0),\n",
       " (2.5, 2.5, 2.0),\n",
       " (2.5, 2.5, 3.0),\n",
       " (2.5, 2.5, 4.0),\n",
       " (2.5, 3.5, 0.0),\n",
       " (2.5, 3.5, 1.0),\n",
       " (2.5, 3.5, 2.0),\n",
       " (2.5, 3.5, 3.0),\n",
       " (2.5, 3.5, 4.0),\n",
       " (3.5, 0.5, 0.0),\n",
       " (3.5, 0.5, 1.0),\n",
       " (3.5, 0.5, 2.0),\n",
       " (3.5, 0.5, 3.0),\n",
       " (3.5, 0.5, 4.0),\n",
       " (3.5, 1.5, 0.0),\n",
       " (3.5, 1.5, 1.0),\n",
       " (3.5, 1.5, 2.0),\n",
       " (3.5, 1.5, 3.0),\n",
       " (3.5, 1.5, 4.0),\n",
       " (3.5, 2.5, 0.0),\n",
       " (3.5, 2.5, 1.0),\n",
       " (3.5, 2.5, 2.0),\n",
       " (3.5, 2.5, 3.0),\n",
       " (3.5, 2.5, 4.0),\n",
       " (3.5, 3.5, 0.0),\n",
       " (3.5, 3.5, 1.0),\n",
       " (3.5, 3.5, 2.0),\n",
       " (3.5, 3.5, 3.0),\n",
       " (3.5, 3.5, 4.0)]"
      ]
     },
     "execution_count": 127,
     "metadata": {},
     "output_type": "execute_result"
    }
   ],
   "source": [
    "make_tuples(d3_h)"
   ]
  },
  {
   "cell_type": "code",
   "execution_count": 121,
   "metadata": {},
   "outputs": [
    {
     "data": {
      "text/plain": [
       "array([[0. , 0. , 0. ],\n",
       "       [0. , 0. , 1. ],\n",
       "       [0. , 0. , 2. ],\n",
       "       [0. , 0. , 3. ],\n",
       "       [0. , 0. , 4. ],\n",
       "       [0. , 1. , 0. ],\n",
       "       [0. , 1. , 1. ],\n",
       "       [0. , 1. , 2. ],\n",
       "       [0. , 1. , 3. ],\n",
       "       [0. , 1. , 4. ],\n",
       "       [0. , 2. , 0. ],\n",
       "       [0. , 2. , 1. ],\n",
       "       [0. , 2. , 2. ],\n",
       "       [0. , 2. , 3. ],\n",
       "       [0. , 2. , 4. ],\n",
       "       [0. , 3. , 0. ],\n",
       "       [0. , 3. , 1. ],\n",
       "       [0. , 3. , 2. ],\n",
       "       [0. , 3. , 3. ],\n",
       "       [0. , 3. , 4. ],\n",
       "       [0. , 4. , 0. ],\n",
       "       [0. , 4. , 1. ],\n",
       "       [0. , 4. , 2. ],\n",
       "       [0. , 4. , 3. ],\n",
       "       [0. , 4. , 4. ],\n",
       "       [1. , 0. , 0. ],\n",
       "       [1. , 0. , 1. ],\n",
       "       [1. , 0. , 2. ],\n",
       "       [1. , 0. , 3. ],\n",
       "       [1. , 0. , 4. ],\n",
       "       [1. , 1. , 0. ],\n",
       "       [1. , 1. , 1. ],\n",
       "       [1. , 1. , 2. ],\n",
       "       [1. , 1. , 3. ],\n",
       "       [1. , 1. , 4. ],\n",
       "       [1. , 2. , 0. ],\n",
       "       [1. , 2. , 1. ],\n",
       "       [1. , 2. , 2. ],\n",
       "       [1. , 2. , 3. ],\n",
       "       [1. , 2. , 4. ],\n",
       "       [1. , 3. , 0. ],\n",
       "       [1. , 3. , 1. ],\n",
       "       [1. , 3. , 2. ],\n",
       "       [1. , 3. , 3. ],\n",
       "       [1. , 3. , 4. ],\n",
       "       [1. , 4. , 0. ],\n",
       "       [1. , 4. , 1. ],\n",
       "       [1. , 4. , 2. ],\n",
       "       [1. , 4. , 3. ],\n",
       "       [1. , 4. , 4. ],\n",
       "       [2. , 0. , 0. ],\n",
       "       [2. , 0. , 1. ],\n",
       "       [2. , 0. , 2. ],\n",
       "       [2. , 0. , 3. ],\n",
       "       [2. , 0. , 4. ],\n",
       "       [2. , 1. , 0. ],\n",
       "       [2. , 1. , 1. ],\n",
       "       [2. , 1. , 2. ],\n",
       "       [2. , 1. , 3. ],\n",
       "       [2. , 1. , 4. ],\n",
       "       [2. , 2. , 0. ],\n",
       "       [2. , 2. , 1. ],\n",
       "       [2. , 2. , 2. ],\n",
       "       [2. , 2. , 3. ],\n",
       "       [2. , 2. , 4. ],\n",
       "       [2. , 3. , 0. ],\n",
       "       [2. , 3. , 1. ],\n",
       "       [2. , 3. , 2. ],\n",
       "       [2. , 3. , 3. ],\n",
       "       [2. , 3. , 4. ],\n",
       "       [2. , 4. , 0. ],\n",
       "       [2. , 4. , 1. ],\n",
       "       [2. , 4. , 2. ],\n",
       "       [2. , 4. , 3. ],\n",
       "       [2. , 4. , 4. ],\n",
       "       [3. , 0. , 0. ],\n",
       "       [3. , 0. , 1. ],\n",
       "       [3. , 0. , 2. ],\n",
       "       [3. , 0. , 3. ],\n",
       "       [3. , 0. , 4. ],\n",
       "       [3. , 1. , 0. ],\n",
       "       [3. , 1. , 1. ],\n",
       "       [3. , 1. , 2. ],\n",
       "       [3. , 1. , 3. ],\n",
       "       [3. , 1. , 4. ],\n",
       "       [3. , 2. , 0. ],\n",
       "       [3. , 2. , 1. ],\n",
       "       [3. , 2. , 2. ],\n",
       "       [3. , 2. , 3. ],\n",
       "       [3. , 2. , 4. ],\n",
       "       [3. , 3. , 0. ],\n",
       "       [3. , 3. , 1. ],\n",
       "       [3. , 3. , 2. ],\n",
       "       [3. , 3. , 3. ],\n",
       "       [3. , 3. , 4. ],\n",
       "       [3. , 4. , 0. ],\n",
       "       [3. , 4. , 1. ],\n",
       "       [3. , 4. , 2. ],\n",
       "       [3. , 4. , 3. ],\n",
       "       [3. , 4. , 4. ],\n",
       "       [4. , 0. , 0. ],\n",
       "       [4. , 0. , 1. ],\n",
       "       [4. , 0. , 2. ],\n",
       "       [4. , 0. , 3. ],\n",
       "       [4. , 0. , 4. ],\n",
       "       [4. , 1. , 0. ],\n",
       "       [4. , 1. , 1. ],\n",
       "       [4. , 1. , 2. ],\n",
       "       [4. , 1. , 3. ],\n",
       "       [4. , 1. , 4. ],\n",
       "       [4. , 2. , 0. ],\n",
       "       [4. , 2. , 1. ],\n",
       "       [4. , 2. , 2. ],\n",
       "       [4. , 2. , 3. ],\n",
       "       [4. , 2. , 4. ],\n",
       "       [4. , 3. , 0. ],\n",
       "       [4. , 3. , 1. ],\n",
       "       [4. , 3. , 2. ],\n",
       "       [4. , 3. , 3. ],\n",
       "       [4. , 3. , 4. ],\n",
       "       [4. , 4. , 0. ],\n",
       "       [4. , 4. , 1. ],\n",
       "       [4. , 4. , 2. ],\n",
       "       [4. , 4. , 3. ],\n",
       "       [4. , 4. , 4. ],\n",
       "       [0.5, 0.5, 0. ],\n",
       "       [0.5, 0.5, 1. ],\n",
       "       [0.5, 0.5, 2. ],\n",
       "       [0.5, 0.5, 3. ],\n",
       "       [0.5, 0.5, 4. ],\n",
       "       [0.5, 1.5, 0. ],\n",
       "       [0.5, 1.5, 1. ],\n",
       "       [0.5, 1.5, 2. ],\n",
       "       [0.5, 1.5, 3. ],\n",
       "       [0.5, 1.5, 4. ],\n",
       "       [0.5, 2.5, 0. ],\n",
       "       [0.5, 2.5, 1. ],\n",
       "       [0.5, 2.5, 2. ],\n",
       "       [0.5, 2.5, 3. ],\n",
       "       [0.5, 2.5, 4. ],\n",
       "       [0.5, 3.5, 0. ],\n",
       "       [0.5, 3.5, 1. ],\n",
       "       [0.5, 3.5, 2. ],\n",
       "       [0.5, 3.5, 3. ],\n",
       "       [0.5, 3.5, 4. ],\n",
       "       [1.5, 0.5, 0. ],\n",
       "       [1.5, 0.5, 1. ],\n",
       "       [1.5, 0.5, 2. ],\n",
       "       [1.5, 0.5, 3. ],\n",
       "       [1.5, 0.5, 4. ],\n",
       "       [1.5, 1.5, 0. ],\n",
       "       [1.5, 1.5, 1. ],\n",
       "       [1.5, 1.5, 2. ],\n",
       "       [1.5, 1.5, 3. ],\n",
       "       [1.5, 1.5, 4. ],\n",
       "       [1.5, 2.5, 0. ],\n",
       "       [1.5, 2.5, 1. ],\n",
       "       [1.5, 2.5, 2. ],\n",
       "       [1.5, 2.5, 3. ],\n",
       "       [1.5, 2.5, 4. ],\n",
       "       [1.5, 3.5, 0. ],\n",
       "       [1.5, 3.5, 1. ],\n",
       "       [1.5, 3.5, 2. ],\n",
       "       [1.5, 3.5, 3. ],\n",
       "       [1.5, 3.5, 4. ],\n",
       "       [2.5, 0.5, 0. ],\n",
       "       [2.5, 0.5, 1. ],\n",
       "       [2.5, 0.5, 2. ],\n",
       "       [2.5, 0.5, 3. ],\n",
       "       [2.5, 0.5, 4. ],\n",
       "       [2.5, 1.5, 0. ],\n",
       "       [2.5, 1.5, 1. ],\n",
       "       [2.5, 1.5, 2. ],\n",
       "       [2.5, 1.5, 3. ],\n",
       "       [2.5, 1.5, 4. ],\n",
       "       [2.5, 2.5, 0. ],\n",
       "       [2.5, 2.5, 1. ],\n",
       "       [2.5, 2.5, 2. ],\n",
       "       [2.5, 2.5, 3. ],\n",
       "       [2.5, 2.5, 4. ],\n",
       "       [2.5, 3.5, 0. ],\n",
       "       [2.5, 3.5, 1. ],\n",
       "       [2.5, 3.5, 2. ],\n",
       "       [2.5, 3.5, 3. ],\n",
       "       [2.5, 3.5, 4. ],\n",
       "       [3.5, 0.5, 0. ],\n",
       "       [3.5, 0.5, 1. ],\n",
       "       [3.5, 0.5, 2. ],\n",
       "       [3.5, 0.5, 3. ],\n",
       "       [3.5, 0.5, 4. ],\n",
       "       [3.5, 1.5, 0. ],\n",
       "       [3.5, 1.5, 1. ],\n",
       "       [3.5, 1.5, 2. ],\n",
       "       [3.5, 1.5, 3. ],\n",
       "       [3.5, 1.5, 4. ],\n",
       "       [3.5, 2.5, 0. ],\n",
       "       [3.5, 2.5, 1. ],\n",
       "       [3.5, 2.5, 2. ],\n",
       "       [3.5, 2.5, 3. ],\n",
       "       [3.5, 2.5, 4. ],\n",
       "       [3.5, 3.5, 0. ],\n",
       "       [3.5, 3.5, 1. ],\n",
       "       [3.5, 3.5, 2. ],\n",
       "       [3.5, 3.5, 3. ],\n",
       "       [3.5, 3.5, 4. ]])"
      ]
     },
     "execution_count": 121,
     "metadata": {},
     "output_type": "execute_result"
    }
   ],
   "source": [
    "d3 = np.array(list(itertools.product(x_arr, y_arr, np.arange(0,5,1))))\n",
    "d3_h = np.array(list(itertools.product(hx_arr, hy_arr, np.arange(0,5,1))))\n",
    "\n",
    "\n",
    "lol = np.vstack((d3, d3_h))\n",
    "lol"
   ]
  },
  {
   "cell_type": "code",
   "execution_count": 168,
   "metadata": {},
   "outputs": [
    {
     "data": {
      "application/vnd.plotly.v1+json": {
       "config": {
        "plotlyServerURL": "https://plot.ly"
       },
       "data": [
        {
         "hovertemplate": "x=%{x}<br>y=%{y}<br>z=%{z}<extra></extra>",
         "legendgroup": "",
         "marker": {
          "color": "#636efa",
          "symbol": "circle"
         },
         "mode": "markers",
         "name": "",
         "scene": "scene",
         "showlegend": false,
         "type": "scatter3d",
         "x": [
          0,
          0,
          0,
          0,
          0,
          0,
          0,
          0,
          0,
          0,
          0,
          0,
          0,
          0,
          0,
          0,
          0,
          0,
          0,
          0,
          0,
          0,
          0,
          0,
          0,
          0,
          0,
          0,
          0,
          0,
          0,
          0,
          0,
          0,
          0,
          0,
          0,
          0,
          0,
          0,
          0,
          0.5,
          0.5,
          0.5,
          0.5,
          0.5,
          0.5,
          0.5,
          0.5,
          0.5,
          0.5,
          0.5,
          0.5,
          0.5,
          0.5,
          0.5,
          0.5,
          0.5,
          0.5,
          0.5,
          0.5,
          0.5,
          0.5,
          0.5,
          0.5,
          0.5,
          0.5,
          0.5,
          0.5,
          0.5,
          0.5,
          0.5,
          0.5,
          0.5,
          0.5,
          0.5,
          0.5,
          0.5,
          0.5,
          0.5,
          0.5,
          1,
          1,
          1,
          1,
          1,
          1,
          1,
          1,
          1,
          1,
          1,
          1,
          1,
          1,
          1,
          1,
          1,
          1,
          1,
          1,
          1,
          1,
          1,
          1,
          1,
          1,
          1,
          1,
          1,
          1,
          1,
          1,
          1,
          1,
          1,
          1,
          1,
          1,
          1,
          1,
          1,
          1.5,
          1.5,
          1.5,
          1.5,
          1.5,
          1.5,
          1.5,
          1.5,
          1.5,
          1.5,
          1.5,
          1.5,
          1.5,
          1.5,
          1.5,
          1.5,
          1.5,
          1.5,
          1.5,
          1.5,
          1.5,
          1.5,
          1.5,
          1.5,
          1.5,
          1.5,
          1.5,
          1.5,
          1.5,
          1.5,
          1.5,
          1.5,
          1.5,
          1.5,
          1.5,
          1.5,
          1.5,
          1.5,
          1.5,
          1.5,
          2,
          2,
          2,
          2,
          2,
          2,
          2,
          2,
          2,
          2,
          2,
          2,
          2,
          2,
          2,
          2,
          2,
          2,
          2,
          2,
          2,
          2,
          2,
          2,
          2,
          2,
          2,
          2,
          2,
          2,
          2,
          2,
          2,
          2,
          2,
          2,
          2,
          2,
          2,
          2,
          2,
          2.5,
          2.5,
          2.5,
          2.5,
          2.5,
          2.5,
          2.5,
          2.5,
          2.5,
          2.5,
          2.5,
          2.5,
          2.5,
          2.5,
          2.5,
          2.5,
          2.5,
          2.5,
          2.5,
          2.5,
          2.5,
          2.5,
          2.5,
          2.5,
          2.5,
          2.5,
          2.5,
          2.5,
          2.5,
          2.5,
          2.5,
          2.5,
          2.5,
          2.5,
          2.5,
          2.5,
          2.5,
          2.5,
          2.5,
          2.5,
          3,
          3,
          3,
          3,
          3,
          3,
          3,
          3,
          3,
          3,
          3,
          3,
          3,
          3,
          3,
          3,
          3,
          3,
          3,
          3,
          3,
          3,
          3,
          3,
          3,
          3,
          3,
          3,
          3,
          3,
          3,
          3,
          3,
          3,
          3,
          3,
          3,
          3,
          3,
          3,
          3,
          3.5,
          3.5,
          3.5,
          3.5,
          3.5,
          3.5,
          3.5,
          3.5,
          3.5,
          3.5,
          3.5,
          3.5,
          3.5,
          3.5,
          3.5,
          3.5,
          3.5,
          3.5,
          3.5,
          3.5,
          3.5,
          3.5,
          3.5,
          3.5,
          3.5,
          3.5,
          3.5,
          3.5,
          3.5,
          3.5,
          3.5,
          3.5,
          3.5,
          3.5,
          3.5,
          3.5,
          3.5,
          3.5,
          3.5,
          3.5,
          4,
          4,
          4,
          4,
          4,
          4,
          4,
          4,
          4,
          4,
          4,
          4,
          4,
          4,
          4,
          4,
          4,
          4,
          4,
          4,
          4,
          4,
          4,
          4,
          4,
          4,
          4,
          4,
          4,
          4,
          4,
          4,
          4,
          4,
          4,
          4,
          4,
          4,
          4,
          4,
          4
         ],
         "y": [
          0,
          0,
          0,
          0,
          0,
          0.5,
          0.5,
          0.5,
          0.5,
          1,
          1,
          1,
          1,
          1,
          1.5,
          1.5,
          1.5,
          1.5,
          2,
          2,
          2,
          2,
          2,
          2.5,
          2.5,
          2.5,
          2.5,
          3,
          3,
          3,
          3,
          3,
          3.5,
          3.5,
          3.5,
          3.5,
          4,
          4,
          4,
          4,
          4,
          0,
          0,
          0,
          0,
          0.5,
          0.5,
          0.5,
          0.5,
          0.5,
          1,
          1,
          1,
          1,
          1.5,
          1.5,
          1.5,
          1.5,
          1.5,
          2,
          2,
          2,
          2,
          2.5,
          2.5,
          2.5,
          2.5,
          2.5,
          3,
          3,
          3,
          3,
          3.5,
          3.5,
          3.5,
          3.5,
          3.5,
          4,
          4,
          4,
          4,
          0,
          0,
          0,
          0,
          0,
          0.5,
          0.5,
          0.5,
          0.5,
          1,
          1,
          1,
          1,
          1,
          1.5,
          1.5,
          1.5,
          1.5,
          2,
          2,
          2,
          2,
          2,
          2.5,
          2.5,
          2.5,
          2.5,
          3,
          3,
          3,
          3,
          3,
          3.5,
          3.5,
          3.5,
          3.5,
          4,
          4,
          4,
          4,
          4,
          0,
          0,
          0,
          0,
          0.5,
          0.5,
          0.5,
          0.5,
          0.5,
          1,
          1,
          1,
          1,
          1.5,
          1.5,
          1.5,
          1.5,
          1.5,
          2,
          2,
          2,
          2,
          2.5,
          2.5,
          2.5,
          2.5,
          2.5,
          3,
          3,
          3,
          3,
          3.5,
          3.5,
          3.5,
          3.5,
          3.5,
          4,
          4,
          4,
          4,
          0,
          0,
          0,
          0,
          0,
          0.5,
          0.5,
          0.5,
          0.5,
          1,
          1,
          1,
          1,
          1,
          1.5,
          1.5,
          1.5,
          1.5,
          2,
          2,
          2,
          2,
          2,
          2.5,
          2.5,
          2.5,
          2.5,
          3,
          3,
          3,
          3,
          3,
          3.5,
          3.5,
          3.5,
          3.5,
          4,
          4,
          4,
          4,
          4,
          0,
          0,
          0,
          0,
          0.5,
          0.5,
          0.5,
          0.5,
          0.5,
          1,
          1,
          1,
          1,
          1.5,
          1.5,
          1.5,
          1.5,
          1.5,
          2,
          2,
          2,
          2,
          2.5,
          2.5,
          2.5,
          2.5,
          2.5,
          3,
          3,
          3,
          3,
          3.5,
          3.5,
          3.5,
          3.5,
          3.5,
          4,
          4,
          4,
          4,
          0,
          0,
          0,
          0,
          0,
          0.5,
          0.5,
          0.5,
          0.5,
          1,
          1,
          1,
          1,
          1,
          1.5,
          1.5,
          1.5,
          1.5,
          2,
          2,
          2,
          2,
          2,
          2.5,
          2.5,
          2.5,
          2.5,
          3,
          3,
          3,
          3,
          3,
          3.5,
          3.5,
          3.5,
          3.5,
          4,
          4,
          4,
          4,
          4,
          0,
          0,
          0,
          0,
          0.5,
          0.5,
          0.5,
          0.5,
          0.5,
          1,
          1,
          1,
          1,
          1.5,
          1.5,
          1.5,
          1.5,
          1.5,
          2,
          2,
          2,
          2,
          2.5,
          2.5,
          2.5,
          2.5,
          2.5,
          3,
          3,
          3,
          3,
          3.5,
          3.5,
          3.5,
          3.5,
          3.5,
          4,
          4,
          4,
          4,
          0,
          0,
          0,
          0,
          0,
          0.5,
          0.5,
          0.5,
          0.5,
          1,
          1,
          1,
          1,
          1,
          1.5,
          1.5,
          1.5,
          1.5,
          2,
          2,
          2,
          2,
          2,
          2.5,
          2.5,
          2.5,
          2.5,
          3,
          3,
          3,
          3,
          3,
          3.5,
          3.5,
          3.5,
          3.5,
          4,
          4,
          4,
          4,
          4
         ],
         "z": [
          0,
          1,
          2,
          3,
          4,
          0.5,
          1.5,
          2.5,
          3.5,
          0,
          1,
          2,
          3,
          4,
          0.5,
          1.5,
          2.5,
          3.5,
          0,
          1,
          2,
          3,
          4,
          0.5,
          1.5,
          2.5,
          3.5,
          0,
          1,
          2,
          3,
          4,
          0.5,
          1.5,
          2.5,
          3.5,
          0,
          1,
          2,
          3,
          4,
          0.5,
          1.5,
          2.5,
          3.5,
          0,
          1,
          2,
          3,
          4,
          0.5,
          1.5,
          2.5,
          3.5,
          0,
          1,
          2,
          3,
          4,
          0.5,
          1.5,
          2.5,
          3.5,
          0,
          1,
          2,
          3,
          4,
          0.5,
          1.5,
          2.5,
          3.5,
          0,
          1,
          2,
          3,
          4,
          0.5,
          1.5,
          2.5,
          3.5,
          0,
          1,
          2,
          3,
          4,
          0.5,
          1.5,
          2.5,
          3.5,
          0,
          1,
          2,
          3,
          4,
          0.5,
          1.5,
          2.5,
          3.5,
          0,
          1,
          2,
          3,
          4,
          0.5,
          1.5,
          2.5,
          3.5,
          0,
          1,
          2,
          3,
          4,
          0.5,
          1.5,
          2.5,
          3.5,
          0,
          1,
          2,
          3,
          4,
          0.5,
          1.5,
          2.5,
          3.5,
          0,
          1,
          2,
          3,
          4,
          0.5,
          1.5,
          2.5,
          3.5,
          0,
          1,
          2,
          3,
          4,
          0.5,
          1.5,
          2.5,
          3.5,
          0,
          1,
          2,
          3,
          4,
          0.5,
          1.5,
          2.5,
          3.5,
          0,
          1,
          2,
          3,
          4,
          0.5,
          1.5,
          2.5,
          3.5,
          0,
          1,
          2,
          3,
          4,
          0.5,
          1.5,
          2.5,
          3.5,
          0,
          1,
          2,
          3,
          4,
          0.5,
          1.5,
          2.5,
          3.5,
          0,
          1,
          2,
          3,
          4,
          0.5,
          1.5,
          2.5,
          3.5,
          0,
          1,
          2,
          3,
          4,
          0.5,
          1.5,
          2.5,
          3.5,
          0,
          1,
          2,
          3,
          4,
          0.5,
          1.5,
          2.5,
          3.5,
          0,
          1,
          2,
          3,
          4,
          0.5,
          1.5,
          2.5,
          3.5,
          0,
          1,
          2,
          3,
          4,
          0.5,
          1.5,
          2.5,
          3.5,
          0,
          1,
          2,
          3,
          4,
          0.5,
          1.5,
          2.5,
          3.5,
          0,
          1,
          2,
          3,
          4,
          0.5,
          1.5,
          2.5,
          3.5,
          0,
          1,
          2,
          3,
          4,
          0.5,
          1.5,
          2.5,
          3.5,
          0,
          1,
          2,
          3,
          4,
          0.5,
          1.5,
          2.5,
          3.5,
          0,
          1,
          2,
          3,
          4,
          0.5,
          1.5,
          2.5,
          3.5,
          0,
          1,
          2,
          3,
          4,
          0.5,
          1.5,
          2.5,
          3.5,
          0,
          1,
          2,
          3,
          4,
          0.5,
          1.5,
          2.5,
          3.5,
          0,
          1,
          2,
          3,
          4,
          0.5,
          1.5,
          2.5,
          3.5,
          0,
          1,
          2,
          3,
          4,
          0.5,
          1.5,
          2.5,
          3.5,
          0,
          1,
          2,
          3,
          4,
          0.5,
          1.5,
          2.5,
          3.5,
          0,
          1,
          2,
          3,
          4,
          0.5,
          1.5,
          2.5,
          3.5,
          0,
          1,
          2,
          3,
          4,
          0.5,
          1.5,
          2.5,
          3.5,
          0,
          1,
          2,
          3,
          4,
          0.5,
          1.5,
          2.5,
          3.5,
          0,
          1,
          2,
          3,
          4,
          0.5,
          1.5,
          2.5,
          3.5,
          0,
          1,
          2,
          3,
          4,
          0.5,
          1.5,
          2.5,
          3.5,
          0,
          1,
          2,
          3,
          4
         ]
        }
       ],
       "layout": {
        "legend": {
         "tracegroupgap": 0
        },
        "margin": {
         "t": 60
        },
        "scene": {
         "domain": {
          "x": [
           0,
           1
          ],
          "y": [
           0,
           1
          ]
         },
         "xaxis": {
          "title": {
           "text": "x"
          }
         },
         "yaxis": {
          "title": {
           "text": "y"
          }
         },
         "zaxis": {
          "title": {
           "text": "z"
          }
         }
        },
        "template": {
         "data": {
          "bar": [
           {
            "error_x": {
             "color": "#2a3f5f"
            },
            "error_y": {
             "color": "#2a3f5f"
            },
            "marker": {
             "line": {
              "color": "#E5ECF6",
              "width": 0.5
             },
             "pattern": {
              "fillmode": "overlay",
              "size": 10,
              "solidity": 0.2
             }
            },
            "type": "bar"
           }
          ],
          "barpolar": [
           {
            "marker": {
             "line": {
              "color": "#E5ECF6",
              "width": 0.5
             },
             "pattern": {
              "fillmode": "overlay",
              "size": 10,
              "solidity": 0.2
             }
            },
            "type": "barpolar"
           }
          ],
          "carpet": [
           {
            "aaxis": {
             "endlinecolor": "#2a3f5f",
             "gridcolor": "white",
             "linecolor": "white",
             "minorgridcolor": "white",
             "startlinecolor": "#2a3f5f"
            },
            "baxis": {
             "endlinecolor": "#2a3f5f",
             "gridcolor": "white",
             "linecolor": "white",
             "minorgridcolor": "white",
             "startlinecolor": "#2a3f5f"
            },
            "type": "carpet"
           }
          ],
          "choropleth": [
           {
            "colorbar": {
             "outlinewidth": 0,
             "ticks": ""
            },
            "type": "choropleth"
           }
          ],
          "contour": [
           {
            "colorbar": {
             "outlinewidth": 0,
             "ticks": ""
            },
            "colorscale": [
             [
              0,
              "#0d0887"
             ],
             [
              0.1111111111111111,
              "#46039f"
             ],
             [
              0.2222222222222222,
              "#7201a8"
             ],
             [
              0.3333333333333333,
              "#9c179e"
             ],
             [
              0.4444444444444444,
              "#bd3786"
             ],
             [
              0.5555555555555556,
              "#d8576b"
             ],
             [
              0.6666666666666666,
              "#ed7953"
             ],
             [
              0.7777777777777778,
              "#fb9f3a"
             ],
             [
              0.8888888888888888,
              "#fdca26"
             ],
             [
              1,
              "#f0f921"
             ]
            ],
            "type": "contour"
           }
          ],
          "contourcarpet": [
           {
            "colorbar": {
             "outlinewidth": 0,
             "ticks": ""
            },
            "type": "contourcarpet"
           }
          ],
          "heatmap": [
           {
            "colorbar": {
             "outlinewidth": 0,
             "ticks": ""
            },
            "colorscale": [
             [
              0,
              "#0d0887"
             ],
             [
              0.1111111111111111,
              "#46039f"
             ],
             [
              0.2222222222222222,
              "#7201a8"
             ],
             [
              0.3333333333333333,
              "#9c179e"
             ],
             [
              0.4444444444444444,
              "#bd3786"
             ],
             [
              0.5555555555555556,
              "#d8576b"
             ],
             [
              0.6666666666666666,
              "#ed7953"
             ],
             [
              0.7777777777777778,
              "#fb9f3a"
             ],
             [
              0.8888888888888888,
              "#fdca26"
             ],
             [
              1,
              "#f0f921"
             ]
            ],
            "type": "heatmap"
           }
          ],
          "heatmapgl": [
           {
            "colorbar": {
             "outlinewidth": 0,
             "ticks": ""
            },
            "colorscale": [
             [
              0,
              "#0d0887"
             ],
             [
              0.1111111111111111,
              "#46039f"
             ],
             [
              0.2222222222222222,
              "#7201a8"
             ],
             [
              0.3333333333333333,
              "#9c179e"
             ],
             [
              0.4444444444444444,
              "#bd3786"
             ],
             [
              0.5555555555555556,
              "#d8576b"
             ],
             [
              0.6666666666666666,
              "#ed7953"
             ],
             [
              0.7777777777777778,
              "#fb9f3a"
             ],
             [
              0.8888888888888888,
              "#fdca26"
             ],
             [
              1,
              "#f0f921"
             ]
            ],
            "type": "heatmapgl"
           }
          ],
          "histogram": [
           {
            "marker": {
             "pattern": {
              "fillmode": "overlay",
              "size": 10,
              "solidity": 0.2
             }
            },
            "type": "histogram"
           }
          ],
          "histogram2d": [
           {
            "colorbar": {
             "outlinewidth": 0,
             "ticks": ""
            },
            "colorscale": [
             [
              0,
              "#0d0887"
             ],
             [
              0.1111111111111111,
              "#46039f"
             ],
             [
              0.2222222222222222,
              "#7201a8"
             ],
             [
              0.3333333333333333,
              "#9c179e"
             ],
             [
              0.4444444444444444,
              "#bd3786"
             ],
             [
              0.5555555555555556,
              "#d8576b"
             ],
             [
              0.6666666666666666,
              "#ed7953"
             ],
             [
              0.7777777777777778,
              "#fb9f3a"
             ],
             [
              0.8888888888888888,
              "#fdca26"
             ],
             [
              1,
              "#f0f921"
             ]
            ],
            "type": "histogram2d"
           }
          ],
          "histogram2dcontour": [
           {
            "colorbar": {
             "outlinewidth": 0,
             "ticks": ""
            },
            "colorscale": [
             [
              0,
              "#0d0887"
             ],
             [
              0.1111111111111111,
              "#46039f"
             ],
             [
              0.2222222222222222,
              "#7201a8"
             ],
             [
              0.3333333333333333,
              "#9c179e"
             ],
             [
              0.4444444444444444,
              "#bd3786"
             ],
             [
              0.5555555555555556,
              "#d8576b"
             ],
             [
              0.6666666666666666,
              "#ed7953"
             ],
             [
              0.7777777777777778,
              "#fb9f3a"
             ],
             [
              0.8888888888888888,
              "#fdca26"
             ],
             [
              1,
              "#f0f921"
             ]
            ],
            "type": "histogram2dcontour"
           }
          ],
          "mesh3d": [
           {
            "colorbar": {
             "outlinewidth": 0,
             "ticks": ""
            },
            "type": "mesh3d"
           }
          ],
          "parcoords": [
           {
            "line": {
             "colorbar": {
              "outlinewidth": 0,
              "ticks": ""
             }
            },
            "type": "parcoords"
           }
          ],
          "pie": [
           {
            "automargin": true,
            "type": "pie"
           }
          ],
          "scatter": [
           {
            "fillpattern": {
             "fillmode": "overlay",
             "size": 10,
             "solidity": 0.2
            },
            "type": "scatter"
           }
          ],
          "scatter3d": [
           {
            "line": {
             "colorbar": {
              "outlinewidth": 0,
              "ticks": ""
             }
            },
            "marker": {
             "colorbar": {
              "outlinewidth": 0,
              "ticks": ""
             }
            },
            "type": "scatter3d"
           }
          ],
          "scattercarpet": [
           {
            "marker": {
             "colorbar": {
              "outlinewidth": 0,
              "ticks": ""
             }
            },
            "type": "scattercarpet"
           }
          ],
          "scattergeo": [
           {
            "marker": {
             "colorbar": {
              "outlinewidth": 0,
              "ticks": ""
             }
            },
            "type": "scattergeo"
           }
          ],
          "scattergl": [
           {
            "marker": {
             "colorbar": {
              "outlinewidth": 0,
              "ticks": ""
             }
            },
            "type": "scattergl"
           }
          ],
          "scattermapbox": [
           {
            "marker": {
             "colorbar": {
              "outlinewidth": 0,
              "ticks": ""
             }
            },
            "type": "scattermapbox"
           }
          ],
          "scatterpolar": [
           {
            "marker": {
             "colorbar": {
              "outlinewidth": 0,
              "ticks": ""
             }
            },
            "type": "scatterpolar"
           }
          ],
          "scatterpolargl": [
           {
            "marker": {
             "colorbar": {
              "outlinewidth": 0,
              "ticks": ""
             }
            },
            "type": "scatterpolargl"
           }
          ],
          "scatterternary": [
           {
            "marker": {
             "colorbar": {
              "outlinewidth": 0,
              "ticks": ""
             }
            },
            "type": "scatterternary"
           }
          ],
          "surface": [
           {
            "colorbar": {
             "outlinewidth": 0,
             "ticks": ""
            },
            "colorscale": [
             [
              0,
              "#0d0887"
             ],
             [
              0.1111111111111111,
              "#46039f"
             ],
             [
              0.2222222222222222,
              "#7201a8"
             ],
             [
              0.3333333333333333,
              "#9c179e"
             ],
             [
              0.4444444444444444,
              "#bd3786"
             ],
             [
              0.5555555555555556,
              "#d8576b"
             ],
             [
              0.6666666666666666,
              "#ed7953"
             ],
             [
              0.7777777777777778,
              "#fb9f3a"
             ],
             [
              0.8888888888888888,
              "#fdca26"
             ],
             [
              1,
              "#f0f921"
             ]
            ],
            "type": "surface"
           }
          ],
          "table": [
           {
            "cells": {
             "fill": {
              "color": "#EBF0F8"
             },
             "line": {
              "color": "white"
             }
            },
            "header": {
             "fill": {
              "color": "#C8D4E3"
             },
             "line": {
              "color": "white"
             }
            },
            "type": "table"
           }
          ]
         },
         "layout": {
          "annotationdefaults": {
           "arrowcolor": "#2a3f5f",
           "arrowhead": 0,
           "arrowwidth": 1
          },
          "autotypenumbers": "strict",
          "coloraxis": {
           "colorbar": {
            "outlinewidth": 0,
            "ticks": ""
           }
          },
          "colorscale": {
           "diverging": [
            [
             0,
             "#8e0152"
            ],
            [
             0.1,
             "#c51b7d"
            ],
            [
             0.2,
             "#de77ae"
            ],
            [
             0.3,
             "#f1b6da"
            ],
            [
             0.4,
             "#fde0ef"
            ],
            [
             0.5,
             "#f7f7f7"
            ],
            [
             0.6,
             "#e6f5d0"
            ],
            [
             0.7,
             "#b8e186"
            ],
            [
             0.8,
             "#7fbc41"
            ],
            [
             0.9,
             "#4d9221"
            ],
            [
             1,
             "#276419"
            ]
           ],
           "sequential": [
            [
             0,
             "#0d0887"
            ],
            [
             0.1111111111111111,
             "#46039f"
            ],
            [
             0.2222222222222222,
             "#7201a8"
            ],
            [
             0.3333333333333333,
             "#9c179e"
            ],
            [
             0.4444444444444444,
             "#bd3786"
            ],
            [
             0.5555555555555556,
             "#d8576b"
            ],
            [
             0.6666666666666666,
             "#ed7953"
            ],
            [
             0.7777777777777778,
             "#fb9f3a"
            ],
            [
             0.8888888888888888,
             "#fdca26"
            ],
            [
             1,
             "#f0f921"
            ]
           ],
           "sequentialminus": [
            [
             0,
             "#0d0887"
            ],
            [
             0.1111111111111111,
             "#46039f"
            ],
            [
             0.2222222222222222,
             "#7201a8"
            ],
            [
             0.3333333333333333,
             "#9c179e"
            ],
            [
             0.4444444444444444,
             "#bd3786"
            ],
            [
             0.5555555555555556,
             "#d8576b"
            ],
            [
             0.6666666666666666,
             "#ed7953"
            ],
            [
             0.7777777777777778,
             "#fb9f3a"
            ],
            [
             0.8888888888888888,
             "#fdca26"
            ],
            [
             1,
             "#f0f921"
            ]
           ]
          },
          "colorway": [
           "#636efa",
           "#EF553B",
           "#00cc96",
           "#ab63fa",
           "#FFA15A",
           "#19d3f3",
           "#FF6692",
           "#B6E880",
           "#FF97FF",
           "#FECB52"
          ],
          "font": {
           "color": "#2a3f5f"
          },
          "geo": {
           "bgcolor": "white",
           "lakecolor": "white",
           "landcolor": "#E5ECF6",
           "showlakes": true,
           "showland": true,
           "subunitcolor": "white"
          },
          "hoverlabel": {
           "align": "left"
          },
          "hovermode": "closest",
          "mapbox": {
           "style": "light"
          },
          "paper_bgcolor": "white",
          "plot_bgcolor": "#E5ECF6",
          "polar": {
           "angularaxis": {
            "gridcolor": "white",
            "linecolor": "white",
            "ticks": ""
           },
           "bgcolor": "#E5ECF6",
           "radialaxis": {
            "gridcolor": "white",
            "linecolor": "white",
            "ticks": ""
           }
          },
          "scene": {
           "xaxis": {
            "backgroundcolor": "#E5ECF6",
            "gridcolor": "white",
            "gridwidth": 2,
            "linecolor": "white",
            "showbackground": true,
            "ticks": "",
            "zerolinecolor": "white"
           },
           "yaxis": {
            "backgroundcolor": "#E5ECF6",
            "gridcolor": "white",
            "gridwidth": 2,
            "linecolor": "white",
            "showbackground": true,
            "ticks": "",
            "zerolinecolor": "white"
           },
           "zaxis": {
            "backgroundcolor": "#E5ECF6",
            "gridcolor": "white",
            "gridwidth": 2,
            "linecolor": "white",
            "showbackground": true,
            "ticks": "",
            "zerolinecolor": "white"
           }
          },
          "shapedefaults": {
           "line": {
            "color": "#2a3f5f"
           }
          },
          "ternary": {
           "aaxis": {
            "gridcolor": "white",
            "linecolor": "white",
            "ticks": ""
           },
           "baxis": {
            "gridcolor": "white",
            "linecolor": "white",
            "ticks": ""
           },
           "bgcolor": "#E5ECF6",
           "caxis": {
            "gridcolor": "white",
            "linecolor": "white",
            "ticks": ""
           }
          },
          "title": {
           "x": 0.05
          },
          "xaxis": {
           "automargin": true,
           "gridcolor": "white",
           "linecolor": "white",
           "ticks": "",
           "title": {
            "standoff": 15
           },
           "zerolinecolor": "white",
           "zerolinewidth": 2
          },
          "yaxis": {
           "automargin": true,
           "gridcolor": "white",
           "linecolor": "white",
           "ticks": "",
           "title": {
            "standoff": 15
           },
           "zerolinecolor": "white",
           "zerolinewidth": 2
          }
         }
        }
       }
      }
     },
     "metadata": {},
     "output_type": "display_data"
    }
   ],
   "source": [
    "px.scatter_3d(x=make_3d_lattice_new()[:,0],\n",
    "              y=make_3d_lattice_new()[:,1],\n",
    "              z=make_3d_lattice_new()[:,2])"
   ]
  },
  {
   "cell_type": "code",
   "execution_count": 147,
   "metadata": {},
   "outputs": [
    {
     "data": {
      "text/plain": [
       "array([[0. , 0. , 0. ],\n",
       "       [0. , 0. , 0.5],\n",
       "       [0. , 0. , 1. ],\n",
       "       ...,\n",
       "       [4. , 4. , 3. ],\n",
       "       [4. , 4. , 3.5],\n",
       "       [4. , 4. , 4. ]])"
      ]
     },
     "execution_count": 147,
     "metadata": {},
     "output_type": "execute_result"
    }
   ],
   "source": [
    "full_grid_3d"
   ]
  },
  {
   "cell_type": "code",
   "execution_count": 165,
   "metadata": {},
   "outputs": [],
   "source": [
    "def make_3d_lattice_new():\n",
    "    output = []\n",
    "    for triplet in full_grid_3d:\n",
    "        if sum(triplet%1)%1 == 0:\n",
    "            output.append(triplet)\n",
    "    return np.array(output)"
   ]
  },
  {
   "cell_type": "code",
   "execution_count": 161,
   "metadata": {},
   "outputs": [
    {
     "data": {
      "text/plain": [
       "array([0. , 0.5, 3.5])"
      ]
     },
     "execution_count": 161,
     "metadata": {},
     "output_type": "execute_result"
    }
   ],
   "source": [
    "(full_grid_3d[16])"
   ]
  },
  {
   "cell_type": "code",
   "execution_count": 162,
   "metadata": {},
   "outputs": [
    {
     "data": {
      "text/plain": [
       "1.0"
      ]
     },
     "execution_count": 162,
     "metadata": {},
     "output_type": "execute_result"
    }
   ],
   "source": [
    "sum((full_grid_3d[16])%1)"
   ]
  },
  {
   "cell_type": "code",
   "execution_count": 166,
   "metadata": {},
   "outputs": [
    {
     "data": {
      "text/plain": [
       "array([[0., 0., 0.],\n",
       "       [0., 0., 1.],\n",
       "       [0., 0., 2.],\n",
       "       ...,\n",
       "       [4., 4., 2.],\n",
       "       [4., 4., 3.],\n",
       "       [4., 4., 4.]])"
      ]
     },
     "execution_count": 166,
     "metadata": {},
     "output_type": "execute_result"
    }
   ],
   "source": [
    "make_3d_lattice_new() #THIS WORKS!"
   ]
  },
  {
   "cell_type": "code",
   "execution_count": null,
   "metadata": {},
   "outputs": [],
   "source": []
  }
 ],
 "metadata": {
  "kernelspec": {
   "display_name": "base",
   "language": "python",
   "name": "python3"
  },
  "language_info": {
   "codemirror_mode": {
    "name": "ipython",
    "version": 3
   },
   "file_extension": ".py",
   "mimetype": "text/x-python",
   "name": "python",
   "nbconvert_exporter": "python",
   "pygments_lexer": "ipython3",
   "version": "3.9.13"
  }
 },
 "nbformat": 4,
 "nbformat_minor": 2
}
