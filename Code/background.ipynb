{
 "cells": [
  {
   "cell_type": "code",
   "execution_count": 1,
   "metadata": {},
   "outputs": [],
   "source": [
    "import numpy as np\n",
    "import matplotlib.pyplot as plt\n",
    "from scipy.special import erf\n",
    "import astropy.units as unit\n",
    "import astropy.constants as const\n",
    "import itertools\n",
    "import plotly.express as px \n",
    "import pandas as pd\n",
    "\n",
    "from axion_functions import *"
   ]
  },
  {
   "cell_type": "code",
   "execution_count": 15,
   "metadata": {},
   "outputs": [
    {
     "data": {
      "text/plain": [
       "0.5825"
      ]
     },
     "execution_count": 15,
     "metadata": {},
     "output_type": "execute_result"
    }
   ],
   "source": [
    "bg = np.loadtxt(\"..\\\\cosmo_bg.txt\")\n",
    "\n",
    "days = bg[0,:]\n",
    "bg_rates = bg[1,:]\n",
    "bg_base = 5.2e-1\n",
    "\n",
    "bg_total = bg_base + bg_rates\n",
    "\n",
    "cpd_to_count = 365.25*3*50\n",
    "cpd_to_ckg = 50*5\n",
    "N_bg = bg_total*cpd_to_count*5\n",
    "\n",
    "def make_timely_counts():\n",
    "    \"\"\"Ends up in counts per kev\"\"\"\n",
    "    output = []\n",
    "    for index in range(len(days)-1):\n",
    "        val = np.trapz(bg_total[:index], days[:index])*50\n",
    "        output.append(val)\n",
    "    return np.array(output)\n",
    "\n",
    "bg_total[-1]"
   ]
  },
  {
   "cell_type": "code",
   "execution_count": 11,
   "metadata": {},
   "outputs": [],
   "source": [
    "annual_df = pd.read_csv(\"annual_changes_mass.csv\", index_col=0)\n",
    "annual_df #g=1.23e-10\n",
    "mean_123 = np.mean(annual_df[\"1\"]/(2*np.pi))\n",
    "mean_123_5 = np.mean(annual_df[\"5\"]/(2*np.pi))\n",
    "mean_123_10 = np.mean(annual_df[\"10\"]/(2*np.pi))"
   ]
  },
  {
   "cell_type": "code",
   "execution_count": 16,
   "metadata": {},
   "outputs": [
    {
     "data": {
      "text/plain": [
       "array([0.        , 0.        , 0.00435376, 0.00563891, 0.00656395,\n",
       "       0.00733447, 0.00801039, 0.00867716, 0.00917708, 0.00969407,\n",
       "       0.01017765, 0.01063376, 0.01106646, 0.01147903, 0.0118742 ,\n",
       "       0.01225394, 0.01262003, 0.01297389, 0.01331682, 0.0136498 ,\n",
       "       0.01397368, 0.01428926, 0.01459716, 0.01489794, 0.01519208,\n",
       "       0.01548005, 0.01576223, 0.01603895, 0.01631056, 0.01657732,\n",
       "       0.01683949, 0.01709732, 0.01735101, 0.01760076, 0.01784675,\n",
       "       0.01808913, 0.01832807, 0.01856371, 0.01879617, 0.01902557,\n",
       "       0.01925205, 0.01947571, 0.01969665, 0.01991494, 0.02013071,\n",
       "       0.02034403, 0.02055497, 0.02076363, 0.02097005, 0.02117431,\n",
       "       0.02137648, 0.02157662, 0.02177478, 0.02197103, 0.0221654 ,\n",
       "       0.02235797, 0.02254878, 0.02273786, 0.02292527, 0.02311105])"
      ]
     },
     "execution_count": 16,
     "metadata": {},
     "output_type": "execute_result"
    }
   ],
   "source": [
    "N_bg_time = make_timely_counts()*7\n",
    "n_req = 1.96*np.sqrt(N_bg_time)/0.9574230753375434 #Divide by fraction within energy range\n",
    "n_req/cpd_to_count"
   ]
  },
  {
   "cell_type": "code",
   "execution_count": 17,
   "metadata": {},
   "outputs": [
    {
     "data": {
      "text/plain": [
       "array([   0.,   30.,   60.,   90.,  120.,  150.,  183.,  210.,  240.,\n",
       "        270.,  300.,  330.,  360.,  390.,  420.,  450.,  480.,  510.,\n",
       "        540.,  570.,  600.,  630.,  660.,  690.,  720.,  750.,  780.,\n",
       "        810.,  840.,  870.,  900.,  930.,  960.,  990., 1020., 1050.,\n",
       "       1080., 1110., 1140., 1170., 1200., 1230., 1260., 1290., 1320.,\n",
       "       1350., 1380., 1410., 1440., 1470., 1500., 1530., 1560., 1590.,\n",
       "       1620., 1650., 1680., 1710., 1740., 1770., 1800.])"
      ]
     },
     "execution_count": 17,
     "metadata": {},
     "output_type": "execute_result"
    }
   ],
   "source": [
    "days"
   ]
  },
  {
   "cell_type": "code",
   "execution_count": 18,
   "metadata": {},
   "outputs": [
    {
     "data": {
      "text/plain": [
       "array([[60]], dtype=int64)"
      ]
     },
     "execution_count": 18,
     "metadata": {},
     "output_type": "execute_result"
    }
   ],
   "source": [
    "np.argwhere(days == 1800)"
   ]
  },
  {
   "cell_type": "code",
   "execution_count": 19,
   "metadata": {},
   "outputs": [
    {
     "data": {
      "text/plain": [
       "1266.1966246316108"
      ]
     },
     "execution_count": 19,
     "metadata": {},
     "output_type": "execute_result"
    }
   ],
   "source": [
    "n_req[59]"
   ]
  },
  {
   "cell_type": "code",
   "execution_count": 20,
   "metadata": {},
   "outputs": [
    {
     "data": {
      "text/plain": [
       "1.1568085213306196e-09"
      ]
     },
     "execution_count": 20,
     "metadata": {},
     "output_type": "execute_result"
    }
   ],
   "source": [
    "(n_req[59]/(mean_123_10*5/3))**(1/4)*1.23e-10"
   ]
  },
  {
   "cell_type": "code",
   "execution_count": null,
   "metadata": {},
   "outputs": [],
   "source": []
  }
 ],
 "metadata": {
  "kernelspec": {
   "display_name": "base",
   "language": "python",
   "name": "python3"
  },
  "language_info": {
   "codemirror_mode": {
    "name": "ipython",
    "version": 3
   },
   "file_extension": ".py",
   "mimetype": "text/x-python",
   "name": "python",
   "nbconvert_exporter": "python",
   "pygments_lexer": "ipython3",
   "version": "3.9.13"
  }
 },
 "nbformat": 4,
 "nbformat_minor": 2
}
