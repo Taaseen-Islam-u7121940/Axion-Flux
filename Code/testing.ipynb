{
 "cells": [
  {
   "cell_type": "code",
   "execution_count": 1,
   "metadata": {},
   "outputs": [],
   "source": [
    "import numpy as np\n",
    "import astropy.units as u\n",
    "import astropy.constants as c\n",
    "import matplotlib.pyplot as plt\n",
    "from scipy.special import erf"
   ]
  },
  {
   "cell_type": "code",
   "execution_count": 6,
   "metadata": {},
   "outputs": [
    {
     "data": {
      "text/latex": [
       "$\\mathrm{31557600\\,}$"
      ],
      "text/plain": [
       "Unit(dimensionless with a scale of 31557600.0)"
      ]
     },
     "execution_count": 6,
     "metadata": {},
     "output_type": "execute_result"
    }
   ],
   "source": [
    "(u.yr/u.s).si"
   ]
  },
  {
   "cell_type": "code",
   "execution_count": null,
   "metadata": {},
   "outputs": [],
   "source": [
    "def complete_dndt():\n",
    "    hkl = np.array(make_hkl_s(max_h = 5, \n",
    "                        max_k = 5,\n",
    "                        max_l = 5)) #Indexed to [25,2], removing trivial case\n",
    "    # compare with (h+k+l) even against (h,k,l) all add/all even\n",
    "\n",
    "    g_arr = (2*np.pi/a)*hkl #G vectors, in AA^(-1)\n",
    "\n",
    "    mod2_g = mod2(g_arr) #Magnitude square of G vectors, \n",
    "    FAq = FA_q(mod2_g)\n",
    "\n",
    "    ginv_array = 1/mod2_g\n",
    "\n",
    "    ginv_replicant = np.stack((ginv_array, ginv_array,ginv_array), axis=1)\n",
    "\n",
    "    ghat = g_arr*np.sqrt(ginv_replicant)\n",
    "\n",
    "    gk = gdotk(g_arr)\n",
    "\n",
    "    sin2 = 4*gk**2*(1-gk**2)\n",
    "\n",
    "    summand = FAq*ginv_array*sin2*4 #Use *4 if implementing s\n",
    "\n",
    "    np.sum(summand)\n",
    "\n",
    "    E_arr = hbar_kevs*c_aas*np.sqrt(mod2_g)/(2*gk) #in keV\n",
    "    #The infinities here are fine; they go to zero in the W function\n",
    "\n",
    "    #W = w_func(E_arr, E1=1, E2=20, dVector=True, Delta = make_delta(E_arr)) #Delta from Simulation of BG report\n",
    "    W = w_func(E_arr, E1=1, E2=50, dVector=False, Delta = 1) #Delta from Simulation of BG report\n",
    "    dphi_de = make_dpde(E_arr)\n",
    "    final_summand = dphi_de*1e-16*new_summand #1e-16 to cancel angstroms and cm\n",
    "\n",
    "    nt_constant = np.pi*(g_ag*1e-6)**2*(hbar_kevs*c_aas)**3*vol/(vol_cell**2) #in keV\n",
    "    #Conversion factor of angstroms to cm missing somewhere\n",
    "    #Absorption also looks like it's a huge deal (order -9 or so)\n",
    "    final_dndt = nt_constant*np.sum(final_summand) #in s^(-1), 1e-16 converts angstroms and cm\n",
    "    print(\"dN/dt = {:.3e} s^(-1)\".format(final_dndt))\n",
    "\n",
    "    return (final_dndt*(unit.s**(-1))*(3*unit.year)).si"
   ]
  },
  {
   "cell_type": "code",
   "execution_count": 2,
   "metadata": {},
   "outputs": [],
   "source": [
    "diam = 110*u.mm \n",
    "hgt = 150*u.mm \n",
    "vol = np.pi*(diam/2)**2*hgt\n",
    "\n",
    "rho_report = 3.67*u.g/(u.cm**3)\n",
    "mass = (rho_report*vol).si\n",
    "\n",
    "mass_report = 8.72*u.kg\n",
    "rho = (mass_report/vol).si      "
   ]
  },
  {
   "cell_type": "code",
   "execution_count": 3,
   "metadata": {},
   "outputs": [
    {
     "data": {
      "text/latex": [
       "$5.2315764 \\; \\mathrm{kg}$"
      ],
      "text/plain": [
       "<Quantity 5.23157644 kg>"
      ]
     },
     "execution_count": 3,
     "metadata": {},
     "output_type": "execute_result"
    }
   ],
   "source": [
    "mass"
   ]
  },
  {
   "cell_type": "code",
   "execution_count": 3,
   "metadata": {},
   "outputs": [],
   "source": [
    "g_ap = 1e-8*(u.GeV)**(-1)\n",
    "vcell = 67.71*u.AA**3\n",
    "sin2 = 0.9250625464312866\n",
    "\n",
    "E1 = 1*u.keV \n",
    "E2 = 6*u.keV\n",
    "\n",
    "Ea = np.arange(1.01,5.59,0.01)*u.keV #NOOOOOOOO"
   ]
  },
  {
   "cell_type": "code",
   "execution_count": 4,
   "metadata": {},
   "outputs": [
    {
     "data": {
      "text/plain": [
       "[<matplotlib.lines.Line2D at 0x26814c1f880>]"
      ]
     },
     "execution_count": 4,
     "metadata": {},
     "output_type": "execute_result"
    },
    {
     "data": {
      "image/png": "[encoded data removed]",
      "text/plain": [
       "<Figure size 640x480 with 1 Axes>"
      ]
     },
     "metadata": {},
     "output_type": "display_data"
    }
   ],
   "source": [
    "A=0.9*u.keV \n",
    "phi_0 = A*(2.3e20*(u.keV*u.yr*u.m**2)**(-1))*np.e\n",
    "\n",
    "dpdt = (phi_0/A)*(Ea/A)*np.exp(-Ea/A)\n",
    "plt.plot(Ea, dpdt)"
   ]
  },
  {
   "cell_type": "code",
   "execution_count": 5,
   "metadata": {},
   "outputs": [
    {
     "data": {
      "text/latex": [
       "$[7.238062 \\times 10^{12},~7.2289563 \\times 10^{12},~7.2191682 \\times 10^{12},~\\dots,~2.5396615 \\times 10^{11},~2.5161165 \\times 10^{11},~2.4927817 \\times 10^{11}] \\; \\mathrm{\\frac{1}{keV\\,s\\,m^{2}}}$"
      ],
      "text/plain": [
       "<Quantity [7.23806196e+12, 7.22895632e+12, 7.21916817e+12, 7.20871373e+12,\n",
       "           7.19760891e+12, 7.18586935e+12, 7.17351045e+12, 7.16054731e+12,\n",
       "           7.14699481e+12, 7.13286755e+12, 7.11817989e+12, 7.10294593e+12,\n",
       "           7.08717955e+12, 7.07089436e+12, 7.05410376e+12, 7.03682091e+12,\n",
       "           7.01905874e+12, 7.00082994e+12, 6.98214700e+12, 6.96302217e+12,\n",
       "           6.94346752e+12, 6.92349486e+12, 6.90311583e+12, 6.88234185e+12,\n",
       "           6.86118412e+12, 6.83965368e+12, 6.81776132e+12, 6.79551770e+12,\n",
       "           6.77293323e+12, 6.75001817e+12, 6.72678259e+12, 6.70323635e+12,\n",
       "           6.67938917e+12, 6.65525057e+12, 6.63082990e+12, 6.60613634e+12,\n",
       "           6.58117891e+12, 6.55596645e+12, 6.53050764e+12, 6.50481101e+12,\n",
       "           6.47888492e+12, 6.45273757e+12, 6.42637704e+12, 6.39981120e+12,\n",
       "           6.37304784e+12, 6.34609454e+12, 6.31895878e+12, 6.29164788e+12,\n",
       "           6.26416902e+12, 6.23652926e+12, 6.20873549e+12, 6.18079450e+12,\n",
       "           6.15271294e+12, 6.12449732e+12, 6.09615403e+12, 6.06768935e+12,\n",
       "           6.03910941e+12, 6.01042023e+12, 5.98162773e+12, 5.95273768e+12,\n",
       "           5.92375576e+12, 5.89468753e+12, 5.86553842e+12, 5.83631379e+12,\n",
       "           5.80701885e+12, 5.77765872e+12, 5.74823843e+12, 5.71876289e+12,\n",
       "           5.68923691e+12, 5.65966520e+12, 5.63005239e+12, 5.60040299e+12,\n",
       "           5.57072141e+12, 5.54101201e+12, 5.51127901e+12, 5.48152656e+12,\n",
       "           5.45175872e+12, 5.42197946e+12, 5.39219268e+12, 5.36240218e+12,\n",
       "           5.33261166e+12, 5.30282478e+12, 5.27304508e+12, 5.24327605e+12,\n",
       "           5.21352109e+12, 5.18378352e+12, 5.15406658e+12, 5.12437346e+12,\n",
       "           5.09470725e+12, 5.06507098e+12, 5.03546763e+12, 5.00590007e+12,\n",
       "           4.97637112e+12, 4.94688356e+12, 4.91744006e+12, 4.88804326e+12,\n",
       "           4.85869572e+12, 4.82939993e+12, 4.80015834e+12, 4.77097333e+12,\n",
       "           4.74184721e+12, 4.71278225e+12, 4.68378065e+12, 4.65484456e+12,\n",
       "           4.62597608e+12, 4.59717724e+12, 4.56845003e+12, 4.53979637e+12,\n",
       "           4.51121817e+12, 4.48271724e+12, 4.45429536e+12, 4.42595427e+12,\n",
       "           4.39769566e+12, 4.36952116e+12, 4.34143236e+12, 4.31343081e+12,\n",
       "           4.28551801e+12, 4.25769542e+12, 4.22996445e+12, 4.20232647e+12,\n",
       "           4.17478282e+12, 4.14733478e+12, 4.11998361e+12, 4.09273051e+12,\n",
       "           4.06557666e+12, 4.03852319e+12, 4.01157121e+12, 3.98472176e+12,\n",
       "           3.95797587e+12, 3.93133453e+12, 3.90479871e+12, 3.87836931e+12,\n",
       "           3.85204723e+12, 3.82583333e+12, 3.79972841e+12, 3.77373329e+12,\n",
       "           3.74784871e+12, 3.72207542e+12, 3.69641410e+12, 3.67086544e+12,\n",
       "           3.64543007e+12, 3.62010861e+12, 3.59490165e+12, 3.56980976e+12,\n",
       "           3.54483346e+12, 3.51997326e+12, 3.49522966e+12, 3.47060310e+12,\n",
       "           3.44609402e+12, 3.42170283e+12, 3.39742993e+12, 3.37327566e+12,\n",
       "           3.34924038e+12, 3.32532441e+12, 3.30152804e+12, 3.27785155e+12,\n",
       "           3.25429519e+12, 3.23085920e+12, 3.20754381e+12, 3.18434919e+12,\n",
       "           3.16127554e+12, 3.13832301e+12, 3.11549174e+12, 3.09278185e+12,\n",
       "           3.07019345e+12, 3.04772663e+12, 3.02538145e+12, 3.00315798e+12,\n",
       "           2.98105624e+12, 2.95907627e+12, 2.93721808e+12, 2.91548164e+12,\n",
       "           2.89386695e+12, 2.87237396e+12, 2.85100263e+12, 2.82975289e+12,\n",
       "           2.80862466e+12, 2.78761786e+12, 2.76673237e+12, 2.74596808e+12,\n",
       "           2.72532487e+12, 2.70480259e+12, 2.68440109e+12, 2.66412021e+12,\n",
       "           2.64395977e+12, 2.62391958e+12, 2.60399946e+12, 2.58419920e+12,\n",
       "           2.56451857e+12, 2.54495735e+12, 2.52551531e+12, 2.50619220e+12,\n",
       "           2.48698776e+12, 2.46790174e+12, 2.44893386e+12, 2.43008383e+12,\n",
       "           2.41135138e+12, 2.39273620e+12, 2.37423800e+12, 2.35585645e+12,\n",
       "           2.33759123e+12, 2.31944203e+12, 2.30140851e+12, 2.28349032e+12,\n",
       "           2.26568712e+12, 2.24799856e+12, 2.23042428e+12, 2.21296391e+12,\n",
       "           2.19561708e+12, 2.17838340e+12, 2.16126251e+12, 2.14425401e+12,\n",
       "           2.12735751e+12, 2.11057261e+12, 2.09389890e+12, 2.07733598e+12,\n",
       "           2.06088343e+12, 2.04454085e+12, 2.02830780e+12, 2.01218386e+12,\n",
       "           1.99616861e+12, 1.98026160e+12, 1.96446241e+12, 1.94877059e+12,\n",
       "           1.93318570e+12, 1.91770729e+12, 1.90233490e+12, 1.88706810e+12,\n",
       "           1.87190642e+12, 1.85684940e+12, 1.84189658e+12, 1.82704749e+12,\n",
       "           1.81230168e+12, 1.79765866e+12, 1.78311797e+12, 1.76867914e+12,\n",
       "           1.75434168e+12, 1.74010513e+12, 1.72596900e+12, 1.71193281e+12,\n",
       "           1.69799608e+12, 1.68415832e+12, 1.67041906e+12, 1.65677779e+12,\n",
       "           1.64323404e+12, 1.62978731e+12, 1.61643712e+12, 1.60318296e+12,\n",
       "           1.59002436e+12, 1.57696081e+12, 1.56399182e+12, 1.55111691e+12,\n",
       "           1.53833556e+12, 1.52564729e+12, 1.51305160e+12, 1.50054799e+12,\n",
       "           1.48813596e+12, 1.47581503e+12, 1.46358469e+12, 1.45144443e+12,\n",
       "           1.43939378e+12, 1.42743222e+12, 1.41555926e+12, 1.40377441e+12,\n",
       "           1.39207716e+12, 1.38046701e+12, 1.36894348e+12, 1.35750606e+12,\n",
       "           1.34615427e+12, 1.33488759e+12, 1.32370554e+12, 1.31260762e+12,\n",
       "           1.30159335e+12, 1.29066222e+12, 1.27981374e+12, 1.26904742e+12,\n",
       "           1.25836277e+12, 1.24775930e+12, 1.23723653e+12, 1.22679395e+12,\n",
       "           1.21643109e+12, 1.20614745e+12, 1.19594256e+12, 1.18581592e+12,\n",
       "           1.17576706e+12, 1.16579548e+12, 1.15590072e+12, 1.14608229e+12,\n",
       "           1.13633971e+12, 1.12667250e+12, 1.11708019e+12, 1.10756230e+12,\n",
       "           1.09811836e+12, 1.08874790e+12, 1.07945045e+12, 1.07022553e+12,\n",
       "           1.06107268e+12, 1.05199144e+12, 1.04298133e+12, 1.03404190e+12,\n",
       "           1.02517268e+12, 1.01637321e+12, 1.00764304e+12, 9.98981699e+11,\n",
       "           9.90388744e+11, 9.81863718e+11, 9.73406167e+11, 9.65015643e+11,\n",
       "           9.56691695e+11, 9.48433878e+11, 9.40241745e+11, 9.32114855e+11,\n",
       "           9.24052764e+11, 9.16055034e+11, 9.08121227e+11, 9.00250905e+11,\n",
       "           8.92443636e+11, 8.84698986e+11, 8.77016525e+11, 8.69395824e+11,\n",
       "           8.61836456e+11, 8.54337996e+11, 8.46900021e+11, 8.39522111e+11,\n",
       "           8.32203845e+11, 8.24944807e+11, 8.17744580e+11, 8.10602753e+11,\n",
       "           8.03518912e+11, 7.96492650e+11, 7.89523557e+11, 7.82611229e+11,\n",
       "           7.75755262e+11, 7.68955255e+11, 7.62210808e+11, 7.55521522e+11,\n",
       "           7.48887004e+11, 7.42306859e+11, 7.35780695e+11, 7.29308123e+11,\n",
       "           7.22888756e+11, 7.16522207e+11, 7.10208095e+11, 7.03946036e+11,\n",
       "           6.97735651e+11, 6.91576564e+11, 6.85468399e+11, 6.79410782e+11,\n",
       "           6.73403342e+11, 6.67445709e+11, 6.61537518e+11, 6.55678402e+11,\n",
       "           6.49867998e+11, 6.44105945e+11, 6.38391884e+11, 6.32725458e+11,\n",
       "           6.27106312e+11, 6.21534093e+11, 6.16008450e+11, 6.10529033e+11,\n",
       "           6.05095496e+11, 5.99707495e+11, 5.94364686e+11, 5.89066728e+11,\n",
       "           5.83813282e+11, 5.78604012e+11, 5.73438583e+11, 5.68316662e+11,\n",
       "           5.63237917e+11, 5.58202022e+11, 5.53208647e+11, 5.48257469e+11,\n",
       "           5.43348165e+11, 5.38480414e+11, 5.33653897e+11, 5.28868297e+11,\n",
       "           5.24123299e+11, 5.19418591e+11, 5.14753860e+11, 5.10128799e+11,\n",
       "           5.05543099e+11, 5.00996457e+11, 4.96488568e+11, 4.92019131e+11,\n",
       "           4.87587847e+11, 4.83194418e+11, 4.78838549e+11, 4.74519946e+11,\n",
       "           4.70238318e+11, 4.65993375e+11, 4.61784828e+11, 4.57612392e+11,\n",
       "           4.53475782e+11, 4.49374717e+11, 4.45308915e+11, 4.41278099e+11,\n",
       "           4.37281990e+11, 4.33320316e+11, 4.29392802e+11, 4.25499177e+11,\n",
       "           4.21639172e+11, 4.17812519e+11, 4.14018952e+11, 4.10258208e+11,\n",
       "           4.06530025e+11, 4.02834141e+11, 3.99170299e+11, 3.95538241e+11,\n",
       "           3.91937713e+11, 3.88368460e+11, 3.84830233e+11, 3.81322779e+11,\n",
       "           3.77845853e+11, 3.74399206e+11, 3.70982595e+11, 3.67595777e+11,\n",
       "           3.64238510e+11, 3.60910555e+11, 3.57611673e+11, 3.54341630e+11,\n",
       "           3.51100190e+11, 3.47887120e+11, 3.44702189e+11, 3.41545167e+11,\n",
       "           3.38415828e+11, 3.35313944e+11, 3.32239290e+11, 3.29191644e+11,\n",
       "           3.26170785e+11, 3.23176492e+11, 3.20208547e+11, 3.17266733e+11,\n",
       "           3.14350835e+11, 3.11460641e+11, 3.08595937e+11, 3.05756513e+11,\n",
       "           3.02942161e+11, 3.00152672e+11, 2.97387842e+11, 2.94647466e+11,\n",
       "           2.91931340e+11, 2.89239264e+11, 2.86571038e+11, 2.83926463e+11,\n",
       "           2.81305343e+11, 2.78707482e+11, 2.76132685e+11, 2.73580762e+11,\n",
       "           2.71051519e+11, 2.68544769e+11, 2.66060322e+11, 2.63597991e+11,\n",
       "           2.61157592e+11, 2.58738940e+11, 2.56341853e+11, 2.53966149e+11,\n",
       "           2.51611648e+11, 2.49278173e+11] 1 / (keV m2 s)>"
      ]
     },
     "execution_count": 5,
     "metadata": {},
     "output_type": "execute_result"
    }
   ],
   "source": [
    "(dpdt).to((u.keV*u.s*u.m**2)**(-1))"
   ]
  },
  {
   "cell_type": "code",
   "execution_count": 6,
   "metadata": {},
   "outputs": [
    {
     "data": {
      "text/latex": [
       "$[0.52989563,~0.55904337,~0.58731874,~\\dots,~0.72558704,~0.72067337,~0.71573518] \\; \\mathrm{}$"
      ],
      "text/plain": [
       "<Quantity [0.52989563, 0.55904337, 0.58731874, 0.61461785, 0.64085696,\n",
       "           0.6659716 , 0.68991531, 0.71265823, 0.7341855 , 0.75449561,\n",
       "           0.77359866, 0.79151475, 0.80827231, 0.82390665, 0.83845852,\n",
       "           0.85197282, 0.8644975 , 0.87608251, 0.88677894, 0.89663824,\n",
       "           0.90571159, 0.91404938, 0.92170079, 0.9287134 , 0.93513298,\n",
       "           0.94100328, 0.94636589, 0.95126017, 0.9557232 , 0.95978978,\n",
       "           0.96349247, 0.96686162, 0.96992546, 0.97271015, 0.9752399 ,\n",
       "           0.97753705, 0.97962218, 0.98151423, 0.98323055, 0.98478708,\n",
       "           0.98619839, 0.98747779, 0.98863746, 0.98968847, 0.99064093,\n",
       "           0.99150404, 0.99228617, 0.99299491, 0.99363718, 0.99421924,\n",
       "           0.99474678, 0.99522494, 0.99565841, 0.99605141, 0.99640778,\n",
       "           0.99673099, 0.99702418, 0.9972902 , 0.99753161, 0.99775074,\n",
       "           0.9979497 , 0.9981304 , 0.99829454, 0.9984437 , 0.99857928,\n",
       "           0.99870254, 0.99881466, 0.99891665, 0.99900948, 0.99909399,\n",
       "           0.99917096, 0.99924107, 0.99930497, 0.99936322, 0.99941635,\n",
       "           0.99946482, 0.99950906, 0.99954945, 0.99958634, 0.99962005,\n",
       "           0.99965086, 0.99967904, 0.99970481, 0.9997284 , 0.99975   ,\n",
       "           0.99976978, 0.9997879 , 0.99980451, 0.99981974, 0.99983372,\n",
       "           0.99984654, 0.99985832, 0.99986913, 0.99987907, 0.9998882 ,\n",
       "           0.99989661, 0.99990433, 0.99991145, 0.999918  , 0.99992403,\n",
       "           0.99992959, 0.99993472, 0.99993944, 0.9999438 , 0.99994783,\n",
       "           0.99995155, 0.99995498, 0.99995815, 0.99996109, 0.9999638 ,\n",
       "           0.99996631, 0.99996863, 0.99997079, 0.99997278, 0.99997463,\n",
       "           0.99997634, 0.99997793, 0.9999794 , 0.99998077, 0.99998204,\n",
       "           0.99998322, 0.99998431, 0.99998533, 0.99998628, 0.99998716,\n",
       "           0.99998798, 0.99998875, 0.99998946, 0.99999012, 0.99999074,\n",
       "           0.99999131, 0.99999185, 0.99999235, 0.99999282, 0.99999326,\n",
       "           0.99999366, 0.99999405, 0.9999944 , 0.99999473, 0.99999505,\n",
       "           0.99999534, 0.99999561, 0.99999587, 0.99999611, 0.99999633,\n",
       "           0.99999654, 0.99999674, 0.99999692, 0.9999971 , 0.99999726,\n",
       "           0.99999741, 0.99999756, 0.99999769, 0.99999782, 0.99999794,\n",
       "           0.99999805, 0.99999815, 0.99999825, 0.99999835, 0.99999843,\n",
       "           0.99999852, 0.9999986 , 0.99999867, 0.99999874, 0.9999988 ,\n",
       "           0.99999886, 0.99999892, 0.99999898, 0.99999903, 0.99999908,\n",
       "           0.99999912, 0.99999917, 0.99999921, 0.99999925, 0.99999929,\n",
       "           0.99999932, 0.99999935, 0.99999938, 0.99999941, 0.99999944,\n",
       "           0.99999947, 0.99999949, 0.99999952, 0.99999954, 0.99999956,\n",
       "           0.99999958, 0.9999996 , 0.99999962, 0.99999964, 0.99999965,\n",
       "           0.99999967, 0.99999968, 0.9999997 , 0.99999971, 0.99999972,\n",
       "           0.99999974, 0.99999975, 0.99999976, 0.99999977, 0.99999978,\n",
       "           0.99999979, 0.9999998 , 0.99999981, 0.99999981, 0.99999982,\n",
       "           0.99999983, 0.99999984, 0.99999984, 0.99999985, 0.99999986,\n",
       "           0.99999986, 0.99999987, 0.99999987, 0.99999988, 0.99999988,\n",
       "           0.99999989, 0.99999989, 0.9999999 , 0.9999999 , 0.9999999 ,\n",
       "           0.99999991, 0.99999991, 0.99999992, 0.99999992, 0.99999992,\n",
       "           0.99999992, 0.99999993, 0.99999993, 0.99999993, 0.99999994,\n",
       "           0.99999994, 0.99999994, 0.99999994, 0.99999994, 0.99999995,\n",
       "           0.99999995, 0.99999995, 0.99999995, 0.99999995, 0.99999995,\n",
       "           0.99999995, 0.99999995, 0.99999995, 0.99999995, 0.99999995,\n",
       "           0.99999995, 0.99999995, 0.99999995, 0.99999994, 0.99999994,\n",
       "           0.99999993, 0.99999992, 0.99999991, 0.9999999 , 0.99999989,\n",
       "           0.99999987, 0.99999985, 0.99999982, 0.99999979, 0.99999976,\n",
       "           0.99999971, 0.99999966, 0.9999996 , 0.99999953, 0.99999944,\n",
       "           0.99999934, 0.99999923, 0.99999909, 0.99999893, 0.99999874,\n",
       "           0.99999852, 0.99999827, 0.99999798, 0.99999764, 0.99999725,\n",
       "           0.99999679, 0.99999627, 0.99999568, 0.999995  , 0.99999421,\n",
       "           0.99999332, 0.9999923 , 0.99999115, 0.99998983, 0.99998834,\n",
       "           0.99998665, 0.99998473, 0.99998257, 0.99998014, 0.9999774 ,\n",
       "           0.99997432, 0.99997087, 0.99996699, 0.99996266, 0.99995782,\n",
       "           0.99995242, 0.99994641, 0.99993971, 0.99993228, 0.99992402,\n",
       "           0.99991488, 0.99990476, 0.99989358, 0.99988124, 0.99986764,\n",
       "           0.99985266, 0.99983619, 0.99981811, 0.99979827, 0.99977654,\n",
       "           0.99975277, 0.99972678, 0.99969841, 0.99966748, 0.99963378,\n",
       "           0.99959713, 0.99955729, 0.99951404, 0.99946715, 0.99941635,\n",
       "           0.99936138, 0.99930196, 0.9992378 , 0.99916858, 0.99909399,\n",
       "           0.99901369, 0.99892732, 0.99883452, 0.9987349 , 0.99862807,\n",
       "           0.99851362, 0.9983911 , 0.99826008, 0.99812009, 0.99797065,\n",
       "           0.99781126, 0.99764142, 0.99746059, 0.99726824, 0.99706378,\n",
       "           0.99684666, 0.99661627, 0.99637201, 0.99611325, 0.99583935,\n",
       "           0.99554964, 0.99524348, 0.99492015, 0.99457898, 0.99421924,\n",
       "           0.99384021, 0.99344115, 0.99302131, 0.99257993, 0.99211623,\n",
       "           0.99162944, 0.99111876, 0.99058338, 0.99002251, 0.98943533,\n",
       "           0.98882101, 0.98817872, 0.98750764, 0.98680692, 0.98607573,\n",
       "           0.98531323, 0.98451857, 0.98369092, 0.98282943, 0.98193326,\n",
       "           0.98100159, 0.98003357, 0.97902838, 0.9779852 , 0.97690322,\n",
       "           0.97578164, 0.97461965, 0.97341647, 0.97217133, 0.97088347,\n",
       "           0.96955214, 0.9681766 , 0.96675615, 0.96529007, 0.96377768,\n",
       "           0.96221831, 0.96061132, 0.95895609, 0.957252  , 0.95549848,\n",
       "           0.95369496, 0.9518409 , 0.94993579, 0.94797914, 0.9459705 ,\n",
       "           0.94390942, 0.94179549, 0.93962834, 0.93740761, 0.93513298,\n",
       "           0.93280415, 0.93042086, 0.92798286, 0.92548997, 0.92294199,\n",
       "           0.9203388 , 0.91768028, 0.91496635, 0.91219696, 0.9093721 ,\n",
       "           0.90649178, 0.90355605, 0.90056499, 0.89751872, 0.89441738,\n",
       "           0.89126114, 0.88805022, 0.88478486, 0.88146532, 0.87809191,\n",
       "           0.87466496, 0.87118483, 0.86765193, 0.86406667, 0.86042951,\n",
       "           0.85674093, 0.85300144, 0.84921159, 0.84537193, 0.84148305,\n",
       "           0.83754559, 0.83356019, 0.8295275 , 0.82544824, 0.82132312,\n",
       "           0.81715287, 0.81293827, 0.8086801 , 0.80437916, 0.80003628,\n",
       "           0.79565232, 0.79122812, 0.78676458, 0.78226259, 0.77772307,\n",
       "           0.77314696, 0.76853519, 0.76388872, 0.75920853, 0.75449561,\n",
       "           0.74975094, 0.74497554, 0.74017042, 0.73533661, 0.73047513,\n",
       "           0.72558704, 0.72067337, 0.71573518]>"
      ]
     },
     "execution_count": 6,
     "metadata": {},
     "output_type": "execute_result"
    }
   ],
   "source": [
    "res = 0.132*Ea\n",
    "#res = 1*u.keV\n",
    "w_func = 0.5*(erf((Ea-E1)/(np.sqrt(2)*res)) - erf((Ea-E2)/(np.sqrt(2)*res)))\n",
    "w_func"
   ]
  },
  {
   "cell_type": "code",
   "execution_count": 7,
   "metadata": {},
   "outputs": [
    {
     "name": "stdout",
     "output_type": "stream",
     "text": [
      "[0.05303831 0.10503666 0.15602533 0.20603344 0.25508903]\n",
      "[-26.4661179  -26.15412782 -25.84819581 -25.54814711 -25.25381361]\n"
     ]
    }
   ],
   "source": [
    "print(((Ea-E1)/(np.sqrt(2)*res))[:5].si)\n",
    "print(((Ea-E2)/(np.sqrt(2)*res))[:5].si)"
   ]
  },
  {
   "cell_type": "code",
   "execution_count": 8,
   "metadata": {},
   "outputs": [
    {
     "data": {
      "text/latex": [
       "$[2.5563783 \\times 10^{10},~2.6936031 \\times 10^{10},~2.8260088 \\times 10^{10},~\\dots,~1.2282248 \\times 10^{9},~1.2085976 \\times 10^{9},~1.1891842 \\times 10^{9}] \\; \\mathrm{\\frac{1}{s\\,m^{2}}}$"
      ],
      "text/plain": [
       "<Quantity [2.55637835e+10, 2.69360309e+10, 2.82600882e+10, 2.95308156e+10,\n",
       "           3.07441047e+10, 3.18968301e+10, 3.29867870e+10, 3.40126148e+10,\n",
       "           3.49737152e+10, 3.58701650e+10, 3.67026284e+10, 3.74722713e+10,\n",
       "           3.81806779e+10, 3.88297735e+10, 3.94217520e+10, 3.99590114e+10,\n",
       "           4.04440945e+10, 4.08796377e+10, 4.12683264e+10, 4.16128567e+10,\n",
       "           4.19159033e+10, 4.21800929e+10, 4.24079830e+10, 4.26020452e+10,\n",
       "           4.27646523e+10, 4.28980694e+10, 4.30044473e+10, 4.30858196e+10,\n",
       "           4.31441005e+10, 4.31810859e+10, 4.31984548e+10, 4.31977724e+10,\n",
       "           4.31804939e+10, 4.31479689e+10, 4.31014465e+10, 4.30420806e+10,\n",
       "           4.29709353e+10, 4.28889900e+10, 4.27971457e+10, 4.26962295e+10,\n",
       "           4.25870005e+10, 4.24701543e+10, 4.23463283e+10, 4.22161057e+10,\n",
       "           4.20800205e+10, 4.19385608e+10, 4.17921734e+10, 4.16412665e+10,\n",
       "           4.14862136e+10, 4.13273564e+10, 4.11650072e+10, 4.09994521e+10,\n",
       "           4.08309529e+10, 4.06597497e+10, 4.04860624e+10, 4.03100928e+10,\n",
       "           4.01320262e+10, 3.99520332e+10, 3.97702705e+10, 3.95868825e+10,\n",
       "           3.94020026e+10, 3.92157538e+10, 3.90282501e+10, 3.88395967e+10,\n",
       "           3.86498917e+10, 3.84592259e+10, 3.82676838e+10, 3.80753445e+10,\n",
       "           3.78822815e+10, 3.76885636e+10, 3.74942555e+10, 3.72994177e+10,\n",
       "           3.71041071e+10, 3.69083774e+10, 3.67122791e+10, 3.65158600e+10,\n",
       "           3.63191654e+10, 3.61222381e+10, 3.59251189e+10, 3.57278464e+10,\n",
       "           3.55304576e+10, 3.53329876e+10, 3.51354698e+10, 3.49379365e+10,\n",
       "           3.47404183e+10, 3.45429447e+10, 3.43455439e+10, 3.41482429e+10,\n",
       "           3.39510679e+10, 3.37540440e+10, 3.35571952e+10, 3.33605450e+10,\n",
       "           3.31641156e+10, 3.29679288e+10, 3.27720054e+10, 3.25763658e+10,\n",
       "           3.23810293e+10, 3.21860150e+10, 3.19913411e+10, 3.17970252e+10,\n",
       "           3.16030846e+10, 3.14095358e+10, 3.12163948e+10, 3.10236773e+10,\n",
       "           3.08313983e+10, 3.06395725e+10, 3.04482140e+10, 3.02573366e+10,\n",
       "           3.00669536e+10, 2.98770780e+10, 2.96877222e+10, 2.94988984e+10,\n",
       "           2.93106183e+10, 2.91228935e+10, 2.89357349e+10, 2.87491532e+10,\n",
       "           2.85631588e+10, 2.83777619e+10, 2.81929721e+10, 2.80087989e+10,\n",
       "           2.78252513e+10, 2.76423383e+10, 2.74600684e+10, 2.72784499e+10,\n",
       "           2.70974907e+10, 2.69171986e+10, 2.67375811e+10, 2.65586453e+10,\n",
       "           2.63803983e+10, 2.62028467e+10, 2.60259970e+10, 2.58498555e+10,\n",
       "           2.56744282e+10, 2.54997208e+10, 2.53257389e+10, 2.51524879e+10,\n",
       "           2.49799729e+10, 2.48081989e+10, 2.46371705e+10, 2.44668923e+10,\n",
       "           2.42973687e+10, 2.41286038e+10, 2.39606015e+10, 2.37933656e+10,\n",
       "           2.36268998e+10, 2.34612075e+10, 2.32962918e+10, 2.31321559e+10,\n",
       "           2.29688028e+10, 2.28062351e+10, 2.26444554e+10, 2.24834664e+10,\n",
       "           2.23232701e+10, 2.21638687e+10, 2.20052644e+10, 2.18474589e+10,\n",
       "           2.16904539e+10, 2.15342510e+10, 2.13788518e+10, 2.12242574e+10,\n",
       "           2.10704691e+10, 2.09174880e+10, 2.07653150e+10, 2.06139509e+10,\n",
       "           2.04633965e+10, 2.03136523e+10, 2.01647188e+10, 2.00165964e+10,\n",
       "           1.98692853e+10, 1.97227858e+10, 1.95770978e+10, 1.94322213e+10,\n",
       "           1.92881562e+10, 1.91449022e+10, 1.90024591e+10, 1.88608263e+10,\n",
       "           1.87200033e+10, 1.85799897e+10, 1.84407846e+10, 1.83023872e+10,\n",
       "           1.81647969e+10, 1.80280125e+10, 1.78920331e+10, 1.77568577e+10,\n",
       "           1.76224850e+10, 1.74889138e+10, 1.73561428e+10, 1.72241706e+10,\n",
       "           1.70929959e+10, 1.69626170e+10, 1.68330324e+10, 1.67042405e+10,\n",
       "           1.65762396e+10, 1.64490279e+10, 1.63226036e+10, 1.61969648e+10,\n",
       "           1.60721097e+10, 1.59480362e+10, 1.58247424e+10, 1.57022260e+10,\n",
       "           1.55804851e+10, 1.54595174e+10, 1.53393207e+10, 1.52198928e+10,\n",
       "           1.51012312e+10, 1.49833337e+10, 1.48661979e+10, 1.47498214e+10,\n",
       "           1.46342016e+10, 1.45193360e+10, 1.44052221e+10, 1.42918573e+10,\n",
       "           1.41792390e+10, 1.40673645e+10, 1.39562312e+10, 1.38458363e+10,\n",
       "           1.37361770e+10, 1.36272507e+10, 1.35190544e+10, 1.34115854e+10,\n",
       "           1.33048407e+10, 1.31988176e+10, 1.30935130e+10, 1.29889241e+10,\n",
       "           1.28850479e+10, 1.27818814e+10, 1.26794216e+10, 1.25776655e+10,\n",
       "           1.24766100e+10, 1.23762522e+10, 1.22765888e+10, 1.21776169e+10,\n",
       "           1.20793333e+10, 1.19817348e+10, 1.18848184e+10, 1.17885809e+10,\n",
       "           1.16930191e+10, 1.15981298e+10, 1.15039098e+10, 1.14103559e+10,\n",
       "           1.13174650e+10, 1.12252337e+10, 1.11336589e+10, 1.10427373e+10,\n",
       "           1.09524656e+10, 1.08628406e+10, 1.07738590e+10, 1.06855176e+10,\n",
       "           1.05978129e+10, 1.05107419e+10, 1.04243011e+10, 1.03384872e+10,\n",
       "           1.02532970e+10, 1.01687272e+10, 1.00847744e+10, 1.00014353e+10,\n",
       "           9.91870662e+09, 9.83658502e+09, 9.75506718e+09, 9.67414977e+09,\n",
       "           9.59382947e+09, 9.51410295e+09, 9.43496689e+09, 9.35641795e+09,\n",
       "           9.27845280e+09, 9.20106812e+09, 9.12426058e+09, 9.04802684e+09,\n",
       "           8.97236358e+09, 8.89726746e+09, 8.82273516e+09, 8.74876334e+09,\n",
       "           8.67534868e+09, 8.60248785e+09, 8.53017751e+09, 8.45841435e+09,\n",
       "           8.38719502e+09, 8.31651620e+09, 8.24637456e+09, 8.17676677e+09,\n",
       "           8.10768949e+09, 8.03913939e+09, 7.97111312e+09, 7.90360736e+09,\n",
       "           7.83661876e+09, 7.77014398e+09, 7.70417965e+09, 7.63872245e+09,\n",
       "           7.57376899e+09, 7.50931593e+09, 7.44535989e+09, 7.38189749e+09,\n",
       "           7.31892535e+09, 7.25644007e+09, 7.19443827e+09, 7.13291652e+09,\n",
       "           7.07187140e+09, 7.01129949e+09, 6.95119734e+09, 6.89156149e+09,\n",
       "           6.83238848e+09, 6.77367481e+09, 6.71541700e+09, 6.65761152e+09,\n",
       "           6.60025485e+09, 6.54334345e+09, 6.48687374e+09, 6.43084215e+09,\n",
       "           6.37524507e+09, 6.32007889e+09, 6.26533997e+09, 6.21102465e+09,\n",
       "           6.15712924e+09, 6.10365006e+09, 6.05058337e+09, 5.99792545e+09,\n",
       "           5.94567252e+09, 5.89382080e+09, 5.84236650e+09, 5.79130578e+09,\n",
       "           5.74063481e+09, 5.69034972e+09, 5.64044663e+09, 5.59092163e+09,\n",
       "           5.54177082e+09, 5.49299025e+09, 5.44457597e+09, 5.39652401e+09,\n",
       "           5.34883041e+09, 5.30149115e+09, 5.25450224e+09, 5.20785968e+09,\n",
       "           5.16155942e+09, 5.11559746e+09, 5.06996975e+09, 5.02467227e+09,\n",
       "           4.97970097e+09, 4.93505183e+09, 4.89072082e+09, 4.84670392e+09,\n",
       "           4.80299711e+09, 4.75959640e+09, 4.71649779e+09, 4.67369730e+09,\n",
       "           4.63119100e+09, 4.58897495e+09, 4.54704523e+09, 4.50539798e+09,\n",
       "           4.46402934e+09, 4.42293550e+09, 4.38211268e+09, 4.34155713e+09,\n",
       "           4.30126516e+09, 4.26123311e+09, 4.22145738e+09, 4.18193442e+09,\n",
       "           4.14266070e+09, 4.10363280e+09, 4.06484732e+09, 4.02630094e+09,\n",
       "           3.98799038e+09, 3.94991247e+09, 3.91206406e+09, 3.87444212e+09,\n",
       "           3.83704364e+09, 3.79986574e+09, 3.76290558e+09, 3.72616042e+09,\n",
       "           3.68962760e+09, 3.65330453e+09, 3.61718872e+09, 3.58127776e+09,\n",
       "           3.54556934e+09, 3.51006123e+09, 3.47475129e+09, 3.43963748e+09,\n",
       "           3.40471783e+09, 3.36999051e+09, 3.33545373e+09, 3.30110583e+09,\n",
       "           3.26694523e+09, 3.23297046e+09, 3.19918012e+09, 3.16557293e+09,\n",
       "           3.13214769e+09, 3.09890329e+09, 3.06583873e+09, 3.03295308e+09,\n",
       "           3.00024553e+09, 2.96771533e+09, 2.93536183e+09, 2.90318449e+09,\n",
       "           2.87118282e+09, 2.83935643e+09, 2.80770503e+09, 2.77622838e+09,\n",
       "           2.74492635e+09, 2.71379887e+09, 2.68284593e+09, 2.65206763e+09,\n",
       "           2.62146412e+09, 2.59103561e+09, 2.56078240e+09, 2.53070482e+09,\n",
       "           2.50080329e+09, 2.47107827e+09, 2.44153029e+09, 2.41215992e+09,\n",
       "           2.38296779e+09, 2.35395456e+09, 2.32512095e+09, 2.29646772e+09,\n",
       "           2.26799566e+09, 2.23970559e+09, 2.21159838e+09, 2.18367491e+09,\n",
       "           2.15593611e+09, 2.12838290e+09, 2.10101626e+09, 2.07383715e+09,\n",
       "           2.04684656e+09, 2.02004550e+09, 1.99343498e+09, 1.96701602e+09,\n",
       "           1.94078963e+09, 1.91475683e+09, 1.88891865e+09, 1.86327609e+09,\n",
       "           1.83783017e+09, 1.81258188e+09, 1.78753220e+09, 1.76268211e+09,\n",
       "           1.73803255e+09, 1.71358446e+09, 1.68933876e+09, 1.66529633e+09,\n",
       "           1.64145804e+09, 1.61782471e+09, 1.59439718e+09, 1.57117620e+09,\n",
       "           1.54816252e+09, 1.52535686e+09, 1.50275988e+09, 1.48037224e+09,\n",
       "           1.45819452e+09, 1.43622729e+09, 1.41447107e+09, 1.39292633e+09,\n",
       "           1.37159352e+09, 1.35047302e+09, 1.32956517e+09, 1.30887029e+09,\n",
       "           1.28838862e+09, 1.26812037e+09, 1.24806572e+09, 1.22822476e+09,\n",
       "           1.20859757e+09, 1.18918416e+09] 1 / (m2 s)>"
      ]
     },
     "execution_count": 8,
     "metadata": {},
     "output_type": "execute_result"
    }
   ],
   "source": [
    "G0 = 9.6\n",
    "dndt = np.pi*g_ap**2*(c.hbar*c.c)**3*vol/(vcell)**2 * G0*dpdt*sin2*w_func\n",
    "dndt.si"
   ]
  },
  {
   "cell_type": "code",
   "execution_count": 9,
   "metadata": {},
   "outputs": [
    {
     "data": {
      "text/plain": [
       "[<matplotlib.lines.Line2D at 0x26816e3d1c0>]"
      ]
     },
     "execution_count": 9,
     "metadata": {},
     "output_type": "execute_result"
    },
    {
     "data": {
      "image/png": "[encoded data removed]",
      "text/plain": [
       "<Figure size 640x480 with 1 Axes>"
      ]
     },
     "metadata": {},
     "output_type": "display_data"
    }
   ],
   "source": [
    "plt.plot(Ea,dndt)"
   ]
  },
  {
   "cell_type": "code",
   "execution_count": 10,
   "metadata": {},
   "outputs": [
    {
     "data": {
      "text/plain": [
       "[<matplotlib.lines.Line2D at 0x26816d06d60>]"
      ]
     },
     "execution_count": 10,
     "metadata": {},
     "output_type": "execute_result"
    },
    {
     "data": {
      "image/png": "[encoded data removed]",
      "text/plain": [
       "<Figure size 640x480 with 1 Axes>"
      ]
     },
     "metadata": {},
     "output_type": "display_data"
    }
   ],
   "source": [
    "plt.plot(Ea,w_func)"
   ]
  },
  {
   "cell_type": "code",
   "execution_count": 11,
   "metadata": {},
   "outputs": [
    {
     "data": {
      "text/latex": [
       "$3.1688088 \\times 10^{-8} \\; \\mathrm{}$"
      ],
      "text/plain": [
       "<Quantity 3.16880878e-08>"
      ]
     },
     "execution_count": 11,
     "metadata": {},
     "output_type": "execute_result"
    }
   ],
   "source": [
    "(1*u.s/u.yr).si"
   ]
  },
  {
   "cell_type": "code",
   "execution_count": 12,
   "metadata": {},
   "outputs": [],
   "source": [
    "g_app = g_ap\n",
    "m = 5\n",
    "E = np.arange(m,16,0.01)\n",
    "p = np.sqrt(E**2 - m**2)\n",
    "phi_mass = (1.68e9*(u.cm**2*u.s*u.keV)**(-1))*(g_app*u.GeV/(1e-10))**2*m**4*p*(10/(0.2+E**2)+1+0.0006*E**3)*np.exp(-E)\n"
   ]
  },
  {
   "cell_type": "code",
   "execution_count": 13,
   "metadata": {},
   "outputs": [
    {
     "data": {
      "text/plain": [
       "[<matplotlib.lines.Line2D at 0x26816d71430>]"
      ]
     },
     "execution_count": 13,
     "metadata": {},
     "output_type": "execute_result"
    },
    {
     "data": {
      "image/png": "[encoded data removed]",
      "text/plain": [
       "<Figure size 640x480 with 1 Axes>"
      ]
     },
     "metadata": {},
     "output_type": "display_data"
    }
   ],
   "source": [
    "plt.plot(E, phi_mass)"
   ]
  },
  {
   "cell_type": "code",
   "execution_count": 14,
   "metadata": {},
   "outputs": [
    {
     "data": {
      "text/latex": [
       "$[0,~3.2592444 \\times 10^{13},~4.5622436 \\times 10^{13},~\\dots,~6.4322069 \\times 10^{10},~6.3809412 \\times 10^{10},~6.3300807 \\times 10^{10}] \\; \\mathrm{\\frac{1}{keV\\,s\\,cm^{2}}}$"
      ],
      "text/plain": [
       "<Quantity [0.00000000e+00, 3.25924436e+13, 4.56224357e+13, ...,\n",
       "           6.43220689e+10, 6.38094124e+10, 6.33008070e+10] 1 / (cm2 keV s)>"
      ]
     },
     "execution_count": 14,
     "metadata": {},
     "output_type": "execute_result"
    }
   ],
   "source": [
    "phi_mass"
   ]
  },
  {
   "cell_type": "code",
   "execution_count": 80,
   "metadata": {},
   "outputs": [],
   "source": [
    "def make_hkl(max_h=5,max_k=5,max_l=5):\n",
    "    output_list = []\n",
    "    for h in range(max_h+1):\n",
    "        for k in range(max_k+1):\n",
    "            if k%2 == h%2:\n",
    "                for l in range(max_l+1):\n",
    "                    if l%2 == h%2:\n",
    "                        output_list.append((h,k,l))\n",
    "    return output_list[1:]\n",
    "\n",
    "def mod2(tuple, ax=0):\n",
    "    return np.sum(np.square(tuple), axis=ax)\n"
   ]
  },
  {
   "cell_type": "code",
   "execution_count": 112,
   "metadata": {},
   "outputs": [
    {
     "data": {
      "text/plain": [
       "39.54434610904615"
      ]
     },
     "execution_count": 112,
     "metadata": {},
     "output_type": "execute_result"
    }
   ],
   "source": [
    "hkl = np.array(make_hkl()) #Indexed to [52,2], removing trivial case\n",
    "ginv_array = (1/np.apply_over_axes(mod2, hkl, 1))\n",
    "np.sum((4/np.pi**2)*ginv_array*sin2)\n"
   ]
  },
  {
   "cell_type": "code",
   "execution_count": 116,
   "metadata": {},
   "outputs": [
    {
     "data": {
      "text/plain": [
       "0.6105213612652185"
      ]
     },
     "execution_count": 116,
     "metadata": {},
     "output_type": "execute_result"
    }
   ],
   "source": [
    "ghat = hkl*np.sqrt(ginv_array)\n",
    "sin2 = 4*ghat[:,0]**2*(1-ghat[:,0]**2) #assume k = [1,0,0]; we can like integrate over 1 day maybe\n",
    "\n",
    "summand = (4/np.pi**2)*ginv_array[:,0]*sin2\n",
    "np.sum(summand)"
   ]
  }
 ],
 "metadata": {
  "kernelspec": {
   "display_name": "base",
   "language": "python",
   "name": "python3"
  },
  "language_info": {
   "codemirror_mode": {
    "name": "ipython",
    "version": 3
   },
   "file_extension": ".py",
   "mimetype": "text/x-python",
   "name": "python",
   "nbconvert_exporter": "python",
   "pygments_lexer": "ipython3",
   "version": "3.9.13"
  }
 },
 "nbformat": 4,
 "nbformat_minor": 2
}
