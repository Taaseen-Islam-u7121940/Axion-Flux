{
 "cells": [
  {
   "cell_type": "markdown",
   "metadata": {},
   "source": [
    "# This file is generally to work out the absorption coefficient $I(\\vec{k},\\vec{G})$"
   ]
  },
  {
   "cell_type": "code",
   "execution_count": 24,
   "metadata": {},
   "outputs": [],
   "source": [
    "import numpy as np\n",
    "import matplotlib.pyplot as plt\n",
    "from scipy.special import erf\n",
    "import astropy.units as unit\n",
    "import astropy.constants as const\n",
    "import itertools\n",
    "import plotly.express as px\n",
    "import pandas as pd\n",
    "import plotly.graph_objects as go"
   ]
  },
  {
   "cell_type": "code",
   "execution_count": 2,
   "metadata": {},
   "outputs": [],
   "source": [
    "#Define known physical constants\n",
    "a_nai = 6.642 #Lattice constant, Angstroms = 1e-10m, from Dent paper. \n",
    "hbar_kevs = (const.hbar.to(unit.keV*unit.s)).value #hbar, keV*s, from astropy\n",
    "c_aas = (const.c.to(unit.AA/unit.s)).value #speed of light, angstrom/s (cancels with a), from astropy\n",
    "me_hca = (const.m_e/((const.hbar/(const.c*unit.AA)).si)).value #Electron mass, in units of... hbar/(c*AA) to cancel with |G| (LMAOOOOO)"
   ]
  },
  {
   "cell_type": "code",
   "execution_count": 3,
   "metadata": {},
   "outputs": [],
   "source": [
    "# Define unknown constants/crystal info\n",
    "g_agg = 1e-10 #g_agg (axion-photon-photon) coupling constant; in GeV^(-1) (for photon coalescence)\n",
    "g_ag = 1e-10 #Axion-photon coupling (Primakoff process), in GeV^(-1).\n",
    "#Upper bound on g_ag of 2.7e-10 from the Sun, see Di Luzio's review\n",
    "lmda = (g_agg/(1e-8))**4\n",
    "phi_0 = 5.95e14 #in cm^(-2) s^(-1)\n",
    "E_0    = 1.103 #in keV\n",
    "\n",
    "#Crystal Geometry\n",
    "diam = 110*unit.mm\n",
    "hgt = 150*unit.mm \n",
    "vol = ((np.pi*(diam/2)**2*hgt).to(unit.AA**3)).value #Crystal volume, in AA^3\n",
    "\n",
    "vol_cell = 67.71 #In AA^3, from Dent paper"
   ]
  },
  {
   "cell_type": "code",
   "execution_count": 4,
   "metadata": {},
   "outputs": [],
   "source": [
    "#Define useful functions\n",
    "\n",
    "def make_hkl(max_h=5,max_k=5,max_l=5, s=False):\n",
    "    full_arr = list(itertools.product(range(max_h), range(max_k), range(max_l)))\n",
    "    if s:\n",
    "        filter_func = lambda triple: (triple[0]%2 == triple[1]%2) & (triple[0]%2 == triple[2]%2) & (triple[0]%2 == 0)\n",
    "        return np.array(list(filter(filter_func, full_arr)))[1:]\n",
    "    else:\n",
    "        filter_func = lambda triple: (triple[0]%2 == triple[1]%2) & (triple[0]%2 == triple[2]%2)\n",
    "        return np.array(list(filter(filter_func, full_arr)))[1:]\n",
    "\n",
    "def mod2(vec3):\n",
    "    '''Returns the dimensionless magnitude of an array of vectors in the (h,k,l) basis. Factor of 2pi/a has to be multiplied manually'''\n",
    "    return 3*(vec3[:,0]**2 + vec3[:,1]**2 + vec3[:,2]**2) - 2*(vec3[:,0]*vec3[:,1] + vec3[:,1]*vec3[:,2] + vec3[:,2]*vec3[:,0])\n",
    "\n",
    "def gdotk(hkl_arr):\n",
    "    '''Returns gHAT dot kHAT for a vector in the hkl basis where kHAT is xHAT'''\n",
    "    return (-hkl_arr[:,0]+hkl_arr[:,1]+hkl_arr[:,2])/np.sqrt(mod2(hkl_arr))\n",
    "\n",
    "def w_func(Ea, dVector = False, Delta=1.5, E1=1, E2=6):\n",
    "    '''Returns array of W(Ea, Delta, E1, E2) where everything is in keV. Infinite Ea is dealt with'''\n",
    "    w_list = []\n",
    "    if dVector:\n",
    "        entangle = np.dstack((Ea, Delta))\n",
    "        for index in range(entangle.shape[1]):\n",
    "            E = entangle[0,index,0]\n",
    "            D = entangle[0,index,1]\n",
    "            if np.isinf(E):\n",
    "                w_list.append(0)\n",
    "            else:\n",
    "                w = (1/2)*(erf((E-E1)/(np.sqrt(2)*D)) - erf((E-E2)/(np.sqrt(2)*D)))\n",
    "                w_list.append(w)\n",
    "    else:\n",
    "        for E in Ea:\n",
    "            if np.isinf(E):\n",
    "                w_list.append(0)\n",
    "            else:\n",
    "                w = (1/2)*(erf((E-E1)/(np.sqrt(2)*Delta)) - erf((E-E2)/(np.sqrt(2)*Delta)))\n",
    "                w_list.append(w)\n",
    "    return np.array(w_list)\n",
    "\n",
    "def make_dpde(Energy_array):\n",
    "    '''Creates dPhi/dE for the parametrised blackbody-like form appearing in older papers. Assumes no axion mass.\n",
    "    Units of cm^(-2) s^(-1) keV^(-1)'''\n",
    "    dpdt_list = []\n",
    "    for E in Energy_array:\n",
    "        if np.isinf(E):\n",
    "            dpdt_list.append(0)\n",
    "        else:\n",
    "            dpdt_list.append(np.sqrt(lmda)*(phi_0)/(E_0) * (E/E_0)**3/(np.exp(E/E_0)-1))\n",
    "    return np.array(dpdt_list)\n",
    "\n",
    "def hkl_to_cart(hkl_array):\n",
    "    '''Converts from hkl basis to cartesian basis, ignoring factor of 2pi/a'''\n",
    "    x_axis = - hkl_array[:,0] + hkl_array[:,1] + hkl_array[:,2] \n",
    "    y_axis =   hkl_array[:,0] - hkl_array[:,1] + hkl_array[:,2] \n",
    "    z_axis =   hkl_array[:,0] + hkl_array[:,1] - hkl_array[:,2] \n",
    "    return np.stack((x_axis, y_axis, z_axis), axis=1)"
   ]
  },
  {
   "cell_type": "code",
   "execution_count": 5,
   "metadata": {},
   "outputs": [],
   "source": [
    "hkl = make_hkl(s=True)\n",
    "hkl_c = hkl_to_cart(hkl)"
   ]
  },
  {
   "cell_type": "code",
   "execution_count": 6,
   "metadata": {},
   "outputs": [],
   "source": [
    "g_cart = hkl_c*2*np.pi/a_nai #in AA^(-1)"
   ]
  },
  {
   "cell_type": "code",
   "execution_count": 7,
   "metadata": {},
   "outputs": [],
   "source": [
    "def one_cube(a):\n",
    "    '''DEPRECATED. Creates an array of 3d points representing one cell in an FCC lattice'''\n",
    "    return np.array([(0,0,0),(a,0,0),(0,0,a),(a,0,a),\n",
    "            (0,a,0),(a,a,0),(0,a,a),(a,a,a),\n",
    "            (0,a/2,a/2), (a/2,0,a/2), (a/2,a/2,0),\n",
    "            (a,a/2,a/2), (a/2,a,a/2), (a/2,a/2,a)])"
   ]
  },
  {
   "cell_type": "code",
   "execution_count": 8,
   "metadata": {},
   "outputs": [],
   "source": [
    "def make_lattice_points(cell_vec = (10,10,10), a = a_nai):\n",
    "    '''Deprecated for being incorrect and slow'''\n",
    "    #Number of points is almost exactly O(n^3)\n",
    "    nx = cell_vec[0]\n",
    "    ny = cell_vec[1]\n",
    "    nz = cell_vec[2]    \n",
    "\n",
    "    all_points = one_cube(a) #Initial cube\n",
    "    init_list = list(itertools.product(range(nx),range(ny),range(nz)))\n",
    "    \n",
    "    for start_vec in init_list:\n",
    "        extend_table = np.repeat(np.array([start_vec]), 14, axis=0)\n",
    "        points = np.array(one_cube(a)) + extend_table\n",
    "        all_points = np.vstack((all_points, points))\n",
    "    return np.unique(all_points, axis=0)"
   ]
  },
  {
   "cell_type": "code",
   "execution_count": 9,
   "metadata": {},
   "outputs": [],
   "source": [
    "def lattice_3d_scratch(N_x, N_y, N_z):\n",
    "    full_grid = np.array(tuple(itertools.product(np.arange(0,N_x-0.5,0.5),\n",
    "                                                 np.arange(0,N_y-0.5,0.5),\n",
    "                                                 np.arange(0,N_z-0.5,0.5))))\n",
    "    return np.array(list(filter(lambda x: sum(x%1)%1 == 0, full_grid)))"
   ]
  },
  {
   "cell_type": "code",
   "execution_count": 10,
   "metadata": {},
   "outputs": [],
   "source": [
    "d3_lattice = lattice_3d_scratch(5,\n",
    "                                5,\n",
    "                                5)\n",
    "#Takes 1m13s for 100^3"
   ]
  },
  {
   "cell_type": "code",
   "execution_count": 11,
   "metadata": {},
   "outputs": [
    {
     "data": {
      "text/plain": [
       "array([[0., 0., 0.],\n",
       "       [0., 0., 1.],\n",
       "       [0., 0., 2.],\n",
       "       ...,\n",
       "       [4., 4., 2.],\n",
       "       [4., 4., 3.],\n",
       "       [4., 4., 4.]])"
      ]
     },
     "execution_count": 11,
     "metadata": {},
     "output_type": "execute_result"
    }
   ],
   "source": [
    "d3_lattice"
   ]
  },
  {
   "cell_type": "code",
   "execution_count": 13,
   "metadata": {},
   "outputs": [],
   "source": [
    "def difference_array(lattice):\n",
    "    output = []\n",
    "    for vec1 in lattice:\n",
    "        for vec2 in lattice:\n",
    "            output.append(vec1 - vec2)\n",
    "    return np.array(output)\n",
    "#This essentially forms an antisymmetric tensor: treating it as such could cut down time\n",
    "#JIT compilation w/ numba "
   ]
  },
  {
   "cell_type": "code",
   "execution_count": 14,
   "metadata": {},
   "outputs": [],
   "source": [
    "diffs = difference_array(d3_lattice)"
   ]
  },
  {
   "cell_type": "code",
   "execution_count": 23,
   "metadata": {},
   "outputs": [
    {
     "data": {
      "text/html": [
       "<div>\n",
       "<style scoped>\n",
       "    .dataframe tbody tr th:only-of-type {\n",
       "        vertical-align: middle;\n",
       "    }\n",
       "\n",
       "    .dataframe tbody tr th {\n",
       "        vertical-align: top;\n",
       "    }\n",
       "\n",
       "    .dataframe thead th {\n",
       "        text-align: right;\n",
       "    }\n",
       "</style>\n",
       "<table border=\"1\" class=\"dataframe\">\n",
       "  <thead>\n",
       "    <tr style=\"text-align: right;\">\n",
       "      <th></th>\n",
       "      <th>0</th>\n",
       "      <th>1</th>\n",
       "      <th>2</th>\n",
       "    </tr>\n",
       "  </thead>\n",
       "  <tbody>\n",
       "    <tr>\n",
       "      <th>0</th>\n",
       "      <td>0.0</td>\n",
       "      <td>0.0</td>\n",
       "      <td>0.0</td>\n",
       "    </tr>\n",
       "    <tr>\n",
       "      <th>1</th>\n",
       "      <td>0.0</td>\n",
       "      <td>0.0</td>\n",
       "      <td>1.0</td>\n",
       "    </tr>\n",
       "    <tr>\n",
       "      <th>2</th>\n",
       "      <td>0.0</td>\n",
       "      <td>0.0</td>\n",
       "      <td>2.0</td>\n",
       "    </tr>\n",
       "    <tr>\n",
       "      <th>3</th>\n",
       "      <td>0.0</td>\n",
       "      <td>0.0</td>\n",
       "      <td>3.0</td>\n",
       "    </tr>\n",
       "    <tr>\n",
       "      <th>4</th>\n",
       "      <td>0.0</td>\n",
       "      <td>0.0</td>\n",
       "      <td>4.0</td>\n",
       "    </tr>\n",
       "    <tr>\n",
       "      <th>...</th>\n",
       "      <td>...</td>\n",
       "      <td>...</td>\n",
       "      <td>...</td>\n",
       "    </tr>\n",
       "    <tr>\n",
       "      <th>360</th>\n",
       "      <td>4.0</td>\n",
       "      <td>4.0</td>\n",
       "      <td>0.0</td>\n",
       "    </tr>\n",
       "    <tr>\n",
       "      <th>361</th>\n",
       "      <td>4.0</td>\n",
       "      <td>4.0</td>\n",
       "      <td>1.0</td>\n",
       "    </tr>\n",
       "    <tr>\n",
       "      <th>362</th>\n",
       "      <td>4.0</td>\n",
       "      <td>4.0</td>\n",
       "      <td>2.0</td>\n",
       "    </tr>\n",
       "    <tr>\n",
       "      <th>363</th>\n",
       "      <td>4.0</td>\n",
       "      <td>4.0</td>\n",
       "      <td>3.0</td>\n",
       "    </tr>\n",
       "    <tr>\n",
       "      <th>364</th>\n",
       "      <td>4.0</td>\n",
       "      <td>4.0</td>\n",
       "      <td>4.0</td>\n",
       "    </tr>\n",
       "  </tbody>\n",
       "</table>\n",
       "<p>365 rows × 3 columns</p>\n",
       "</div>"
      ],
      "text/plain": [
       "       0    1    2\n",
       "0    0.0  0.0  0.0\n",
       "1    0.0  0.0  1.0\n",
       "2    0.0  0.0  2.0\n",
       "3    0.0  0.0  3.0\n",
       "4    0.0  0.0  4.0\n",
       "..   ...  ...  ...\n",
       "360  4.0  4.0  0.0\n",
       "361  4.0  4.0  1.0\n",
       "362  4.0  4.0  2.0\n",
       "363  4.0  4.0  3.0\n",
       "364  4.0  4.0  4.0\n",
       "\n",
       "[365 rows x 3 columns]"
      ]
     },
     "execution_count": 23,
     "metadata": {},
     "output_type": "execute_result"
    }
   ],
   "source": [
    "df_lattice = pd.DataFrame(d3_lattice)\n",
    "df_lattice"
   ]
  },
  {
   "cell_type": "code",
   "execution_count": 25,
   "metadata": {},
   "outputs": [
    {
     "data": {
      "application/vnd.plotly.v1+json": {
       "config": {
        "plotlyServerURL": "https://plot.ly"
       },
       "data": [
        {
         "hovertemplate": "x=%{x}<br>y=%{y}<br>z=%{z}<extra></extra>",
         "legendgroup": "",
         "marker": {
          "color": "#636efa",
          "size": 5,
          "symbol": "circle"
         },
         "mode": "markers",
         "name": "",
         "scene": "scene",
         "showlegend": false,
         "type": "scatter3d",
         "x": [
          0,
          0,
          0,
          0,
          0,
          0,
          0,
          0,
          0,
          0,
          0,
          0,
          0,
          0,
          0,
          0,
          0,
          0,
          0,
          0,
          0,
          0,
          0,
          0,
          0,
          0,
          0,
          0,
          0,
          0,
          0,
          0,
          0,
          0,
          0,
          0,
          0,
          0,
          0,
          0,
          0,
          0.5,
          0.5,
          0.5,
          0.5,
          0.5,
          0.5,
          0.5,
          0.5,
          0.5,
          0.5,
          0.5,
          0.5,
          0.5,
          0.5,
          0.5,
          0.5,
          0.5,
          0.5,
          0.5,
          0.5,
          0.5,
          0.5,
          0.5,
          0.5,
          0.5,
          0.5,
          0.5,
          0.5,
          0.5,
          0.5,
          0.5,
          0.5,
          0.5,
          0.5,
          0.5,
          0.5,
          0.5,
          0.5,
          0.5,
          0.5,
          1,
          1,
          1,
          1,
          1,
          1,
          1,
          1,
          1,
          1,
          1,
          1,
          1,
          1,
          1,
          1,
          1,
          1,
          1,
          1,
          1,
          1,
          1,
          1,
          1,
          1,
          1,
          1,
          1,
          1,
          1,
          1,
          1,
          1,
          1,
          1,
          1,
          1,
          1,
          1,
          1,
          1.5,
          1.5,
          1.5,
          1.5,
          1.5,
          1.5,
          1.5,
          1.5,
          1.5,
          1.5,
          1.5,
          1.5,
          1.5,
          1.5,
          1.5,
          1.5,
          1.5,
          1.5,
          1.5,
          1.5,
          1.5,
          1.5,
          1.5,
          1.5,
          1.5,
          1.5,
          1.5,
          1.5,
          1.5,
          1.5,
          1.5,
          1.5,
          1.5,
          1.5,
          1.5,
          1.5,
          1.5,
          1.5,
          1.5,
          1.5,
          2,
          2,
          2,
          2,
          2,
          2,
          2,
          2,
          2,
          2,
          2,
          2,
          2,
          2,
          2,
          2,
          2,
          2,
          2,
          2,
          2,
          2,
          2,
          2,
          2,
          2,
          2,
          2,
          2,
          2,
          2,
          2,
          2,
          2,
          2,
          2,
          2,
          2,
          2,
          2,
          2,
          2.5,
          2.5,
          2.5,
          2.5,
          2.5,
          2.5,
          2.5,
          2.5,
          2.5,
          2.5,
          2.5,
          2.5,
          2.5,
          2.5,
          2.5,
          2.5,
          2.5,
          2.5,
          2.5,
          2.5,
          2.5,
          2.5,
          2.5,
          2.5,
          2.5,
          2.5,
          2.5,
          2.5,
          2.5,
          2.5,
          2.5,
          2.5,
          2.5,
          2.5,
          2.5,
          2.5,
          2.5,
          2.5,
          2.5,
          2.5,
          3,
          3,
          3,
          3,
          3,
          3,
          3,
          3,
          3,
          3,
          3,
          3,
          3,
          3,
          3,
          3,
          3,
          3,
          3,
          3,
          3,
          3,
          3,
          3,
          3,
          3,
          3,
          3,
          3,
          3,
          3,
          3,
          3,
          3,
          3,
          3,
          3,
          3,
          3,
          3,
          3,
          3.5,
          3.5,
          3.5,
          3.5,
          3.5,
          3.5,
          3.5,
          3.5,
          3.5,
          3.5,
          3.5,
          3.5,
          3.5,
          3.5,
          3.5,
          3.5,
          3.5,
          3.5,
          3.5,
          3.5,
          3.5,
          3.5,
          3.5,
          3.5,
          3.5,
          3.5,
          3.5,
          3.5,
          3.5,
          3.5,
          3.5,
          3.5,
          3.5,
          3.5,
          3.5,
          3.5,
          3.5,
          3.5,
          3.5,
          3.5,
          4,
          4,
          4,
          4,
          4,
          4,
          4,
          4,
          4,
          4,
          4,
          4,
          4,
          4,
          4,
          4,
          4,
          4,
          4,
          4,
          4,
          4,
          4,
          4,
          4,
          4,
          4,
          4,
          4,
          4,
          4,
          4,
          4,
          4,
          4,
          4,
          4,
          4,
          4,
          4,
          4
         ],
         "y": [
          0,
          0,
          0,
          0,
          0,
          0.5,
          0.5,
          0.5,
          0.5,
          1,
          1,
          1,
          1,
          1,
          1.5,
          1.5,
          1.5,
          1.5,
          2,
          2,
          2,
          2,
          2,
          2.5,
          2.5,
          2.5,
          2.5,
          3,
          3,
          3,
          3,
          3,
          3.5,
          3.5,
          3.5,
          3.5,
          4,
          4,
          4,
          4,
          4,
          0,
          0,
          0,
          0,
          0.5,
          0.5,
          0.5,
          0.5,
          0.5,
          1,
          1,
          1,
          1,
          1.5,
          1.5,
          1.5,
          1.5,
          1.5,
          2,
          2,
          2,
          2,
          2.5,
          2.5,
          2.5,
          2.5,
          2.5,
          3,
          3,
          3,
          3,
          3.5,
          3.5,
          3.5,
          3.5,
          3.5,
          4,
          4,
          4,
          4,
          0,
          0,
          0,
          0,
          0,
          0.5,
          0.5,
          0.5,
          0.5,
          1,
          1,
          1,
          1,
          1,
          1.5,
          1.5,
          1.5,
          1.5,
          2,
          2,
          2,
          2,
          2,
          2.5,
          2.5,
          2.5,
          2.5,
          3,
          3,
          3,
          3,
          3,
          3.5,
          3.5,
          3.5,
          3.5,
          4,
          4,
          4,
          4,
          4,
          0,
          0,
          0,
          0,
          0.5,
          0.5,
          0.5,
          0.5,
          0.5,
          1,
          1,
          1,
          1,
          1.5,
          1.5,
          1.5,
          1.5,
          1.5,
          2,
          2,
          2,
          2,
          2.5,
          2.5,
          2.5,
          2.5,
          2.5,
          3,
          3,
          3,
          3,
          3.5,
          3.5,
          3.5,
          3.5,
          3.5,
          4,
          4,
          4,
          4,
          0,
          0,
          0,
          0,
          0,
          0.5,
          0.5,
          0.5,
          0.5,
          1,
          1,
          1,
          1,
          1,
          1.5,
          1.5,
          1.5,
          1.5,
          2,
          2,
          2,
          2,
          2,
          2.5,
          2.5,
          2.5,
          2.5,
          3,
          3,
          3,
          3,
          3,
          3.5,
          3.5,
          3.5,
          3.5,
          4,
          4,
          4,
          4,
          4,
          0,
          0,
          0,
          0,
          0.5,
          0.5,
          0.5,
          0.5,
          0.5,
          1,
          1,
          1,
          1,
          1.5,
          1.5,
          1.5,
          1.5,
          1.5,
          2,
          2,
          2,
          2,
          2.5,
          2.5,
          2.5,
          2.5,
          2.5,
          3,
          3,
          3,
          3,
          3.5,
          3.5,
          3.5,
          3.5,
          3.5,
          4,
          4,
          4,
          4,
          0,
          0,
          0,
          0,
          0,
          0.5,
          0.5,
          0.5,
          0.5,
          1,
          1,
          1,
          1,
          1,
          1.5,
          1.5,
          1.5,
          1.5,
          2,
          2,
          2,
          2,
          2,
          2.5,
          2.5,
          2.5,
          2.5,
          3,
          3,
          3,
          3,
          3,
          3.5,
          3.5,
          3.5,
          3.5,
          4,
          4,
          4,
          4,
          4,
          0,
          0,
          0,
          0,
          0.5,
          0.5,
          0.5,
          0.5,
          0.5,
          1,
          1,
          1,
          1,
          1.5,
          1.5,
          1.5,
          1.5,
          1.5,
          2,
          2,
          2,
          2,
          2.5,
          2.5,
          2.5,
          2.5,
          2.5,
          3,
          3,
          3,
          3,
          3.5,
          3.5,
          3.5,
          3.5,
          3.5,
          4,
          4,
          4,
          4,
          0,
          0,
          0,
          0,
          0,
          0.5,
          0.5,
          0.5,
          0.5,
          1,
          1,
          1,
          1,
          1,
          1.5,
          1.5,
          1.5,
          1.5,
          2,
          2,
          2,
          2,
          2,
          2.5,
          2.5,
          2.5,
          2.5,
          3,
          3,
          3,
          3,
          3,
          3.5,
          3.5,
          3.5,
          3.5,
          4,
          4,
          4,
          4,
          4
         ],
         "z": [
          0,
          1,
          2,
          3,
          4,
          0.5,
          1.5,
          2.5,
          3.5,
          0,
          1,
          2,
          3,
          4,
          0.5,
          1.5,
          2.5,
          3.5,
          0,
          1,
          2,
          3,
          4,
          0.5,
          1.5,
          2.5,
          3.5,
          0,
          1,
          2,
          3,
          4,
          0.5,
          1.5,
          2.5,
          3.5,
          0,
          1,
          2,
          3,
          4,
          0.5,
          1.5,
          2.5,
          3.5,
          0,
          1,
          2,
          3,
          4,
          0.5,
          1.5,
          2.5,
          3.5,
          0,
          1,
          2,
          3,
          4,
          0.5,
          1.5,
          2.5,
          3.5,
          0,
          1,
          2,
          3,
          4,
          0.5,
          1.5,
          2.5,
          3.5,
          0,
          1,
          2,
          3,
          4,
          0.5,
          1.5,
          2.5,
          3.5,
          0,
          1,
          2,
          3,
          4,
          0.5,
          1.5,
          2.5,
          3.5,
          0,
          1,
          2,
          3,
          4,
          0.5,
          1.5,
          2.5,
          3.5,
          0,
          1,
          2,
          3,
          4,
          0.5,
          1.5,
          2.5,
          3.5,
          0,
          1,
          2,
          3,
          4,
          0.5,
          1.5,
          2.5,
          3.5,
          0,
          1,
          2,
          3,
          4,
          0.5,
          1.5,
          2.5,
          3.5,
          0,
          1,
          2,
          3,
          4,
          0.5,
          1.5,
          2.5,
          3.5,
          0,
          1,
          2,
          3,
          4,
          0.5,
          1.5,
          2.5,
          3.5,
          0,
          1,
          2,
          3,
          4,
          0.5,
          1.5,
          2.5,
          3.5,
          0,
          1,
          2,
          3,
          4,
          0.5,
          1.5,
          2.5,
          3.5,
          0,
          1,
          2,
          3,
          4,
          0.5,
          1.5,
          2.5,
          3.5,
          0,
          1,
          2,
          3,
          4,
          0.5,
          1.5,
          2.5,
          3.5,
          0,
          1,
          2,
          3,
          4,
          0.5,
          1.5,
          2.5,
          3.5,
          0,
          1,
          2,
          3,
          4,
          0.5,
          1.5,
          2.5,
          3.5,
          0,
          1,
          2,
          3,
          4,
          0.5,
          1.5,
          2.5,
          3.5,
          0,
          1,
          2,
          3,
          4,
          0.5,
          1.5,
          2.5,
          3.5,
          0,
          1,
          2,
          3,
          4,
          0.5,
          1.5,
          2.5,
          3.5,
          0,
          1,
          2,
          3,
          4,
          0.5,
          1.5,
          2.5,
          3.5,
          0,
          1,
          2,
          3,
          4,
          0.5,
          1.5,
          2.5,
          3.5,
          0,
          1,
          2,
          3,
          4,
          0.5,
          1.5,
          2.5,
          3.5,
          0,
          1,
          2,
          3,
          4,
          0.5,
          1.5,
          2.5,
          3.5,
          0,
          1,
          2,
          3,
          4,
          0.5,
          1.5,
          2.5,
          3.5,
          0,
          1,
          2,
          3,
          4,
          0.5,
          1.5,
          2.5,
          3.5,
          0,
          1,
          2,
          3,
          4,
          0.5,
          1.5,
          2.5,
          3.5,
          0,
          1,
          2,
          3,
          4,
          0.5,
          1.5,
          2.5,
          3.5,
          0,
          1,
          2,
          3,
          4,
          0.5,
          1.5,
          2.5,
          3.5,
          0,
          1,
          2,
          3,
          4,
          0.5,
          1.5,
          2.5,
          3.5,
          0,
          1,
          2,
          3,
          4,
          0.5,
          1.5,
          2.5,
          3.5,
          0,
          1,
          2,
          3,
          4,
          0.5,
          1.5,
          2.5,
          3.5,
          0,
          1,
          2,
          3,
          4,
          0.5,
          1.5,
          2.5,
          3.5,
          0,
          1,
          2,
          3,
          4,
          0.5,
          1.5,
          2.5,
          3.5,
          0,
          1,
          2,
          3,
          4,
          0.5,
          1.5,
          2.5,
          3.5,
          0,
          1,
          2,
          3,
          4
         ]
        }
       ],
       "layout": {
        "legend": {
         "tracegroupgap": 0
        },
        "margin": {
         "t": 60
        },
        "scene": {
         "domain": {
          "x": [
           0,
           1
          ],
          "y": [
           0,
           1
          ]
         },
         "xaxis": {
          "title": {
           "text": "x"
          }
         },
         "yaxis": {
          "title": {
           "text": "y"
          }
         },
         "zaxis": {
          "title": {
           "text": "z"
          }
         }
        },
        "template": {
         "data": {
          "bar": [
           {
            "error_x": {
             "color": "#2a3f5f"
            },
            "error_y": {
             "color": "#2a3f5f"
            },
            "marker": {
             "line": {
              "color": "#E5ECF6",
              "width": 0.5
             },
             "pattern": {
              "fillmode": "overlay",
              "size": 10,
              "solidity": 0.2
             }
            },
            "type": "bar"
           }
          ],
          "barpolar": [
           {
            "marker": {
             "line": {
              "color": "#E5ECF6",
              "width": 0.5
             },
             "pattern": {
              "fillmode": "overlay",
              "size": 10,
              "solidity": 0.2
             }
            },
            "type": "barpolar"
           }
          ],
          "carpet": [
           {
            "aaxis": {
             "endlinecolor": "#2a3f5f",
             "gridcolor": "white",
             "linecolor": "white",
             "minorgridcolor": "white",
             "startlinecolor": "#2a3f5f"
            },
            "baxis": {
             "endlinecolor": "#2a3f5f",
             "gridcolor": "white",
             "linecolor": "white",
             "minorgridcolor": "white",
             "startlinecolor": "#2a3f5f"
            },
            "type": "carpet"
           }
          ],
          "choropleth": [
           {
            "colorbar": {
             "outlinewidth": 0,
             "ticks": ""
            },
            "type": "choropleth"
           }
          ],
          "contour": [
           {
            "colorbar": {
             "outlinewidth": 0,
             "ticks": ""
            },
            "colorscale": [
             [
              0,
              "#0d0887"
             ],
             [
              0.1111111111111111,
              "#46039f"
             ],
             [
              0.2222222222222222,
              "#7201a8"
             ],
             [
              0.3333333333333333,
              "#9c179e"
             ],
             [
              0.4444444444444444,
              "#bd3786"
             ],
             [
              0.5555555555555556,
              "#d8576b"
             ],
             [
              0.6666666666666666,
              "#ed7953"
             ],
             [
              0.7777777777777778,
              "#fb9f3a"
             ],
             [
              0.8888888888888888,
              "#fdca26"
             ],
             [
              1,
              "#f0f921"
             ]
            ],
            "type": "contour"
           }
          ],
          "contourcarpet": [
           {
            "colorbar": {
             "outlinewidth": 0,
             "ticks": ""
            },
            "type": "contourcarpet"
           }
          ],
          "heatmap": [
           {
            "colorbar": {
             "outlinewidth": 0,
             "ticks": ""
            },
            "colorscale": [
             [
              0,
              "#0d0887"
             ],
             [
              0.1111111111111111,
              "#46039f"
             ],
             [
              0.2222222222222222,
              "#7201a8"
             ],
             [
              0.3333333333333333,
              "#9c179e"
             ],
             [
              0.4444444444444444,
              "#bd3786"
             ],
             [
              0.5555555555555556,
              "#d8576b"
             ],
             [
              0.6666666666666666,
              "#ed7953"
             ],
             [
              0.7777777777777778,
              "#fb9f3a"
             ],
             [
              0.8888888888888888,
              "#fdca26"
             ],
             [
              1,
              "#f0f921"
             ]
            ],
            "type": "heatmap"
           }
          ],
          "heatmapgl": [
           {
            "colorbar": {
             "outlinewidth": 0,
             "ticks": ""
            },
            "colorscale": [
             [
              0,
              "#0d0887"
             ],
             [
              0.1111111111111111,
              "#46039f"
             ],
             [
              0.2222222222222222,
              "#7201a8"
             ],
             [
              0.3333333333333333,
              "#9c179e"
             ],
             [
              0.4444444444444444,
              "#bd3786"
             ],
             [
              0.5555555555555556,
              "#d8576b"
             ],
             [
              0.6666666666666666,
              "#ed7953"
             ],
             [
              0.7777777777777778,
              "#fb9f3a"
             ],
             [
              0.8888888888888888,
              "#fdca26"
             ],
             [
              1,
              "#f0f921"
             ]
            ],
            "type": "heatmapgl"
           }
          ],
          "histogram": [
           {
            "marker": {
             "pattern": {
              "fillmode": "overlay",
              "size": 10,
              "solidity": 0.2
             }
            },
            "type": "histogram"
           }
          ],
          "histogram2d": [
           {
            "colorbar": {
             "outlinewidth": 0,
             "ticks": ""
            },
            "colorscale": [
             [
              0,
              "#0d0887"
             ],
             [
              0.1111111111111111,
              "#46039f"
             ],
             [
              0.2222222222222222,
              "#7201a8"
             ],
             [
              0.3333333333333333,
              "#9c179e"
             ],
             [
              0.4444444444444444,
              "#bd3786"
             ],
             [
              0.5555555555555556,
              "#d8576b"
             ],
             [
              0.6666666666666666,
              "#ed7953"
             ],
             [
              0.7777777777777778,
              "#fb9f3a"
             ],
             [
              0.8888888888888888,
              "#fdca26"
             ],
             [
              1,
              "#f0f921"
             ]
            ],
            "type": "histogram2d"
           }
          ],
          "histogram2dcontour": [
           {
            "colorbar": {
             "outlinewidth": 0,
             "ticks": ""
            },
            "colorscale": [
             [
              0,
              "#0d0887"
             ],
             [
              0.1111111111111111,
              "#46039f"
             ],
             [
              0.2222222222222222,
              "#7201a8"
             ],
             [
              0.3333333333333333,
              "#9c179e"
             ],
             [
              0.4444444444444444,
              "#bd3786"
             ],
             [
              0.5555555555555556,
              "#d8576b"
             ],
             [
              0.6666666666666666,
              "#ed7953"
             ],
             [
              0.7777777777777778,
              "#fb9f3a"
             ],
             [
              0.8888888888888888,
              "#fdca26"
             ],
             [
              1,
              "#f0f921"
             ]
            ],
            "type": "histogram2dcontour"
           }
          ],
          "mesh3d": [
           {
            "colorbar": {
             "outlinewidth": 0,
             "ticks": ""
            },
            "type": "mesh3d"
           }
          ],
          "parcoords": [
           {
            "line": {
             "colorbar": {
              "outlinewidth": 0,
              "ticks": ""
             }
            },
            "type": "parcoords"
           }
          ],
          "pie": [
           {
            "automargin": true,
            "type": "pie"
           }
          ],
          "scatter": [
           {
            "fillpattern": {
             "fillmode": "overlay",
             "size": 10,
             "solidity": 0.2
            },
            "type": "scatter"
           }
          ],
          "scatter3d": [
           {
            "line": {
             "colorbar": {
              "outlinewidth": 0,
              "ticks": ""
             }
            },
            "marker": {
             "colorbar": {
              "outlinewidth": 0,
              "ticks": ""
             }
            },
            "type": "scatter3d"
           }
          ],
          "scattercarpet": [
           {
            "marker": {
             "colorbar": {
              "outlinewidth": 0,
              "ticks": ""
             }
            },
            "type": "scattercarpet"
           }
          ],
          "scattergeo": [
           {
            "marker": {
             "colorbar": {
              "outlinewidth": 0,
              "ticks": ""
             }
            },
            "type": "scattergeo"
           }
          ],
          "scattergl": [
           {
            "marker": {
             "colorbar": {
              "outlinewidth": 0,
              "ticks": ""
             }
            },
            "type": "scattergl"
           }
          ],
          "scattermapbox": [
           {
            "marker": {
             "colorbar": {
              "outlinewidth": 0,
              "ticks": ""
             }
            },
            "type": "scattermapbox"
           }
          ],
          "scatterpolar": [
           {
            "marker": {
             "colorbar": {
              "outlinewidth": 0,
              "ticks": ""
             }
            },
            "type": "scatterpolar"
           }
          ],
          "scatterpolargl": [
           {
            "marker": {
             "colorbar": {
              "outlinewidth": 0,
              "ticks": ""
             }
            },
            "type": "scatterpolargl"
           }
          ],
          "scatterternary": [
           {
            "marker": {
             "colorbar": {
              "outlinewidth": 0,
              "ticks": ""
             }
            },
            "type": "scatterternary"
           }
          ],
          "surface": [
           {
            "colorbar": {
             "outlinewidth": 0,
             "ticks": ""
            },
            "colorscale": [
             [
              0,
              "#0d0887"
             ],
             [
              0.1111111111111111,
              "#46039f"
             ],
             [
              0.2222222222222222,
              "#7201a8"
             ],
             [
              0.3333333333333333,
              "#9c179e"
             ],
             [
              0.4444444444444444,
              "#bd3786"
             ],
             [
              0.5555555555555556,
              "#d8576b"
             ],
             [
              0.6666666666666666,
              "#ed7953"
             ],
             [
              0.7777777777777778,
              "#fb9f3a"
             ],
             [
              0.8888888888888888,
              "#fdca26"
             ],
             [
              1,
              "#f0f921"
             ]
            ],
            "type": "surface"
           }
          ],
          "table": [
           {
            "cells": {
             "fill": {
              "color": "#EBF0F8"
             },
             "line": {
              "color": "white"
             }
            },
            "header": {
             "fill": {
              "color": "#C8D4E3"
             },
             "line": {
              "color": "white"
             }
            },
            "type": "table"
           }
          ]
         },
         "layout": {
          "annotationdefaults": {
           "arrowcolor": "#2a3f5f",
           "arrowhead": 0,
           "arrowwidth": 1
          },
          "autotypenumbers": "strict",
          "coloraxis": {
           "colorbar": {
            "outlinewidth": 0,
            "ticks": ""
           }
          },
          "colorscale": {
           "diverging": [
            [
             0,
             "#8e0152"
            ],
            [
             0.1,
             "#c51b7d"
            ],
            [
             0.2,
             "#de77ae"
            ],
            [
             0.3,
             "#f1b6da"
            ],
            [
             0.4,
             "#fde0ef"
            ],
            [
             0.5,
             "#f7f7f7"
            ],
            [
             0.6,
             "#e6f5d0"
            ],
            [
             0.7,
             "#b8e186"
            ],
            [
             0.8,
             "#7fbc41"
            ],
            [
             0.9,
             "#4d9221"
            ],
            [
             1,
             "#276419"
            ]
           ],
           "sequential": [
            [
             0,
             "#0d0887"
            ],
            [
             0.1111111111111111,
             "#46039f"
            ],
            [
             0.2222222222222222,
             "#7201a8"
            ],
            [
             0.3333333333333333,
             "#9c179e"
            ],
            [
             0.4444444444444444,
             "#bd3786"
            ],
            [
             0.5555555555555556,
             "#d8576b"
            ],
            [
             0.6666666666666666,
             "#ed7953"
            ],
            [
             0.7777777777777778,
             "#fb9f3a"
            ],
            [
             0.8888888888888888,
             "#fdca26"
            ],
            [
             1,
             "#f0f921"
            ]
           ],
           "sequentialminus": [
            [
             0,
             "#0d0887"
            ],
            [
             0.1111111111111111,
             "#46039f"
            ],
            [
             0.2222222222222222,
             "#7201a8"
            ],
            [
             0.3333333333333333,
             "#9c179e"
            ],
            [
             0.4444444444444444,
             "#bd3786"
            ],
            [
             0.5555555555555556,
             "#d8576b"
            ],
            [
             0.6666666666666666,
             "#ed7953"
            ],
            [
             0.7777777777777778,
             "#fb9f3a"
            ],
            [
             0.8888888888888888,
             "#fdca26"
            ],
            [
             1,
             "#f0f921"
            ]
           ]
          },
          "colorway": [
           "#636efa",
           "#EF553B",
           "#00cc96",
           "#ab63fa",
           "#FFA15A",
           "#19d3f3",
           "#FF6692",
           "#B6E880",
           "#FF97FF",
           "#FECB52"
          ],
          "font": {
           "color": "#2a3f5f"
          },
          "geo": {
           "bgcolor": "white",
           "lakecolor": "white",
           "landcolor": "#E5ECF6",
           "showlakes": true,
           "showland": true,
           "subunitcolor": "white"
          },
          "hoverlabel": {
           "align": "left"
          },
          "hovermode": "closest",
          "mapbox": {
           "style": "light"
          },
          "paper_bgcolor": "white",
          "plot_bgcolor": "#E5ECF6",
          "polar": {
           "angularaxis": {
            "gridcolor": "white",
            "linecolor": "white",
            "ticks": ""
           },
           "bgcolor": "#E5ECF6",
           "radialaxis": {
            "gridcolor": "white",
            "linecolor": "white",
            "ticks": ""
           }
          },
          "scene": {
           "xaxis": {
            "backgroundcolor": "#E5ECF6",
            "gridcolor": "white",
            "gridwidth": 2,
            "linecolor": "white",
            "showbackground": true,
            "ticks": "",
            "zerolinecolor": "white"
           },
           "yaxis": {
            "backgroundcolor": "#E5ECF6",
            "gridcolor": "white",
            "gridwidth": 2,
            "linecolor": "white",
            "showbackground": true,
            "ticks": "",
            "zerolinecolor": "white"
           },
           "zaxis": {
            "backgroundcolor": "#E5ECF6",
            "gridcolor": "white",
            "gridwidth": 2,
            "linecolor": "white",
            "showbackground": true,
            "ticks": "",
            "zerolinecolor": "white"
           }
          },
          "shapedefaults": {
           "line": {
            "color": "#2a3f5f"
           }
          },
          "ternary": {
           "aaxis": {
            "gridcolor": "white",
            "linecolor": "white",
            "ticks": ""
           },
           "baxis": {
            "gridcolor": "white",
            "linecolor": "white",
            "ticks": ""
           },
           "bgcolor": "#E5ECF6",
           "caxis": {
            "gridcolor": "white",
            "linecolor": "white",
            "ticks": ""
           }
          },
          "title": {
           "x": 0.05
          },
          "xaxis": {
           "automargin": true,
           "gridcolor": "white",
           "linecolor": "white",
           "ticks": "",
           "title": {
            "standoff": 15
           },
           "zerolinecolor": "white",
           "zerolinewidth": 2
          },
          "yaxis": {
           "automargin": true,
           "gridcolor": "white",
           "linecolor": "white",
           "ticks": "",
           "title": {
            "standoff": 15
           },
           "zerolinecolor": "white",
           "zerolinewidth": 2
          }
         }
        }
       }
      }
     },
     "metadata": {},
     "output_type": "display_data"
    }
   ],
   "source": [
    "fig = px.scatter_3d(x = d3_lattice[:,0],\n",
    "                    y = d3_lattice[:,1],\n",
    "                    z = d3_lattice[:,2])\n",
    "#              range_x = (-0.1,1.1),\n",
    "#              range_y = (-0.1,1.1),\n",
    "#              range_z = (-0.1,1.1))\n",
    "\n",
    "fig.update_traces(marker_size = 5)\n",
    "fig.show()\n"
   ]
  },
  {
   "cell_type": "code",
   "execution_count": 45,
   "metadata": {},
   "outputs": [
    {
     "data": {
      "application/vnd.plotly.v1+json": {
       "config": {
        "plotlyServerURL": "https://plot.ly"
       },
       "data": [
        {
         "marker": {
          "color": "blue",
          "size": 5
         },
         "mode": "markers",
         "type": "scatter3d",
         "x": [
          0,
          0,
          0,
          0,
          0,
          0,
          0,
          0,
          0,
          0,
          0,
          0,
          0,
          0,
          0,
          0,
          0,
          0,
          0,
          0,
          0,
          0,
          0,
          0,
          0,
          0,
          0,
          0,
          0,
          0,
          0,
          0,
          0,
          0,
          0,
          0,
          0,
          0,
          0,
          0,
          0,
          0.5,
          0.5,
          0.5,
          0.5,
          0.5,
          0.5,
          0.5,
          0.5,
          0.5,
          0.5,
          0.5,
          0.5,
          0.5,
          0.5,
          0.5,
          0.5,
          0.5,
          0.5,
          0.5,
          0.5,
          0.5,
          0.5,
          0.5,
          0.5,
          0.5,
          0.5,
          0.5,
          0.5,
          0.5,
          0.5,
          0.5,
          0.5,
          0.5,
          0.5,
          0.5,
          0.5,
          0.5,
          0.5,
          0.5,
          0.5,
          1,
          1,
          1,
          1,
          1,
          1,
          1,
          1,
          1,
          1,
          1,
          1,
          1,
          1,
          1,
          1,
          1,
          1,
          1,
          1,
          1,
          1,
          1,
          1,
          1,
          1,
          1,
          1,
          1,
          1,
          1,
          1,
          1,
          1,
          1,
          1,
          1,
          1,
          1,
          1,
          1,
          1.5,
          1.5,
          1.5,
          1.5,
          1.5,
          1.5,
          1.5,
          1.5,
          1.5,
          1.5,
          1.5,
          1.5,
          1.5,
          1.5,
          1.5,
          1.5,
          1.5,
          1.5,
          1.5,
          1.5,
          1.5,
          1.5,
          1.5,
          1.5,
          1.5,
          1.5,
          1.5,
          1.5,
          1.5,
          1.5,
          1.5,
          1.5,
          1.5,
          1.5,
          1.5,
          1.5,
          1.5,
          1.5,
          1.5,
          1.5,
          2,
          2,
          2,
          2,
          2,
          2,
          2,
          2,
          2,
          2,
          2,
          2,
          2,
          2,
          2,
          2,
          2,
          2,
          2,
          2,
          2,
          2,
          2,
          2,
          2,
          2,
          2,
          2,
          2,
          2,
          2,
          2,
          2,
          2,
          2,
          2,
          2,
          2,
          2,
          2,
          2,
          2.5,
          2.5,
          2.5,
          2.5,
          2.5,
          2.5,
          2.5,
          2.5,
          2.5,
          2.5,
          2.5,
          2.5,
          2.5,
          2.5,
          2.5,
          2.5,
          2.5,
          2.5,
          2.5,
          2.5,
          2.5,
          2.5,
          2.5,
          2.5,
          2.5,
          2.5,
          2.5,
          2.5,
          2.5,
          2.5,
          2.5,
          2.5,
          2.5,
          2.5,
          2.5,
          2.5,
          2.5,
          2.5,
          2.5,
          2.5,
          3,
          3,
          3,
          3,
          3,
          3,
          3,
          3,
          3,
          3,
          3,
          3,
          3,
          3,
          3,
          3,
          3,
          3,
          3,
          3,
          3,
          3,
          3,
          3,
          3,
          3,
          3,
          3,
          3,
          3,
          3,
          3,
          3,
          3,
          3,
          3,
          3,
          3,
          3,
          3,
          3,
          3.5,
          3.5,
          3.5,
          3.5,
          3.5,
          3.5,
          3.5,
          3.5,
          3.5,
          3.5,
          3.5,
          3.5,
          3.5,
          3.5,
          3.5,
          3.5,
          3.5,
          3.5,
          3.5,
          3.5,
          3.5,
          3.5,
          3.5,
          3.5,
          3.5,
          3.5,
          3.5,
          3.5,
          3.5,
          3.5,
          3.5,
          3.5,
          3.5,
          3.5,
          3.5,
          3.5,
          3.5,
          3.5,
          3.5,
          3.5,
          4,
          4,
          4,
          4,
          4,
          4,
          4,
          4,
          4,
          4,
          4,
          4,
          4,
          4,
          4,
          4,
          4,
          4,
          4,
          4,
          4,
          4,
          4,
          4,
          4,
          4,
          4,
          4,
          4,
          4,
          4,
          4,
          4,
          4,
          4,
          4,
          4,
          4,
          4,
          4,
          4
         ],
         "y": [
          0,
          0,
          0,
          0,
          0,
          0.5,
          0.5,
          0.5,
          0.5,
          1,
          1,
          1,
          1,
          1,
          1.5,
          1.5,
          1.5,
          1.5,
          2,
          2,
          2,
          2,
          2,
          2.5,
          2.5,
          2.5,
          2.5,
          3,
          3,
          3,
          3,
          3,
          3.5,
          3.5,
          3.5,
          3.5,
          4,
          4,
          4,
          4,
          4,
          0,
          0,
          0,
          0,
          0.5,
          0.5,
          0.5,
          0.5,
          0.5,
          1,
          1,
          1,
          1,
          1.5,
          1.5,
          1.5,
          1.5,
          1.5,
          2,
          2,
          2,
          2,
          2.5,
          2.5,
          2.5,
          2.5,
          2.5,
          3,
          3,
          3,
          3,
          3.5,
          3.5,
          3.5,
          3.5,
          3.5,
          4,
          4,
          4,
          4,
          0,
          0,
          0,
          0,
          0,
          0.5,
          0.5,
          0.5,
          0.5,
          1,
          1,
          1,
          1,
          1,
          1.5,
          1.5,
          1.5,
          1.5,
          2,
          2,
          2,
          2,
          2,
          2.5,
          2.5,
          2.5,
          2.5,
          3,
          3,
          3,
          3,
          3,
          3.5,
          3.5,
          3.5,
          3.5,
          4,
          4,
          4,
          4,
          4,
          0,
          0,
          0,
          0,
          0.5,
          0.5,
          0.5,
          0.5,
          0.5,
          1,
          1,
          1,
          1,
          1.5,
          1.5,
          1.5,
          1.5,
          1.5,
          2,
          2,
          2,
          2,
          2.5,
          2.5,
          2.5,
          2.5,
          2.5,
          3,
          3,
          3,
          3,
          3.5,
          3.5,
          3.5,
          3.5,
          3.5,
          4,
          4,
          4,
          4,
          0,
          0,
          0,
          0,
          0,
          0.5,
          0.5,
          0.5,
          0.5,
          1,
          1,
          1,
          1,
          1,
          1.5,
          1.5,
          1.5,
          1.5,
          2,
          2,
          2,
          2,
          2,
          2.5,
          2.5,
          2.5,
          2.5,
          3,
          3,
          3,
          3,
          3,
          3.5,
          3.5,
          3.5,
          3.5,
          4,
          4,
          4,
          4,
          4,
          0,
          0,
          0,
          0,
          0.5,
          0.5,
          0.5,
          0.5,
          0.5,
          1,
          1,
          1,
          1,
          1.5,
          1.5,
          1.5,
          1.5,
          1.5,
          2,
          2,
          2,
          2,
          2.5,
          2.5,
          2.5,
          2.5,
          2.5,
          3,
          3,
          3,
          3,
          3.5,
          3.5,
          3.5,
          3.5,
          3.5,
          4,
          4,
          4,
          4,
          0,
          0,
          0,
          0,
          0,
          0.5,
          0.5,
          0.5,
          0.5,
          1,
          1,
          1,
          1,
          1,
          1.5,
          1.5,
          1.5,
          1.5,
          2,
          2,
          2,
          2,
          2,
          2.5,
          2.5,
          2.5,
          2.5,
          3,
          3,
          3,
          3,
          3,
          3.5,
          3.5,
          3.5,
          3.5,
          4,
          4,
          4,
          4,
          4,
          0,
          0,
          0,
          0,
          0.5,
          0.5,
          0.5,
          0.5,
          0.5,
          1,
          1,
          1,
          1,
          1.5,
          1.5,
          1.5,
          1.5,
          1.5,
          2,
          2,
          2,
          2,
          2.5,
          2.5,
          2.5,
          2.5,
          2.5,
          3,
          3,
          3,
          3,
          3.5,
          3.5,
          3.5,
          3.5,
          3.5,
          4,
          4,
          4,
          4,
          0,
          0,
          0,
          0,
          0,
          0.5,
          0.5,
          0.5,
          0.5,
          1,
          1,
          1,
          1,
          1,
          1.5,
          1.5,
          1.5,
          1.5,
          2,
          2,
          2,
          2,
          2,
          2.5,
          2.5,
          2.5,
          2.5,
          3,
          3,
          3,
          3,
          3,
          3.5,
          3.5,
          3.5,
          3.5,
          4,
          4,
          4,
          4,
          4
         ],
         "z": [
          0,
          1,
          2,
          3,
          4,
          0.5,
          1.5,
          2.5,
          3.5,
          0,
          1,
          2,
          3,
          4,
          0.5,
          1.5,
          2.5,
          3.5,
          0,
          1,
          2,
          3,
          4,
          0.5,
          1.5,
          2.5,
          3.5,
          0,
          1,
          2,
          3,
          4,
          0.5,
          1.5,
          2.5,
          3.5,
          0,
          1,
          2,
          3,
          4,
          0.5,
          1.5,
          2.5,
          3.5,
          0,
          1,
          2,
          3,
          4,
          0.5,
          1.5,
          2.5,
          3.5,
          0,
          1,
          2,
          3,
          4,
          0.5,
          1.5,
          2.5,
          3.5,
          0,
          1,
          2,
          3,
          4,
          0.5,
          1.5,
          2.5,
          3.5,
          0,
          1,
          2,
          3,
          4,
          0.5,
          1.5,
          2.5,
          3.5,
          0,
          1,
          2,
          3,
          4,
          0.5,
          1.5,
          2.5,
          3.5,
          0,
          1,
          2,
          3,
          4,
          0.5,
          1.5,
          2.5,
          3.5,
          0,
          1,
          2,
          3,
          4,
          0.5,
          1.5,
          2.5,
          3.5,
          0,
          1,
          2,
          3,
          4,
          0.5,
          1.5,
          2.5,
          3.5,
          0,
          1,
          2,
          3,
          4,
          0.5,
          1.5,
          2.5,
          3.5,
          0,
          1,
          2,
          3,
          4,
          0.5,
          1.5,
          2.5,
          3.5,
          0,
          1,
          2,
          3,
          4,
          0.5,
          1.5,
          2.5,
          3.5,
          0,
          1,
          2,
          3,
          4,
          0.5,
          1.5,
          2.5,
          3.5,
          0,
          1,
          2,
          3,
          4,
          0.5,
          1.5,
          2.5,
          3.5,
          0,
          1,
          2,
          3,
          4,
          0.5,
          1.5,
          2.5,
          3.5,
          0,
          1,
          2,
          3,
          4,
          0.5,
          1.5,
          2.5,
          3.5,
          0,
          1,
          2,
          3,
          4,
          0.5,
          1.5,
          2.5,
          3.5,
          0,
          1,
          2,
          3,
          4,
          0.5,
          1.5,
          2.5,
          3.5,
          0,
          1,
          2,
          3,
          4,
          0.5,
          1.5,
          2.5,
          3.5,
          0,
          1,
          2,
          3,
          4,
          0.5,
          1.5,
          2.5,
          3.5,
          0,
          1,
          2,
          3,
          4,
          0.5,
          1.5,
          2.5,
          3.5,
          0,
          1,
          2,
          3,
          4,
          0.5,
          1.5,
          2.5,
          3.5,
          0,
          1,
          2,
          3,
          4,
          0.5,
          1.5,
          2.5,
          3.5,
          0,
          1,
          2,
          3,
          4,
          0.5,
          1.5,
          2.5,
          3.5,
          0,
          1,
          2,
          3,
          4,
          0.5,
          1.5,
          2.5,
          3.5,
          0,
          1,
          2,
          3,
          4,
          0.5,
          1.5,
          2.5,
          3.5,
          0,
          1,
          2,
          3,
          4,
          0.5,
          1.5,
          2.5,
          3.5,
          0,
          1,
          2,
          3,
          4,
          0.5,
          1.5,
          2.5,
          3.5,
          0,
          1,
          2,
          3,
          4,
          0.5,
          1.5,
          2.5,
          3.5,
          0,
          1,
          2,
          3,
          4,
          0.5,
          1.5,
          2.5,
          3.5,
          0,
          1,
          2,
          3,
          4,
          0.5,
          1.5,
          2.5,
          3.5,
          0,
          1,
          2,
          3,
          4,
          0.5,
          1.5,
          2.5,
          3.5,
          0,
          1,
          2,
          3,
          4,
          0.5,
          1.5,
          2.5,
          3.5,
          0,
          1,
          2,
          3,
          4,
          0.5,
          1.5,
          2.5,
          3.5,
          0,
          1,
          2,
          3,
          4,
          0.5,
          1.5,
          2.5,
          3.5,
          0,
          1,
          2,
          3,
          4,
          0.5,
          1.5,
          2.5,
          3.5,
          0,
          1,
          2,
          3,
          4
         ]
        },
        {
         "marker": {
          "color": "red",
          "size": 5
         },
         "mode": "markers",
         "type": "scatter3d",
         "x": [
          0.5,
          0.5,
          0.5,
          0.5,
          0.5,
          0.5,
          0.5,
          0.5,
          0.5,
          0.5,
          0.5,
          0.5,
          0.5,
          0.5,
          0.5,
          0.5,
          0.5,
          0.5,
          0.5,
          0.5,
          0.5,
          0.5,
          0.5,
          0.5,
          0.5,
          0.5,
          0.5,
          0.5,
          0.5,
          0.5,
          0.5,
          0.5,
          0.5,
          0.5,
          0.5,
          0.5,
          0.5,
          0.5,
          0.5,
          0.5,
          0.5,
          1,
          1,
          1,
          1,
          1,
          1,
          1,
          1,
          1,
          1,
          1,
          1,
          1,
          1,
          1,
          1,
          1,
          1,
          1,
          1,
          1,
          1,
          1,
          1,
          1,
          1,
          1,
          1,
          1,
          1,
          1,
          1,
          1,
          1,
          1,
          1,
          1,
          1,
          1,
          1,
          1.5,
          1.5,
          1.5,
          1.5,
          1.5,
          1.5,
          1.5,
          1.5,
          1.5,
          1.5,
          1.5,
          1.5,
          1.5,
          1.5,
          1.5,
          1.5,
          1.5,
          1.5,
          1.5,
          1.5,
          1.5,
          1.5,
          1.5,
          1.5,
          1.5,
          1.5,
          1.5,
          1.5,
          1.5,
          1.5,
          1.5,
          1.5,
          1.5,
          1.5,
          1.5,
          1.5,
          1.5,
          1.5,
          1.5,
          1.5,
          1.5,
          2,
          2,
          2,
          2,
          2,
          2,
          2,
          2,
          2,
          2,
          2,
          2,
          2,
          2,
          2,
          2,
          2,
          2,
          2,
          2,
          2,
          2,
          2,
          2,
          2,
          2,
          2,
          2,
          2,
          2,
          2,
          2,
          2,
          2,
          2,
          2,
          2,
          2,
          2,
          2,
          2.5,
          2.5,
          2.5,
          2.5,
          2.5,
          2.5,
          2.5,
          2.5,
          2.5,
          2.5,
          2.5,
          2.5,
          2.5,
          2.5,
          2.5,
          2.5,
          2.5,
          2.5,
          2.5,
          2.5,
          2.5,
          2.5,
          2.5,
          2.5,
          2.5,
          2.5,
          2.5,
          2.5,
          2.5,
          2.5,
          2.5,
          2.5,
          2.5,
          2.5,
          2.5,
          2.5,
          2.5,
          2.5,
          2.5,
          2.5,
          2.5,
          3,
          3,
          3,
          3,
          3,
          3,
          3,
          3,
          3,
          3,
          3,
          3,
          3,
          3,
          3,
          3,
          3,
          3,
          3,
          3,
          3,
          3,
          3,
          3,
          3,
          3,
          3,
          3,
          3,
          3,
          3,
          3,
          3,
          3,
          3,
          3,
          3,
          3,
          3,
          3,
          3.5,
          3.5,
          3.5,
          3.5,
          3.5,
          3.5,
          3.5,
          3.5,
          3.5,
          3.5,
          3.5,
          3.5,
          3.5,
          3.5,
          3.5,
          3.5,
          3.5,
          3.5,
          3.5,
          3.5,
          3.5,
          3.5,
          3.5,
          3.5,
          3.5,
          3.5,
          3.5,
          3.5,
          3.5,
          3.5,
          3.5,
          3.5,
          3.5,
          3.5,
          3.5,
          3.5,
          3.5,
          3.5,
          3.5,
          3.5,
          3.5,
          4,
          4,
          4,
          4,
          4,
          4,
          4,
          4,
          4,
          4,
          4,
          4,
          4,
          4,
          4,
          4,
          4,
          4,
          4,
          4,
          4,
          4,
          4,
          4,
          4,
          4,
          4,
          4,
          4,
          4,
          4,
          4,
          4,
          4,
          4,
          4,
          4,
          4,
          4,
          4,
          4.5,
          4.5,
          4.5,
          4.5,
          4.5,
          4.5,
          4.5,
          4.5,
          4.5,
          4.5,
          4.5,
          4.5,
          4.5,
          4.5,
          4.5,
          4.5,
          4.5,
          4.5,
          4.5,
          4.5,
          4.5,
          4.5,
          4.5,
          4.5,
          4.5,
          4.5,
          4.5,
          4.5,
          4.5,
          4.5,
          4.5,
          4.5,
          4.5,
          4.5,
          4.5,
          4.5,
          4.5,
          4.5,
          4.5,
          4.5,
          4.5
         ],
         "y": [
          0.5,
          0.5,
          0.5,
          0.5,
          0.5,
          1,
          1,
          1,
          1,
          1.5,
          1.5,
          1.5,
          1.5,
          1.5,
          2,
          2,
          2,
          2,
          2.5,
          2.5,
          2.5,
          2.5,
          2.5,
          3,
          3,
          3,
          3,
          3.5,
          3.5,
          3.5,
          3.5,
          3.5,
          4,
          4,
          4,
          4,
          4.5,
          4.5,
          4.5,
          4.5,
          4.5,
          0.5,
          0.5,
          0.5,
          0.5,
          1,
          1,
          1,
          1,
          1,
          1.5,
          1.5,
          1.5,
          1.5,
          2,
          2,
          2,
          2,
          2,
          2.5,
          2.5,
          2.5,
          2.5,
          3,
          3,
          3,
          3,
          3,
          3.5,
          3.5,
          3.5,
          3.5,
          4,
          4,
          4,
          4,
          4,
          4.5,
          4.5,
          4.5,
          4.5,
          0.5,
          0.5,
          0.5,
          0.5,
          0.5,
          1,
          1,
          1,
          1,
          1.5,
          1.5,
          1.5,
          1.5,
          1.5,
          2,
          2,
          2,
          2,
          2.5,
          2.5,
          2.5,
          2.5,
          2.5,
          3,
          3,
          3,
          3,
          3.5,
          3.5,
          3.5,
          3.5,
          3.5,
          4,
          4,
          4,
          4,
          4.5,
          4.5,
          4.5,
          4.5,
          4.5,
          0.5,
          0.5,
          0.5,
          0.5,
          1,
          1,
          1,
          1,
          1,
          1.5,
          1.5,
          1.5,
          1.5,
          2,
          2,
          2,
          2,
          2,
          2.5,
          2.5,
          2.5,
          2.5,
          3,
          3,
          3,
          3,
          3,
          3.5,
          3.5,
          3.5,
          3.5,
          4,
          4,
          4,
          4,
          4,
          4.5,
          4.5,
          4.5,
          4.5,
          0.5,
          0.5,
          0.5,
          0.5,
          0.5,
          1,
          1,
          1,
          1,
          1.5,
          1.5,
          1.5,
          1.5,
          1.5,
          2,
          2,
          2,
          2,
          2.5,
          2.5,
          2.5,
          2.5,
          2.5,
          3,
          3,
          3,
          3,
          3.5,
          3.5,
          3.5,
          3.5,
          3.5,
          4,
          4,
          4,
          4,
          4.5,
          4.5,
          4.5,
          4.5,
          4.5,
          0.5,
          0.5,
          0.5,
          0.5,
          1,
          1,
          1,
          1,
          1,
          1.5,
          1.5,
          1.5,
          1.5,
          2,
          2,
          2,
          2,
          2,
          2.5,
          2.5,
          2.5,
          2.5,
          3,
          3,
          3,
          3,
          3,
          3.5,
          3.5,
          3.5,
          3.5,
          4,
          4,
          4,
          4,
          4,
          4.5,
          4.5,
          4.5,
          4.5,
          0.5,
          0.5,
          0.5,
          0.5,
          0.5,
          1,
          1,
          1,
          1,
          1.5,
          1.5,
          1.5,
          1.5,
          1.5,
          2,
          2,
          2,
          2,
          2.5,
          2.5,
          2.5,
          2.5,
          2.5,
          3,
          3,
          3,
          3,
          3.5,
          3.5,
          3.5,
          3.5,
          3.5,
          4,
          4,
          4,
          4,
          4.5,
          4.5,
          4.5,
          4.5,
          4.5,
          0.5,
          0.5,
          0.5,
          0.5,
          1,
          1,
          1,
          1,
          1,
          1.5,
          1.5,
          1.5,
          1.5,
          2,
          2,
          2,
          2,
          2,
          2.5,
          2.5,
          2.5,
          2.5,
          3,
          3,
          3,
          3,
          3,
          3.5,
          3.5,
          3.5,
          3.5,
          4,
          4,
          4,
          4,
          4,
          4.5,
          4.5,
          4.5,
          4.5,
          0.5,
          0.5,
          0.5,
          0.5,
          0.5,
          1,
          1,
          1,
          1,
          1.5,
          1.5,
          1.5,
          1.5,
          1.5,
          2,
          2,
          2,
          2,
          2.5,
          2.5,
          2.5,
          2.5,
          2.5,
          3,
          3,
          3,
          3,
          3.5,
          3.5,
          3.5,
          3.5,
          3.5,
          4,
          4,
          4,
          4,
          4.5,
          4.5,
          4.5,
          4.5,
          4.5
         ],
         "z": [
          0.5,
          1.5,
          2.5,
          3.5,
          4.5,
          1,
          2,
          3,
          4,
          0.5,
          1.5,
          2.5,
          3.5,
          4.5,
          1,
          2,
          3,
          4,
          0.5,
          1.5,
          2.5,
          3.5,
          4.5,
          1,
          2,
          3,
          4,
          0.5,
          1.5,
          2.5,
          3.5,
          4.5,
          1,
          2,
          3,
          4,
          0.5,
          1.5,
          2.5,
          3.5,
          4.5,
          1,
          2,
          3,
          4,
          0.5,
          1.5,
          2.5,
          3.5,
          4.5,
          1,
          2,
          3,
          4,
          0.5,
          1.5,
          2.5,
          3.5,
          4.5,
          1,
          2,
          3,
          4,
          0.5,
          1.5,
          2.5,
          3.5,
          4.5,
          1,
          2,
          3,
          4,
          0.5,
          1.5,
          2.5,
          3.5,
          4.5,
          1,
          2,
          3,
          4,
          0.5,
          1.5,
          2.5,
          3.5,
          4.5,
          1,
          2,
          3,
          4,
          0.5,
          1.5,
          2.5,
          3.5,
          4.5,
          1,
          2,
          3,
          4,
          0.5,
          1.5,
          2.5,
          3.5,
          4.5,
          1,
          2,
          3,
          4,
          0.5,
          1.5,
          2.5,
          3.5,
          4.5,
          1,
          2,
          3,
          4,
          0.5,
          1.5,
          2.5,
          3.5,
          4.5,
          1,
          2,
          3,
          4,
          0.5,
          1.5,
          2.5,
          3.5,
          4.5,
          1,
          2,
          3,
          4,
          0.5,
          1.5,
          2.5,
          3.5,
          4.5,
          1,
          2,
          3,
          4,
          0.5,
          1.5,
          2.5,
          3.5,
          4.5,
          1,
          2,
          3,
          4,
          0.5,
          1.5,
          2.5,
          3.5,
          4.5,
          1,
          2,
          3,
          4,
          0.5,
          1.5,
          2.5,
          3.5,
          4.5,
          1,
          2,
          3,
          4,
          0.5,
          1.5,
          2.5,
          3.5,
          4.5,
          1,
          2,
          3,
          4,
          0.5,
          1.5,
          2.5,
          3.5,
          4.5,
          1,
          2,
          3,
          4,
          0.5,
          1.5,
          2.5,
          3.5,
          4.5,
          1,
          2,
          3,
          4,
          0.5,
          1.5,
          2.5,
          3.5,
          4.5,
          1,
          2,
          3,
          4,
          0.5,
          1.5,
          2.5,
          3.5,
          4.5,
          1,
          2,
          3,
          4,
          0.5,
          1.5,
          2.5,
          3.5,
          4.5,
          1,
          2,
          3,
          4,
          0.5,
          1.5,
          2.5,
          3.5,
          4.5,
          1,
          2,
          3,
          4,
          0.5,
          1.5,
          2.5,
          3.5,
          4.5,
          1,
          2,
          3,
          4,
          0.5,
          1.5,
          2.5,
          3.5,
          4.5,
          1,
          2,
          3,
          4,
          0.5,
          1.5,
          2.5,
          3.5,
          4.5,
          1,
          2,
          3,
          4,
          0.5,
          1.5,
          2.5,
          3.5,
          4.5,
          1,
          2,
          3,
          4,
          0.5,
          1.5,
          2.5,
          3.5,
          4.5,
          1,
          2,
          3,
          4,
          0.5,
          1.5,
          2.5,
          3.5,
          4.5,
          1,
          2,
          3,
          4,
          0.5,
          1.5,
          2.5,
          3.5,
          4.5,
          1,
          2,
          3,
          4,
          0.5,
          1.5,
          2.5,
          3.5,
          4.5,
          1,
          2,
          3,
          4,
          0.5,
          1.5,
          2.5,
          3.5,
          4.5,
          1,
          2,
          3,
          4,
          0.5,
          1.5,
          2.5,
          3.5,
          4.5,
          1,
          2,
          3,
          4,
          0.5,
          1.5,
          2.5,
          3.5,
          4.5,
          1,
          2,
          3,
          4,
          0.5,
          1.5,
          2.5,
          3.5,
          4.5,
          1,
          2,
          3,
          4,
          0.5,
          1.5,
          2.5,
          3.5,
          4.5,
          1,
          2,
          3,
          4,
          0.5,
          1.5,
          2.5,
          3.5,
          4.5,
          1,
          2,
          3,
          4,
          0.5,
          1.5,
          2.5,
          3.5,
          4.5
         ]
        }
       ],
       "layout": {
        "scene": {
         "xaxis": {
          "range": [
           2.4,
           4.1
          ],
          "title": {
           "text": ""
          }
         },
         "yaxis": {
          "range": [
           2.4,
           4.1
          ],
          "title": {
           "text": ""
          }
         },
         "zaxis": {
          "range": [
           2.4,
           4.1
          ],
          "title": {
           "text": ""
          }
         }
        },
        "template": {
         "data": {
          "bar": [
           {
            "error_x": {
             "color": "#2a3f5f"
            },
            "error_y": {
             "color": "#2a3f5f"
            },
            "marker": {
             "line": {
              "color": "#E5ECF6",
              "width": 0.5
             },
             "pattern": {
              "fillmode": "overlay",
              "size": 10,
              "solidity": 0.2
             }
            },
            "type": "bar"
           }
          ],
          "barpolar": [
           {
            "marker": {
             "line": {
              "color": "#E5ECF6",
              "width": 0.5
             },
             "pattern": {
              "fillmode": "overlay",
              "size": 10,
              "solidity": 0.2
             }
            },
            "type": "barpolar"
           }
          ],
          "carpet": [
           {
            "aaxis": {
             "endlinecolor": "#2a3f5f",
             "gridcolor": "white",
             "linecolor": "white",
             "minorgridcolor": "white",
             "startlinecolor": "#2a3f5f"
            },
            "baxis": {
             "endlinecolor": "#2a3f5f",
             "gridcolor": "white",
             "linecolor": "white",
             "minorgridcolor": "white",
             "startlinecolor": "#2a3f5f"
            },
            "type": "carpet"
           }
          ],
          "choropleth": [
           {
            "colorbar": {
             "outlinewidth": 0,
             "ticks": ""
            },
            "type": "choropleth"
           }
          ],
          "contour": [
           {
            "colorbar": {
             "outlinewidth": 0,
             "ticks": ""
            },
            "colorscale": [
             [
              0,
              "#0d0887"
             ],
             [
              0.1111111111111111,
              "#46039f"
             ],
             [
              0.2222222222222222,
              "#7201a8"
             ],
             [
              0.3333333333333333,
              "#9c179e"
             ],
             [
              0.4444444444444444,
              "#bd3786"
             ],
             [
              0.5555555555555556,
              "#d8576b"
             ],
             [
              0.6666666666666666,
              "#ed7953"
             ],
             [
              0.7777777777777778,
              "#fb9f3a"
             ],
             [
              0.8888888888888888,
              "#fdca26"
             ],
             [
              1,
              "#f0f921"
             ]
            ],
            "type": "contour"
           }
          ],
          "contourcarpet": [
           {
            "colorbar": {
             "outlinewidth": 0,
             "ticks": ""
            },
            "type": "contourcarpet"
           }
          ],
          "heatmap": [
           {
            "colorbar": {
             "outlinewidth": 0,
             "ticks": ""
            },
            "colorscale": [
             [
              0,
              "#0d0887"
             ],
             [
              0.1111111111111111,
              "#46039f"
             ],
             [
              0.2222222222222222,
              "#7201a8"
             ],
             [
              0.3333333333333333,
              "#9c179e"
             ],
             [
              0.4444444444444444,
              "#bd3786"
             ],
             [
              0.5555555555555556,
              "#d8576b"
             ],
             [
              0.6666666666666666,
              "#ed7953"
             ],
             [
              0.7777777777777778,
              "#fb9f3a"
             ],
             [
              0.8888888888888888,
              "#fdca26"
             ],
             [
              1,
              "#f0f921"
             ]
            ],
            "type": "heatmap"
           }
          ],
          "heatmapgl": [
           {
            "colorbar": {
             "outlinewidth": 0,
             "ticks": ""
            },
            "colorscale": [
             [
              0,
              "#0d0887"
             ],
             [
              0.1111111111111111,
              "#46039f"
             ],
             [
              0.2222222222222222,
              "#7201a8"
             ],
             [
              0.3333333333333333,
              "#9c179e"
             ],
             [
              0.4444444444444444,
              "#bd3786"
             ],
             [
              0.5555555555555556,
              "#d8576b"
             ],
             [
              0.6666666666666666,
              "#ed7953"
             ],
             [
              0.7777777777777778,
              "#fb9f3a"
             ],
             [
              0.8888888888888888,
              "#fdca26"
             ],
             [
              1,
              "#f0f921"
             ]
            ],
            "type": "heatmapgl"
           }
          ],
          "histogram": [
           {
            "marker": {
             "pattern": {
              "fillmode": "overlay",
              "size": 10,
              "solidity": 0.2
             }
            },
            "type": "histogram"
           }
          ],
          "histogram2d": [
           {
            "colorbar": {
             "outlinewidth": 0,
             "ticks": ""
            },
            "colorscale": [
             [
              0,
              "#0d0887"
             ],
             [
              0.1111111111111111,
              "#46039f"
             ],
             [
              0.2222222222222222,
              "#7201a8"
             ],
             [
              0.3333333333333333,
              "#9c179e"
             ],
             [
              0.4444444444444444,
              "#bd3786"
             ],
             [
              0.5555555555555556,
              "#d8576b"
             ],
             [
              0.6666666666666666,
              "#ed7953"
             ],
             [
              0.7777777777777778,
              "#fb9f3a"
             ],
             [
              0.8888888888888888,
              "#fdca26"
             ],
             [
              1,
              "#f0f921"
             ]
            ],
            "type": "histogram2d"
           }
          ],
          "histogram2dcontour": [
           {
            "colorbar": {
             "outlinewidth": 0,
             "ticks": ""
            },
            "colorscale": [
             [
              0,
              "#0d0887"
             ],
             [
              0.1111111111111111,
              "#46039f"
             ],
             [
              0.2222222222222222,
              "#7201a8"
             ],
             [
              0.3333333333333333,
              "#9c179e"
             ],
             [
              0.4444444444444444,
              "#bd3786"
             ],
             [
              0.5555555555555556,
              "#d8576b"
             ],
             [
              0.6666666666666666,
              "#ed7953"
             ],
             [
              0.7777777777777778,
              "#fb9f3a"
             ],
             [
              0.8888888888888888,
              "#fdca26"
             ],
             [
              1,
              "#f0f921"
             ]
            ],
            "type": "histogram2dcontour"
           }
          ],
          "mesh3d": [
           {
            "colorbar": {
             "outlinewidth": 0,
             "ticks": ""
            },
            "type": "mesh3d"
           }
          ],
          "parcoords": [
           {
            "line": {
             "colorbar": {
              "outlinewidth": 0,
              "ticks": ""
             }
            },
            "type": "parcoords"
           }
          ],
          "pie": [
           {
            "automargin": true,
            "type": "pie"
           }
          ],
          "scatter": [
           {
            "fillpattern": {
             "fillmode": "overlay",
             "size": 10,
             "solidity": 0.2
            },
            "type": "scatter"
           }
          ],
          "scatter3d": [
           {
            "line": {
             "colorbar": {
              "outlinewidth": 0,
              "ticks": ""
             }
            },
            "marker": {
             "colorbar": {
              "outlinewidth": 0,
              "ticks": ""
             }
            },
            "type": "scatter3d"
           }
          ],
          "scattercarpet": [
           {
            "marker": {
             "colorbar": {
              "outlinewidth": 0,
              "ticks": ""
             }
            },
            "type": "scattercarpet"
           }
          ],
          "scattergeo": [
           {
            "marker": {
             "colorbar": {
              "outlinewidth": 0,
              "ticks": ""
             }
            },
            "type": "scattergeo"
           }
          ],
          "scattergl": [
           {
            "marker": {
             "colorbar": {
              "outlinewidth": 0,
              "ticks": ""
             }
            },
            "type": "scattergl"
           }
          ],
          "scattermapbox": [
           {
            "marker": {
             "colorbar": {
              "outlinewidth": 0,
              "ticks": ""
             }
            },
            "type": "scattermapbox"
           }
          ],
          "scatterpolar": [
           {
            "marker": {
             "colorbar": {
              "outlinewidth": 0,
              "ticks": ""
             }
            },
            "type": "scatterpolar"
           }
          ],
          "scatterpolargl": [
           {
            "marker": {
             "colorbar": {
              "outlinewidth": 0,
              "ticks": ""
             }
            },
            "type": "scatterpolargl"
           }
          ],
          "scatterternary": [
           {
            "marker": {
             "colorbar": {
              "outlinewidth": 0,
              "ticks": ""
             }
            },
            "type": "scatterternary"
           }
          ],
          "surface": [
           {
            "colorbar": {
             "outlinewidth": 0,
             "ticks": ""
            },
            "colorscale": [
             [
              0,
              "#0d0887"
             ],
             [
              0.1111111111111111,
              "#46039f"
             ],
             [
              0.2222222222222222,
              "#7201a8"
             ],
             [
              0.3333333333333333,
              "#9c179e"
             ],
             [
              0.4444444444444444,
              "#bd3786"
             ],
             [
              0.5555555555555556,
              "#d8576b"
             ],
             [
              0.6666666666666666,
              "#ed7953"
             ],
             [
              0.7777777777777778,
              "#fb9f3a"
             ],
             [
              0.8888888888888888,
              "#fdca26"
             ],
             [
              1,
              "#f0f921"
             ]
            ],
            "type": "surface"
           }
          ],
          "table": [
           {
            "cells": {
             "fill": {
              "color": "#EBF0F8"
             },
             "line": {
              "color": "white"
             }
            },
            "header": {
             "fill": {
              "color": "#C8D4E3"
             },
             "line": {
              "color": "white"
             }
            },
            "type": "table"
           }
          ]
         },
         "layout": {
          "annotationdefaults": {
           "arrowcolor": "#2a3f5f",
           "arrowhead": 0,
           "arrowwidth": 1
          },
          "autotypenumbers": "strict",
          "coloraxis": {
           "colorbar": {
            "outlinewidth": 0,
            "ticks": ""
           }
          },
          "colorscale": {
           "diverging": [
            [
             0,
             "#8e0152"
            ],
            [
             0.1,
             "#c51b7d"
            ],
            [
             0.2,
             "#de77ae"
            ],
            [
             0.3,
             "#f1b6da"
            ],
            [
             0.4,
             "#fde0ef"
            ],
            [
             0.5,
             "#f7f7f7"
            ],
            [
             0.6,
             "#e6f5d0"
            ],
            [
             0.7,
             "#b8e186"
            ],
            [
             0.8,
             "#7fbc41"
            ],
            [
             0.9,
             "#4d9221"
            ],
            [
             1,
             "#276419"
            ]
           ],
           "sequential": [
            [
             0,
             "#0d0887"
            ],
            [
             0.1111111111111111,
             "#46039f"
            ],
            [
             0.2222222222222222,
             "#7201a8"
            ],
            [
             0.3333333333333333,
             "#9c179e"
            ],
            [
             0.4444444444444444,
             "#bd3786"
            ],
            [
             0.5555555555555556,
             "#d8576b"
            ],
            [
             0.6666666666666666,
             "#ed7953"
            ],
            [
             0.7777777777777778,
             "#fb9f3a"
            ],
            [
             0.8888888888888888,
             "#fdca26"
            ],
            [
             1,
             "#f0f921"
            ]
           ],
           "sequentialminus": [
            [
             0,
             "#0d0887"
            ],
            [
             0.1111111111111111,
             "#46039f"
            ],
            [
             0.2222222222222222,
             "#7201a8"
            ],
            [
             0.3333333333333333,
             "#9c179e"
            ],
            [
             0.4444444444444444,
             "#bd3786"
            ],
            [
             0.5555555555555556,
             "#d8576b"
            ],
            [
             0.6666666666666666,
             "#ed7953"
            ],
            [
             0.7777777777777778,
             "#fb9f3a"
            ],
            [
             0.8888888888888888,
             "#fdca26"
            ],
            [
             1,
             "#f0f921"
            ]
           ]
          },
          "colorway": [
           "#636efa",
           "#EF553B",
           "#00cc96",
           "#ab63fa",
           "#FFA15A",
           "#19d3f3",
           "#FF6692",
           "#B6E880",
           "#FF97FF",
           "#FECB52"
          ],
          "font": {
           "color": "#2a3f5f"
          },
          "geo": {
           "bgcolor": "white",
           "lakecolor": "white",
           "landcolor": "#E5ECF6",
           "showlakes": true,
           "showland": true,
           "subunitcolor": "white"
          },
          "hoverlabel": {
           "align": "left"
          },
          "hovermode": "closest",
          "mapbox": {
           "style": "light"
          },
          "paper_bgcolor": "white",
          "plot_bgcolor": "#E5ECF6",
          "polar": {
           "angularaxis": {
            "gridcolor": "white",
            "linecolor": "white",
            "ticks": ""
           },
           "bgcolor": "#E5ECF6",
           "radialaxis": {
            "gridcolor": "white",
            "linecolor": "white",
            "ticks": ""
           }
          },
          "scene": {
           "xaxis": {
            "backgroundcolor": "#E5ECF6",
            "gridcolor": "white",
            "gridwidth": 2,
            "linecolor": "white",
            "showbackground": true,
            "ticks": "",
            "zerolinecolor": "white"
           },
           "yaxis": {
            "backgroundcolor": "#E5ECF6",
            "gridcolor": "white",
            "gridwidth": 2,
            "linecolor": "white",
            "showbackground": true,
            "ticks": "",
            "zerolinecolor": "white"
           },
           "zaxis": {
            "backgroundcolor": "#E5ECF6",
            "gridcolor": "white",
            "gridwidth": 2,
            "linecolor": "white",
            "showbackground": true,
            "ticks": "",
            "zerolinecolor": "white"
           }
          },
          "shapedefaults": {
           "line": {
            "color": "#2a3f5f"
           }
          },
          "ternary": {
           "aaxis": {
            "gridcolor": "white",
            "linecolor": "white",
            "ticks": ""
           },
           "baxis": {
            "gridcolor": "white",
            "linecolor": "white",
            "ticks": ""
           },
           "bgcolor": "#E5ECF6",
           "caxis": {
            "gridcolor": "white",
            "linecolor": "white",
            "ticks": ""
           }
          },
          "title": {
           "x": 0.05
          },
          "xaxis": {
           "automargin": true,
           "gridcolor": "white",
           "linecolor": "white",
           "ticks": "",
           "title": {
            "standoff": 15
           },
           "zerolinecolor": "white",
           "zerolinewidth": 2
          },
          "yaxis": {
           "automargin": true,
           "gridcolor": "white",
           "linecolor": "white",
           "ticks": "",
           "title": {
            "standoff": 15
           },
           "zerolinecolor": "white",
           "zerolinewidth": 2
          }
         }
        }
       }
      }
     },
     "metadata": {},
     "output_type": "display_data"
    }
   ],
   "source": [
    "fig = go.Figure()\n",
    "\n",
    "scatter = fig.add_trace(go.Scatter3d(\n",
    "    x=d3_lattice[:,0],\n",
    "    y=d3_lattice[:,1],\n",
    "    z=d3_lattice[:,2],\n",
    "    mode='markers',\n",
    "    marker = dict(\n",
    "        size=5,\n",
    "        color='blue'\n",
    "    )\n",
    "))\n",
    "\n",
    "scatter_io = fig.add_trace(go.Scatter3d(\n",
    "    x=io_lattice[:,0],\n",
    "    y=io_lattice[:,1],\n",
    "    z=io_lattice[:,2],\n",
    "    mode='markers',\n",
    "    marker = dict(\n",
    "        size=5,\n",
    "        color='red'\n",
    "    )\n",
    "))\n",
    "\n",
    "fig.update_layout(\n",
    "    scene=dict(\n",
    "        xaxis=dict(title='', range=[2.4, 4.1]),  \n",
    "        yaxis=dict(title='', range=[2.4, 4.1]), \n",
    "        zaxis=dict(title='', range=[2.4, 4.1])  \n",
    "    )\n",
    ")\n",
    "\n",
    "fig.show()"
   ]
  },
  {
   "cell_type": "code",
   "execution_count": 38,
   "metadata": {},
   "outputs": [],
   "source": [
    "io_lattice = d3_lattice + np.array([1/2,1/2,1/2])"
   ]
  },
  {
   "cell_type": "code",
   "execution_count": 18,
   "metadata": {},
   "outputs": [
    {
     "ename": "IndexError",
     "evalue": "list index out of range",
     "output_type": "error",
     "traceback": [
      "\u001b[1;31m---------------------------------------------------------------------------\u001b[0m",
      "\u001b[1;31mIndexError\u001b[0m                                Traceback (most recent call last)",
      "Input \u001b[1;32mIn [18]\u001b[0m, in \u001b[0;36m<cell line: 7>\u001b[1;34m()\u001b[0m\n\u001b[0;32m      1\u001b[0m fig \u001b[38;5;241m=\u001b[39m px\u001b[38;5;241m.\u001b[39mscatter_3d(x \u001b[38;5;241m=\u001b[39m io_lattice[:,\u001b[38;5;241m0\u001b[39m],\n\u001b[0;32m      2\u001b[0m                     y \u001b[38;5;241m=\u001b[39m io_lattice[:,\u001b[38;5;241m1\u001b[39m],\n\u001b[0;32m      3\u001b[0m                     z \u001b[38;5;241m=\u001b[39m io_lattice[:,\u001b[38;5;241m2\u001b[39m])\n\u001b[0;32m      4\u001b[0m \u001b[38;5;66;03m#              range_x = (-0.1,1.1),\u001b[39;00m\n\u001b[0;32m      5\u001b[0m \u001b[38;5;66;03m#              range_y = (-0.1,1.1),\u001b[39;00m\n\u001b[0;32m      6\u001b[0m \u001b[38;5;66;03m#              range_z = (-0.1,1.1))\u001b[39;00m\n\u001b[1;32m----> 7\u001b[0m \u001b[43mfig\u001b[49m\u001b[38;5;241;43m.\u001b[39;49m\u001b[43mupdate_traces\u001b[49m\u001b[43m(\u001b[49m\u001b[43mmarker_size\u001b[49m\u001b[43m \u001b[49m\u001b[38;5;241;43m=\u001b[39;49m\u001b[43m \u001b[49m\u001b[38;5;241;43m5\u001b[39;49m\u001b[43m,\u001b[49m\u001b[43m \u001b[49m\u001b[43mcol\u001b[49m\u001b[38;5;241;43m=\u001b[39;49m\u001b[38;5;241;43m3\u001b[39;49m\u001b[43m)\u001b[49m\n\u001b[0;32m      8\u001b[0m fig\u001b[38;5;241m.\u001b[39mshow()\n",
      "File \u001b[1;32mc:\\Users\\taase\\anaconda3\\lib\\site-packages\\plotly\\graph_objs\\_figure.py:710\u001b[0m, in \u001b[0;36mFigure.update_traces\u001b[1;34m(self, patch, selector, row, col, secondary_y, overwrite, **kwargs)\u001b[0m\n\u001b[0;32m    647\u001b[0m \u001b[38;5;28;01mdef\u001b[39;00m \u001b[38;5;21mupdate_traces\u001b[39m(\n\u001b[0;32m    648\u001b[0m     \u001b[38;5;28mself\u001b[39m,\n\u001b[0;32m    649\u001b[0m     patch\u001b[38;5;241m=\u001b[39m\u001b[38;5;28;01mNone\u001b[39;00m,\n\u001b[1;32m   (...)\u001b[0m\n\u001b[0;32m    655\u001b[0m     \u001b[38;5;241m*\u001b[39m\u001b[38;5;241m*\u001b[39mkwargs,\n\u001b[0;32m    656\u001b[0m ) \u001b[38;5;241m-\u001b[39m\u001b[38;5;241m>\u001b[39m \u001b[38;5;124m\"\u001b[39m\u001b[38;5;124mFigure\u001b[39m\u001b[38;5;124m\"\u001b[39m:\n\u001b[0;32m    657\u001b[0m     \u001b[38;5;124;03m\"\"\"\u001b[39;00m\n\u001b[0;32m    658\u001b[0m \n\u001b[0;32m    659\u001b[0m \u001b[38;5;124;03m    Perform a property update operation on all traces that satisfy the\u001b[39;00m\n\u001b[1;32m   (...)\u001b[0m\n\u001b[0;32m    708\u001b[0m \n\u001b[0;32m    709\u001b[0m \u001b[38;5;124;03m    \"\"\"\u001b[39;00m\n\u001b[1;32m--> 710\u001b[0m     \u001b[38;5;28;01mreturn\u001b[39;00m \u001b[38;5;28msuper\u001b[39m(Figure, \u001b[38;5;28mself\u001b[39m)\u001b[38;5;241m.\u001b[39mupdate_traces(\n\u001b[0;32m    711\u001b[0m         patch, selector, row, col, secondary_y, overwrite, \u001b[38;5;241m*\u001b[39m\u001b[38;5;241m*\u001b[39mkwargs\n\u001b[0;32m    712\u001b[0m     )\n",
      "File \u001b[1;32mc:\\Users\\taase\\anaconda3\\lib\\site-packages\\plotly\\basedatatypes.py:1371\u001b[0m, in \u001b[0;36mBaseFigure.update_traces\u001b[1;34m(self, patch, selector, row, col, secondary_y, overwrite, **kwargs)\u001b[0m\n\u001b[0;32m   1310\u001b[0m \u001b[38;5;28;01mdef\u001b[39;00m \u001b[38;5;21mupdate_traces\u001b[39m(\n\u001b[0;32m   1311\u001b[0m     \u001b[38;5;28mself\u001b[39m,\n\u001b[0;32m   1312\u001b[0m     patch\u001b[38;5;241m=\u001b[39m\u001b[38;5;28;01mNone\u001b[39;00m,\n\u001b[1;32m   (...)\u001b[0m\n\u001b[0;32m   1318\u001b[0m     \u001b[38;5;241m*\u001b[39m\u001b[38;5;241m*\u001b[39mkwargs,\n\u001b[0;32m   1319\u001b[0m ):\n\u001b[0;32m   1320\u001b[0m     \u001b[38;5;124;03m\"\"\"\u001b[39;00m\n\u001b[0;32m   1321\u001b[0m \u001b[38;5;124;03m    Perform a property update operation on all traces that satisfy the\u001b[39;00m\n\u001b[0;32m   1322\u001b[0m \u001b[38;5;124;03m    specified selection criteria\u001b[39;00m\n\u001b[1;32m   (...)\u001b[0m\n\u001b[0;32m   1369\u001b[0m \u001b[38;5;124;03m        Returns the Figure object that the method was called on\u001b[39;00m\n\u001b[0;32m   1370\u001b[0m \u001b[38;5;124;03m    \"\"\"\u001b[39;00m\n\u001b[1;32m-> 1371\u001b[0m     \u001b[38;5;28;01mfor\u001b[39;00m trace \u001b[38;5;129;01min\u001b[39;00m \u001b[38;5;28;43mself\u001b[39;49m\u001b[38;5;241;43m.\u001b[39;49m\u001b[43mselect_traces\u001b[49m\u001b[43m(\u001b[49m\n\u001b[0;32m   1372\u001b[0m \u001b[43m        \u001b[49m\u001b[43mselector\u001b[49m\u001b[38;5;241;43m=\u001b[39;49m\u001b[43mselector\u001b[49m\u001b[43m,\u001b[49m\u001b[43m \u001b[49m\u001b[43mrow\u001b[49m\u001b[38;5;241;43m=\u001b[39;49m\u001b[43mrow\u001b[49m\u001b[43m,\u001b[49m\u001b[43m \u001b[49m\u001b[43mcol\u001b[49m\u001b[38;5;241;43m=\u001b[39;49m\u001b[43mcol\u001b[49m\u001b[43m,\u001b[49m\u001b[43m \u001b[49m\u001b[43msecondary_y\u001b[49m\u001b[38;5;241;43m=\u001b[39;49m\u001b[43msecondary_y\u001b[49m\n\u001b[0;32m   1373\u001b[0m \u001b[43m    \u001b[49m\u001b[43m)\u001b[49m:\n\u001b[0;32m   1374\u001b[0m         trace\u001b[38;5;241m.\u001b[39mupdate(patch, overwrite\u001b[38;5;241m=\u001b[39moverwrite, \u001b[38;5;241m*\u001b[39m\u001b[38;5;241m*\u001b[39mkwargs)\n\u001b[0;32m   1375\u001b[0m     \u001b[38;5;28;01mreturn\u001b[39;00m \u001b[38;5;28mself\u001b[39m\n",
      "File \u001b[1;32mc:\\Users\\taase\\anaconda3\\lib\\site-packages\\plotly\\basedatatypes.py:1151\u001b[0m, in \u001b[0;36mBaseFigure.select_traces\u001b[1;34m(self, selector, row, col, secondary_y)\u001b[0m\n\u001b[0;32m   1147\u001b[0m filter_by_subplot \u001b[38;5;241m=\u001b[39m \u001b[38;5;28;01mTrue\u001b[39;00m\n\u001b[0;32m   1149\u001b[0m \u001b[38;5;28;01mif\u001b[39;00m row \u001b[38;5;129;01mis\u001b[39;00m \u001b[38;5;28;01mNone\u001b[39;00m \u001b[38;5;129;01mand\u001b[39;00m col \u001b[38;5;129;01mis\u001b[39;00m \u001b[38;5;129;01mnot\u001b[39;00m \u001b[38;5;28;01mNone\u001b[39;00m:\n\u001b[0;32m   1150\u001b[0m     \u001b[38;5;66;03m# All rows for column\u001b[39;00m\n\u001b[1;32m-> 1151\u001b[0m     grid_subplot_ref_tuples \u001b[38;5;241m=\u001b[39m [ref_row[col \u001b[38;5;241m-\u001b[39m \u001b[38;5;241m1\u001b[39m] \u001b[38;5;28;01mfor\u001b[39;00m ref_row \u001b[38;5;129;01min\u001b[39;00m grid_ref]\n\u001b[0;32m   1152\u001b[0m \u001b[38;5;28;01melif\u001b[39;00m col \u001b[38;5;129;01mis\u001b[39;00m \u001b[38;5;28;01mNone\u001b[39;00m \u001b[38;5;129;01mand\u001b[39;00m row \u001b[38;5;129;01mis\u001b[39;00m \u001b[38;5;129;01mnot\u001b[39;00m \u001b[38;5;28;01mNone\u001b[39;00m:\n\u001b[0;32m   1153\u001b[0m     \u001b[38;5;66;03m# All columns for row\u001b[39;00m\n\u001b[0;32m   1154\u001b[0m     grid_subplot_ref_tuples \u001b[38;5;241m=\u001b[39m grid_ref[row \u001b[38;5;241m-\u001b[39m \u001b[38;5;241m1\u001b[39m]\n",
      "File \u001b[1;32mc:\\Users\\taase\\anaconda3\\lib\\site-packages\\plotly\\basedatatypes.py:1151\u001b[0m, in \u001b[0;36m<listcomp>\u001b[1;34m(.0)\u001b[0m\n\u001b[0;32m   1147\u001b[0m filter_by_subplot \u001b[38;5;241m=\u001b[39m \u001b[38;5;28;01mTrue\u001b[39;00m\n\u001b[0;32m   1149\u001b[0m \u001b[38;5;28;01mif\u001b[39;00m row \u001b[38;5;129;01mis\u001b[39;00m \u001b[38;5;28;01mNone\u001b[39;00m \u001b[38;5;129;01mand\u001b[39;00m col \u001b[38;5;129;01mis\u001b[39;00m \u001b[38;5;129;01mnot\u001b[39;00m \u001b[38;5;28;01mNone\u001b[39;00m:\n\u001b[0;32m   1150\u001b[0m     \u001b[38;5;66;03m# All rows for column\u001b[39;00m\n\u001b[1;32m-> 1151\u001b[0m     grid_subplot_ref_tuples \u001b[38;5;241m=\u001b[39m [\u001b[43mref_row\u001b[49m\u001b[43m[\u001b[49m\u001b[43mcol\u001b[49m\u001b[43m \u001b[49m\u001b[38;5;241;43m-\u001b[39;49m\u001b[43m \u001b[49m\u001b[38;5;241;43m1\u001b[39;49m\u001b[43m]\u001b[49m \u001b[38;5;28;01mfor\u001b[39;00m ref_row \u001b[38;5;129;01min\u001b[39;00m grid_ref]\n\u001b[0;32m   1152\u001b[0m \u001b[38;5;28;01melif\u001b[39;00m col \u001b[38;5;129;01mis\u001b[39;00m \u001b[38;5;28;01mNone\u001b[39;00m \u001b[38;5;129;01mand\u001b[39;00m row \u001b[38;5;129;01mis\u001b[39;00m \u001b[38;5;129;01mnot\u001b[39;00m \u001b[38;5;28;01mNone\u001b[39;00m:\n\u001b[0;32m   1153\u001b[0m     \u001b[38;5;66;03m# All columns for row\u001b[39;00m\n\u001b[0;32m   1154\u001b[0m     grid_subplot_ref_tuples \u001b[38;5;241m=\u001b[39m grid_ref[row \u001b[38;5;241m-\u001b[39m \u001b[38;5;241m1\u001b[39m]\n",
      "\u001b[1;31mIndexError\u001b[0m: list index out of range"
     ]
    }
   ],
   "source": [
    "fig = px.scatter_3d(x = io_lattice[:,0],\n",
    "                    y = io_lattice[:,1],\n",
    "                    z = io_lattice[:,2])\n",
    "#              range_x = (-0.1,1.1),\n",
    "#              range_y = (-0.1,1.1),\n",
    "#              range_z = (-0.1,1.1))\n",
    "fig.update_traces(marker_size = 5, col=3)\n",
    "fig.show()"
   ]
  },
  {
   "cell_type": "markdown",
   "metadata": {},
   "source": [
    "With the lattice defined, the next step is to incorporate the absorption coefficient:\n",
    "$$I(\\mathbf{k}, \\mathbf{G}) = \\sum_{i=1}^N \\sum_{j\\neq i} e^{-\\frac{\\mathbf{k}-\\mathbf{G}}{|\\mathbf{k}-\\mathbf{G}|} \\cdot \\frac{\\mathbf{r}_i - \\mathbf{r}_j}{2\\lambda}}$$\n",
    "$$= \\sum_{i,j=1}^N (1-\\delta_{ij}) e^{-\\frac{\\mathbf{k}-\\mathbf{G}}{|\\mathbf{k}-\\mathbf{G}|} \\cdot \\frac{\\mathbf{r}_i - \\mathbf{r}_j}{2\\lambda}} = \\sum_{i,j=1}^N e^{-\\frac{\\mathbf{k}-\\mathbf{G}}{|\\mathbf{k}-\\mathbf{G}|} \\cdot \\frac{\\mathbf{r}_i - \\mathbf{r}_j}{2\\lambda}} - N$$\n",
    "Major issue is that the exponent is not necessarily negative: should I consider only negative-exp values or take abs value of the exponent?\n",
    "\n",
    "First implementation can just take $\\mathbf{k}-\\mathbf{G} \\propto \\hat{\\mathbf{x}}$, so take the first element of each r-vector. Mean free path can be estimated at like 100 $\\mu m$.\n",
    "# Take absolute value in exponential (they literally forgot it)\n",
    "For a crystal on the order 10cm, $\\frac{\\mathbf{r}_i - \\mathbf{r}_j}{2\\lambda}$ is on the order 1000"
   ]
  },
  {
   "cell_type": "code",
   "execution_count": 37,
   "metadata": {},
   "outputs": [
    {
     "data": {
      "text/plain": [
       "3.6441964702110125e-07"
      ]
     },
     "execution_count": 37,
     "metadata": {},
     "output_type": "execute_result"
    }
   ],
   "source": [
    "np.sum(np.exp(-50*np.abs(diffs[diffs[:,0] != 0][:,0])))"
   ]
  },
  {
   "cell_type": "code",
   "execution_count": 26,
   "metadata": {},
   "outputs": [
    {
     "data": {
      "text/plain": [
       "365"
      ]
     },
     "execution_count": 26,
     "metadata": {},
     "output_type": "execute_result"
    }
   ],
   "source": [
    "len(d3_lattice)"
   ]
  },
  {
   "cell_type": "code",
   "execution_count": null,
   "metadata": {},
   "outputs": [],
   "source": []
  }
 ],
 "metadata": {
  "kernelspec": {
   "display_name": "base",
   "language": "python",
   "name": "python3"
  },
  "language_info": {
   "codemirror_mode": {
    "name": "ipython",
    "version": 3
   },
   "file_extension": ".py",
   "mimetype": "text/x-python",
   "name": "python",
   "nbconvert_exporter": "python",
   "pygments_lexer": "ipython3",
   "version": "3.9.13"
  }
 },
 "nbformat": 4,
 "nbformat_minor": 2
}
