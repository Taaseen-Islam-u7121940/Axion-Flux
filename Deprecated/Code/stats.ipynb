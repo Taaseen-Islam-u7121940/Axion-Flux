{
 "cells": [
  {
   "cell_type": "code",
   "execution_count": 2,
   "metadata": {},
   "outputs": [],
   "source": [
    "import numpy as np\n",
    "import matplotlib.pyplot as plt\n",
    "from scipy.special import factorial as fact\n",
    "from scipy.optimize import root_scalar\n",
    "\n",
    "from axion_functions import *"
   ]
  },
  {
   "cell_type": "code",
   "execution_count": 3,
   "metadata": {},
   "outputs": [],
   "source": [
    "def poisson(n, mu=1):\n",
    "    return mu**n*np.exp(-mu)/fact(n)\n",
    "\n",
    "def stdist(x, mu=1):\n",
    "    sigma = np.sqrt(mu)\n",
    "    return 1/(np.sqrt(2*np.pi)*sigma) * np.exp(-1/2*((x-mu)/sigma)**2)\n",
    "\n",
    "cpd_to_count=365*3*50"
   ]
  },
  {
   "cell_type": "code",
   "execution_count": 6,
   "metadata": {},
   "outputs": [
    {
     "data": {
      "text/plain": [
       "131400.0"
      ]
     },
     "execution_count": 6,
     "metadata": {},
     "output_type": "execute_result"
    }
   ],
   "source": [
    "N_bg = 0.6*4*cpd_to_count\n",
    "N_bg"
   ]
  },
  {
   "cell_type": "code",
   "execution_count": 7,
   "metadata": {},
   "outputs": [],
   "source": [
    "pfunc = lambda n_max: sum(stdist(np.arange(0, n_max, 1), mu=N_bg)) - 0.95\n",
    "sfunc = lambda n_max: np.trapz(stdist(np.arange(0, n_max, 1)), np.arange(0, n_max, 1)) - 0.95"
   ]
  },
  {
   "cell_type": "code",
   "execution_count": 8,
   "metadata": {},
   "outputs": [
    {
     "data": {
      "text/plain": [
       "710.4831032473608"
      ]
     },
     "execution_count": 8,
     "metadata": {},
     "output_type": "execute_result"
    }
   ],
   "source": [
    "n = 1.96*np.sqrt(N_bg)\n",
    "n"
   ]
  },
  {
   "cell_type": "code",
   "execution_count": 9,
   "metadata": {},
   "outputs": [
    {
     "data": {
      "text/plain": [
       "4.825176858144875e-10"
      ]
     },
     "execution_count": 9,
     "metadata": {},
     "output_type": "execute_result"
    }
   ],
   "source": [
    "(n/3)**(1/4)*1.23e-10"
   ]
  },
  {
   "cell_type": "code",
   "execution_count": 10,
   "metadata": {},
   "outputs": [
    {
     "data": {
      "text/plain": [
       "0.012976860333285128"
      ]
     },
     "execution_count": 10,
     "metadata": {},
     "output_type": "execute_result"
    }
   ],
   "source": [
    "n/cpd_to_count"
   ]
  },
  {
   "cell_type": "code",
   "execution_count": 11,
   "metadata": {},
   "outputs": [
    {
     "data": {
      "text/plain": [
       "9.651030446110687e-10"
      ]
     },
     "execution_count": 11,
     "metadata": {},
     "output_type": "execute_result"
    }
   ],
   "source": [
    "#ma1 3 years\n",
    "4.0928315871993565e-10\n",
    "# ma5 3 years \n",
    "4.781875881858486e-10\n",
    "#ma10 3 years\n",
    "9.651030446110687e-10\n",
    "\n",
    "#ma1 5 years\n",
    "4.323272127330846e-10\n",
    "#ma5 5 years\n",
    "5.051111993235168e-10\n",
    "#ma10 5 years\n",
    "1.0194416759826327e-09\n",
    "\n",
    "#Need 10 years?"
   ]
  }
 ],
 "metadata": {
  "kernelspec": {
   "display_name": "base",
   "language": "python",
   "name": "python3"
  },
  "language_info": {
   "codemirror_mode": {
    "name": "ipython",
    "version": 3
   },
   "file_extension": ".py",
   "mimetype": "text/x-python",
   "name": "python",
   "nbconvert_exporter": "python",
   "pygments_lexer": "ipython3",
   "version": "3.9.13"
  }
 },
 "nbformat": 4,
 "nbformat_minor": 2
}
